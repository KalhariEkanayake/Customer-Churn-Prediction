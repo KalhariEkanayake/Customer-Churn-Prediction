{
 "cells": [
  {
   "cell_type": "markdown",
   "id": "f7708637",
   "metadata": {},
   "source": [
    "# <div class=\"alert-danger\"><center> Customer Churn Prediction in Telecommunication Industry </center></div>"
   ]
  },
  {
   "cell_type": "markdown",
   "id": "cc646aec",
   "metadata": {},
   "source": [
    "![Customer_Churn_Prediction](img\\churn.png)"
   ]
  },
  {
   "cell_type": "markdown",
   "id": "d77539f2",
   "metadata": {},
   "source": [
    "## Application Area Review"
   ]
  },
  {
   "cell_type": "markdown",
   "id": "3c5e9d99",
   "metadata": {},
   "source": [
    "### Literature Review\n",
    "\n",
    "Churn prediction has been a major research area for several decades. Recently, the topic of customer churn prediction has been discussed extensively in a number of domains such as telecommunications (Kisioglu and Topcu, 2010, Tsai and Lu, 2009, Verbeke et al., 2011, Verbeke et al., 2011), retail markets (Baesens et al., 2004, Buckinx and Van den Poel, 2005), subscription management (Burez and Van den Poel, 2007, Coussement and Van den Poel, 2008a), financial services (Glady et al., 2009) and electronic commerce (Yu et al., 2010). Many data mining techniques have been successfully applied in customer churn prediction. These techniques include artificial neural networks (ANNs) (Tsai and Lu, 2009), decision trees (Qi et al., 2009), Bayesian networks (Baesens et al., 2004, Kisioglu and Topcu, 2010), logistic regression (Buckinx and Van den Poel, 2005, Burez and Van den Poel, 2007), AdaBoosting (Glady et al., 2009), random forest (Buckinx and Van den Poel, 2005, Burez and Van den Poel, 2007), the proportional hazard model (Van den Poel and Larivière, 2004) and SVMs. Lessmann and Voß (2008) gave a detailed review on this topic.\n",
    "\n",
    "The service companies of telecommunication service businesses in particular suffer from a loss of valuable customers to competitors. In the last few years, there have been many changes in the telecommunications industry, such as, the liberalisation of the market opening up competition in the market, new services and new technologies. The churn of customers causes a huge loss of telecommunication services and it becomes a very serious problem.\n",
    "\n",
    "Generally, the features used for churn prediction in mobile telecommunication industry includes customer demographics, contractual data, customer service logs, call details, complaint data, bill and payment information (Hadden et al., 2006, Hung et al., 2006, John et al., 2007, Luo et al., 2007, Wei and Chiu, 2002). In contrast to the mobiles services, there are less amounts of qualified information for land-line services providers (Luo et al., 2007, Zhang et al., 2006). The data of land-line communication services is different to mobile services. Some of this data is missing, less reliable or incomplete in land-line communication service providers. For instances, customer ages and complaint data, fault reports are unavailable and only the call details of a few months are available. Due to business confidentiality and privacy, there are no public datasets for churn prediction. For churn prediction in the land-line telecommunication service field, Luo et al. (Luo et al., 2007, Zhang et al., 2006) presented a set of features, which are the duration of service use, payment type, the amount and structure of monthly service fees, Proportions variables, consumption level rates variables and the growth rates of the second three months. However, the call details can be further divided into more precise information, according to different types of calls (e.g. international, local, mobile phone, and national calls). This more precise information might be more useful than the existing features of call details for churn prediction.\n",
    "\n",
    "**WHAT IS CUSTOMER CHURN** -\n",
    "Customer attrition, also known as customer churn, customer turnover, or customer defections, is the loss of clients or customers. Telecommunication companies often use customer attrition analysis and customer attrition rates as one of their key business metrics because the cost of retaining an existing customer is far less than acquiring a new one. Customer churn is when a customer decides to stop using services, content, or products from a company. Reasons for customer churn can be various and the most typical one are poor customer service, not finding enough value in a product or service, lack of customer loyalty and lack of communications."
   ]
  },
  {
   "cell_type": "markdown",
   "id": "d738b8e2",
   "metadata": {},
   "source": [
    "### Life Cycle for Customer Churn\n",
    "\n",
    "![Life_Cycle_for_Customer_Churn](img\\LifeCycleforCustomerChurn.png)"
   ]
  },
  {
   "cell_type": "markdown",
   "id": "5931b67c",
   "metadata": {},
   "source": [
    "#### PROBLEM STATEMENT\n",
    "\n",
    "Before spending time trying to solve a business problem, we have to be sure that we have a problem. For that we need to have meetings with the people close to the business problem and the stakeholders.\n",
    "We had two meetings, one with HR and the other with the main executives. \n",
    "\n",
    "This is what we heard:\n",
    "* Customers are leaving but we don't know why.\n",
    "* We have 1 month of data for customers where we know which ones stayed and which ones left.\n",
    "* The customer churn can't surpass 15% per year due to our calculations.\n",
    "* We don't know the financial impact on losing a customer\n",
    "* We can give a voucher for dollar 500 for customers identified as churn.\n",
    "* The estimated life time value for a customer is dollar 7500.\n",
    "\n",
    "For this reason, large telecommunications corporations are seeking to develop models to predict which customers are more likely to change and take actions accordingly.\n",
    "After those meetings we have to check the existing data in the company and find useful information in it. Let's assume we did it and after a data integration process we created a comprehensive dataset for our customers and their information. "
   ]
  },
  {
   "cell_type": "markdown",
   "id": "41561103",
   "metadata": {},
   "source": [
    "Many approaches were applied to predict churn in telecom companies. Most of these approaches have used machine learning and data mining. The majority of related work focused on applying only one method of data mining to extract knowledge, and the others focused on comparing several strategies to predict churn.\n",
    "\n",
    "#### SOLUTION STATEMENT\n",
    "\n",
    "Identified the usage and behavioral patterns of users and developed a model to predict the probability of telecom customers churn.\n",
    "\n",
    "Therefore, in this project, will train several classification algorithms such as Logistic Regression, Support Vector Machine, K-Nearest Neighbors, Random Forest Classifier, Gradient Boosting and Artificial Neural Network to predict the churn rate of Telecommunication Customers. Machine learning help companies analyze customer churn rate based on several factors such as services subscribed by customers, tenure rate, and payment method. The experimental results show that the presented features and seven modelling techniques are more effective than the existing features for the customer churn prediction in land-line communicational services."
   ]
  },
  {
   "cell_type": "markdown",
   "id": "b98e9069",
   "metadata": {},
   "source": [
    "### Flow of the Project\n",
    "\n",
    "![Flow_of the_Project](img\\Follow.png)\n",
    "\n",
    "1. Data Reading\n",
    "2. Exploratory Data Analysis and Data Cleaning\n",
    "3. Data Visualization\n",
    "4. Feature Importance\n",
    "5. Feature Engineering\n",
    "6. Setting a baseline\n",
    "7. Splitting the data in training and testing sets\n",
    "8. Assessing multiple algorithms\n",
    "9. Algorithm selected\n",
    "10. Hyperparameter tuning\n",
    "11. Performance of the model\n",
    "12. Summary"
   ]
  },
  {
   "cell_type": "markdown",
   "id": "940a3155",
   "metadata": {},
   "source": [
    "## <div class=\"alert-info\"> <center> High Level Diagram </center> </div>\n",
    "\n",
    "![High-Level-Diagram](img\\High-Level-Diagram.png)"
   ]
  },
  {
   "cell_type": "markdown",
   "id": "aa7de671",
   "metadata": {},
   "source": [
    "### Dataset"
   ]
  },
  {
   "cell_type": "markdown",
   "id": "7546baac",
   "metadata": {},
   "source": [
    "Link for Dataset:- [telco_customer_churn](https://drive.google.com/drive/folders/1eUFGYB1Ep11vPNCjx6oXYU7ZlXRgyjCt?usp=sharing) (Downloaded from Kaggle)<br>\n",
    "Records : 7043 <br>\n",
    "Variables : 21 <br>"
   ]
  },
  {
   "cell_type": "markdown",
   "id": "740e2eb0",
   "metadata": {},
   "source": [
    "### The data set includes information about:\n",
    "\n",
    "* Customers who left within the last month - the column is called Churn.\n",
    "* Services that each customer has signed up for – phone, multiple lines, internet, online security, online backup, device protection, tech support, and streaming TV and movies.\n",
    "* Customer account information – how long they’ve been a customer, contract, payment method, paperless billing, monthly charges, and total charges.\n",
    "* Demographic info about customers – gender, age range, and if they have partners and dependents"
   ]
  },
  {
   "cell_type": "markdown",
   "id": "6e9524b6",
   "metadata": {},
   "source": [
    "### Variable Information :\n",
    "\n",
    "**customerID** –Anonymized unique ID <br>\n",
    "**Gender** - Categorical (Male/Female) <br>\n",
    "**SeniorCitizen** - Categorical (0/1) <br>\n",
    "**Partner** – Whether the customer has a partner or not (Yes, No) <br>\n",
    "**Dependents** – Whether the customer has dependents or not (Yes, No) <br>\n",
    "**tensure** – Number of months the customer has stayed with the company <br>\n",
    "**PhoneService** – Whether the customer has a phone service or not (Yes, No) <br>\n",
    "**MultipleLines** – Whether the customer has multiple lines or not (Yes, No, No phone service) <br>\n",
    "**InternetService** – Customer’s internet service provider (DSL, Fiber optic, No) <br>\n",
    "**OnlineSecurity** – Whether the customer has online security or not (Yes, No, No internet service) <br>\n",
    "**OnlineBackup** – Whether the customer has online backup or not (Yes, No, No internet service) <br>\n",
    "**DeviceProtection** - Whether the customer has device protection or not (Yes, No, No internet service) <br>\n",
    "**TechSupport** – Whether the customer has tech support or not (Yes, No, No internet service) <br>\n",
    "**StreamingTV** – Whether the customer has streaming TV or not (Yes, No, No internet service) <br>\n",
    "**StreamingMovies** – Whether the customer has streaming movies or not (Yes, No, No internet service) <br>\n",
    "**Contract** – The contract term of the customer (Month-to-month, One year, Two year) <br>\n",
    "**PaperlessBilling** – Whether the customer has paperless billing or not (Yes, No) <br>\n",
    "**PaymentMethod** – The customer’s payment method (Electronic check, Mailed check, Bank transfer (automatic), Credit card (automatic)) <br>\n",
    "**MonthlyCharges** – The amount charged to the customer monthly <br>\n",
    "**TotalCharges** – The total amount charged to the customer <br>\n",
    "**Churn** – yes or no <br>"
   ]
  },
  {
   "cell_type": "code",
   "execution_count": 419,
   "id": "912d0b34",
   "metadata": {},
   "outputs": [],
   "source": [
    "#Importing libraries\n",
    "import pandas as pd             #data processing, CSV file I/O\n",
    "import numpy as np              #liner algebra\n",
    "import matplotlib.pyplot as plt #visualization\n",
    "%matplotlib inline"
   ]
  },
  {
   "cell_type": "markdown",
   "id": "f39b3690",
   "metadata": {},
   "source": [
    "### Data Reading"
   ]
  },
  {
   "cell_type": "code",
   "execution_count": 420,
   "id": "1540db7c",
   "metadata": {},
   "outputs": [],
   "source": [
    "# import telecom dataset into a pandas data frame\n",
    "df_telco = pd.read_csv(r\"C:\\Users\\kalha\\Applied AI\\CW02\\WA_Fn-UseC_-Telco-Customer-Churn.csv\")"
   ]
  },
  {
   "cell_type": "code",
   "execution_count": 421,
   "id": "fed7239a",
   "metadata": {},
   "outputs": [
    {
     "data": {
      "text/plain": [
       "Index(['customerID', 'gender', 'SeniorCitizen', 'Partner', 'Dependents',\n",
       "       'tenure', 'PhoneService', 'MultipleLines', 'InternetService',\n",
       "       'OnlineSecurity', 'OnlineBackup', 'DeviceProtection', 'TechSupport',\n",
       "       'StreamingTV', 'StreamingMovies', 'Contract', 'PaperlessBilling',\n",
       "       'PaymentMethod', 'MonthlyCharges', 'TotalCharges', 'Churn'],\n",
       "      dtype='object')"
      ]
     },
     "execution_count": 421,
     "metadata": {},
     "output_type": "execute_result"
    }
   ],
   "source": [
    "# visualize column names\n",
    "df_telco.columns"
   ]
  },
  {
   "cell_type": "code",
   "execution_count": 422,
   "id": "3960b033",
   "metadata": {},
   "outputs": [
    {
     "name": "stdout",
     "output_type": "stream",
     "text": [
      "Column: customerID - Unique Values: ['7590-VHVEG' '5575-GNVDE' '3668-QPYBK' ... '4801-JZAZL' '8361-LTMKD'\n",
      " '3186-AJIEK']\n",
      "Column: gender - Unique Values: ['Female' 'Male']\n",
      "Column: SeniorCitizen - Unique Values: [0 1]\n",
      "Column: Partner - Unique Values: ['Yes' 'No']\n",
      "Column: Dependents - Unique Values: ['No' 'Yes']\n",
      "Column: tenure - Unique Values: [ 1 34  2 45  8 22 10 28 62 13 16 58 49 25 69 52 71 21 12 30 47 72 17 27\n",
      "  5 46 11 70 63 43 15 60 18 66  9  3 31 50 64 56  7 42 35 48 29 65 38 68\n",
      " 32 55 37 36 41  6  4 33 67 23 57 61 14 20 53 40 59 24 44 19 54 51 26  0\n",
      " 39]\n",
      "Column: PhoneService - Unique Values: ['No' 'Yes']\n",
      "Column: MultipleLines - Unique Values: ['No phone service' 'No' 'Yes']\n",
      "Column: InternetService - Unique Values: ['DSL' 'Fiber optic' 'No']\n",
      "Column: OnlineSecurity - Unique Values: ['No' 'Yes' 'No internet service']\n",
      "Column: OnlineBackup - Unique Values: ['Yes' 'No' 'No internet service']\n",
      "Column: DeviceProtection - Unique Values: ['No' 'Yes' 'No internet service']\n",
      "Column: TechSupport - Unique Values: ['No' 'Yes' 'No internet service']\n",
      "Column: StreamingTV - Unique Values: ['No' 'Yes' 'No internet service']\n",
      "Column: StreamingMovies - Unique Values: ['No' 'Yes' 'No internet service']\n",
      "Column: Contract - Unique Values: ['Month-to-month' 'One year' 'Two year']\n",
      "Column: PaperlessBilling - Unique Values: ['Yes' 'No']\n",
      "Column: PaymentMethod - Unique Values: ['Electronic check' 'Mailed check' 'Bank transfer (automatic)'\n",
      " 'Credit card (automatic)']\n",
      "Column: MonthlyCharges - Unique Values: [29.85 56.95 53.85 ... 63.1  44.2  78.7 ]\n",
      "Column: TotalCharges - Unique Values: ['29.85' '1889.5' '108.15' ... '346.45' '306.6' '6844.5']\n",
      "Column: Churn - Unique Values: ['No' 'Yes']\n"
     ]
    }
   ],
   "source": [
    "# check unique values of each column\n",
    "for column in df_telco.columns:\n",
    "    print('Column: {} - Unique Values: {}'.format(column, df_telco[column].unique()))"
   ]
  },
  {
   "cell_type": "markdown",
   "id": "004eaa82",
   "metadata": {},
   "source": [
    "As shown above, the data set contains 19 independent variables, which can be classified into 3 groups such as Demographic Information, Customer Account Information, Services Information."
   ]
  },
  {
   "cell_type": "markdown",
   "id": "a8fcf46d",
   "metadata": {},
   "source": [
    "### Exploratory Data Analysis and Data Cleaning\n",
    "\n",
    "#### Missing values and data types"
   ]
  },
  {
   "cell_type": "code",
   "execution_count": 423,
   "id": "d21dbb2b",
   "metadata": {},
   "outputs": [
    {
     "name": "stdout",
     "output_type": "stream",
     "text": [
      "<class 'pandas.core.frame.DataFrame'>\n",
      "RangeIndex: 7043 entries, 0 to 7042\n",
      "Data columns (total 21 columns):\n",
      " #   Column            Non-Null Count  Dtype  \n",
      "---  ------            --------------  -----  \n",
      " 0   customerID        7043 non-null   object \n",
      " 1   gender            7043 non-null   object \n",
      " 2   SeniorCitizen     7043 non-null   int64  \n",
      " 3   Partner           7043 non-null   object \n",
      " 4   Dependents        7043 non-null   object \n",
      " 5   tenure            7043 non-null   int64  \n",
      " 6   PhoneService      7043 non-null   object \n",
      " 7   MultipleLines     7043 non-null   object \n",
      " 8   InternetService   7043 non-null   object \n",
      " 9   OnlineSecurity    7043 non-null   object \n",
      " 10  OnlineBackup      7043 non-null   object \n",
      " 11  DeviceProtection  7043 non-null   object \n",
      " 12  TechSupport       7043 non-null   object \n",
      " 13  StreamingTV       7043 non-null   object \n",
      " 14  StreamingMovies   7043 non-null   object \n",
      " 15  Contract          7043 non-null   object \n",
      " 16  PaperlessBilling  7043 non-null   object \n",
      " 17  PaymentMethod     7043 non-null   object \n",
      " 18  MonthlyCharges    7043 non-null   float64\n",
      " 19  TotalCharges      7043 non-null   object \n",
      " 20  Churn             7043 non-null   object \n",
      "dtypes: float64(1), int64(2), object(18)\n",
      "memory usage: 1.1+ MB\n"
     ]
    }
   ],
   "source": [
    "# summary of the data frame\n",
    "df_telco.info()"
   ]
  },
  {
   "cell_type": "markdown",
   "id": "d957d657",
   "metadata": {},
   "source": [
    "As shown above, the data set contains 7043 observations and 21 columns. However, we observe that the column **TotalCharges** was wrongly detected as an object. This column represents the total amount charged to the customer and it is, therefore, a numeric variable. For further analysis, we need to transform this column into a numeric data type (float)."
   ]
  },
  {
   "cell_type": "code",
   "execution_count": 424,
   "id": "7c9ec678",
   "metadata": {},
   "outputs": [],
   "source": [
    "# transform the column TotalCharges into a numeric data type\n",
    "df_telco['TotalCharges'] = pd.to_numeric(df_telco['TotalCharges'], errors='coerce')"
   ]
  },
  {
   "cell_type": "code",
   "execution_count": 425,
   "id": "1b48afa9",
   "metadata": {},
   "outputs": [
    {
     "data": {
      "text/html": [
       "<div>\n",
       "<style scoped>\n",
       "    .dataframe tbody tr th:only-of-type {\n",
       "        vertical-align: middle;\n",
       "    }\n",
       "\n",
       "    .dataframe tbody tr th {\n",
       "        vertical-align: top;\n",
       "    }\n",
       "\n",
       "    .dataframe thead th {\n",
       "        text-align: right;\n",
       "    }\n",
       "</style>\n",
       "<table border=\"1\" class=\"dataframe\">\n",
       "  <thead>\n",
       "    <tr style=\"text-align: right;\">\n",
       "      <th></th>\n",
       "      <th>customerID</th>\n",
       "      <th>gender</th>\n",
       "      <th>SeniorCitizen</th>\n",
       "      <th>Partner</th>\n",
       "      <th>Dependents</th>\n",
       "      <th>tenure</th>\n",
       "      <th>PhoneService</th>\n",
       "      <th>MultipleLines</th>\n",
       "      <th>InternetService</th>\n",
       "      <th>OnlineSecurity</th>\n",
       "      <th>...</th>\n",
       "      <th>DeviceProtection</th>\n",
       "      <th>TechSupport</th>\n",
       "      <th>StreamingTV</th>\n",
       "      <th>StreamingMovies</th>\n",
       "      <th>Contract</th>\n",
       "      <th>PaperlessBilling</th>\n",
       "      <th>PaymentMethod</th>\n",
       "      <th>MonthlyCharges</th>\n",
       "      <th>TotalCharges</th>\n",
       "      <th>Churn</th>\n",
       "    </tr>\n",
       "  </thead>\n",
       "  <tbody>\n",
       "    <tr>\n",
       "      <th>488</th>\n",
       "      <td>4472-LVYGI</td>\n",
       "      <td>Female</td>\n",
       "      <td>0</td>\n",
       "      <td>Yes</td>\n",
       "      <td>Yes</td>\n",
       "      <td>0</td>\n",
       "      <td>No</td>\n",
       "      <td>No phone service</td>\n",
       "      <td>DSL</td>\n",
       "      <td>Yes</td>\n",
       "      <td>...</td>\n",
       "      <td>Yes</td>\n",
       "      <td>Yes</td>\n",
       "      <td>Yes</td>\n",
       "      <td>No</td>\n",
       "      <td>Two year</td>\n",
       "      <td>Yes</td>\n",
       "      <td>Bank transfer (automatic)</td>\n",
       "      <td>52.55000</td>\n",
       "      <td>NaN</td>\n",
       "      <td>No</td>\n",
       "    </tr>\n",
       "    <tr>\n",
       "      <th>753</th>\n",
       "      <td>3115-CZMZD</td>\n",
       "      <td>Male</td>\n",
       "      <td>0</td>\n",
       "      <td>No</td>\n",
       "      <td>Yes</td>\n",
       "      <td>0</td>\n",
       "      <td>Yes</td>\n",
       "      <td>No</td>\n",
       "      <td>No</td>\n",
       "      <td>No internet service</td>\n",
       "      <td>...</td>\n",
       "      <td>No internet service</td>\n",
       "      <td>No internet service</td>\n",
       "      <td>No internet service</td>\n",
       "      <td>No internet service</td>\n",
       "      <td>Two year</td>\n",
       "      <td>No</td>\n",
       "      <td>Mailed check</td>\n",
       "      <td>20.25000</td>\n",
       "      <td>NaN</td>\n",
       "      <td>No</td>\n",
       "    </tr>\n",
       "    <tr>\n",
       "      <th>936</th>\n",
       "      <td>5709-LVOEQ</td>\n",
       "      <td>Female</td>\n",
       "      <td>0</td>\n",
       "      <td>Yes</td>\n",
       "      <td>Yes</td>\n",
       "      <td>0</td>\n",
       "      <td>Yes</td>\n",
       "      <td>No</td>\n",
       "      <td>DSL</td>\n",
       "      <td>Yes</td>\n",
       "      <td>...</td>\n",
       "      <td>Yes</td>\n",
       "      <td>No</td>\n",
       "      <td>Yes</td>\n",
       "      <td>Yes</td>\n",
       "      <td>Two year</td>\n",
       "      <td>No</td>\n",
       "      <td>Mailed check</td>\n",
       "      <td>80.85000</td>\n",
       "      <td>NaN</td>\n",
       "      <td>No</td>\n",
       "    </tr>\n",
       "    <tr>\n",
       "      <th>1082</th>\n",
       "      <td>4367-NUYAO</td>\n",
       "      <td>Male</td>\n",
       "      <td>0</td>\n",
       "      <td>Yes</td>\n",
       "      <td>Yes</td>\n",
       "      <td>0</td>\n",
       "      <td>Yes</td>\n",
       "      <td>Yes</td>\n",
       "      <td>No</td>\n",
       "      <td>No internet service</td>\n",
       "      <td>...</td>\n",
       "      <td>No internet service</td>\n",
       "      <td>No internet service</td>\n",
       "      <td>No internet service</td>\n",
       "      <td>No internet service</td>\n",
       "      <td>Two year</td>\n",
       "      <td>No</td>\n",
       "      <td>Mailed check</td>\n",
       "      <td>25.75000</td>\n",
       "      <td>NaN</td>\n",
       "      <td>No</td>\n",
       "    </tr>\n",
       "    <tr>\n",
       "      <th>1340</th>\n",
       "      <td>1371-DWPAZ</td>\n",
       "      <td>Female</td>\n",
       "      <td>0</td>\n",
       "      <td>Yes</td>\n",
       "      <td>Yes</td>\n",
       "      <td>0</td>\n",
       "      <td>No</td>\n",
       "      <td>No phone service</td>\n",
       "      <td>DSL</td>\n",
       "      <td>Yes</td>\n",
       "      <td>...</td>\n",
       "      <td>Yes</td>\n",
       "      <td>Yes</td>\n",
       "      <td>Yes</td>\n",
       "      <td>No</td>\n",
       "      <td>Two year</td>\n",
       "      <td>No</td>\n",
       "      <td>Credit card (automatic)</td>\n",
       "      <td>56.05000</td>\n",
       "      <td>NaN</td>\n",
       "      <td>No</td>\n",
       "    </tr>\n",
       "    <tr>\n",
       "      <th>3331</th>\n",
       "      <td>7644-OMVMY</td>\n",
       "      <td>Male</td>\n",
       "      <td>0</td>\n",
       "      <td>Yes</td>\n",
       "      <td>Yes</td>\n",
       "      <td>0</td>\n",
       "      <td>Yes</td>\n",
       "      <td>No</td>\n",
       "      <td>No</td>\n",
       "      <td>No internet service</td>\n",
       "      <td>...</td>\n",
       "      <td>No internet service</td>\n",
       "      <td>No internet service</td>\n",
       "      <td>No internet service</td>\n",
       "      <td>No internet service</td>\n",
       "      <td>Two year</td>\n",
       "      <td>No</td>\n",
       "      <td>Mailed check</td>\n",
       "      <td>19.85000</td>\n",
       "      <td>NaN</td>\n",
       "      <td>No</td>\n",
       "    </tr>\n",
       "    <tr>\n",
       "      <th>3826</th>\n",
       "      <td>3213-VVOLG</td>\n",
       "      <td>Male</td>\n",
       "      <td>0</td>\n",
       "      <td>Yes</td>\n",
       "      <td>Yes</td>\n",
       "      <td>0</td>\n",
       "      <td>Yes</td>\n",
       "      <td>Yes</td>\n",
       "      <td>No</td>\n",
       "      <td>No internet service</td>\n",
       "      <td>...</td>\n",
       "      <td>No internet service</td>\n",
       "      <td>No internet service</td>\n",
       "      <td>No internet service</td>\n",
       "      <td>No internet service</td>\n",
       "      <td>Two year</td>\n",
       "      <td>No</td>\n",
       "      <td>Mailed check</td>\n",
       "      <td>25.35000</td>\n",
       "      <td>NaN</td>\n",
       "      <td>No</td>\n",
       "    </tr>\n",
       "    <tr>\n",
       "      <th>4380</th>\n",
       "      <td>2520-SGTTA</td>\n",
       "      <td>Female</td>\n",
       "      <td>0</td>\n",
       "      <td>Yes</td>\n",
       "      <td>Yes</td>\n",
       "      <td>0</td>\n",
       "      <td>Yes</td>\n",
       "      <td>No</td>\n",
       "      <td>No</td>\n",
       "      <td>No internet service</td>\n",
       "      <td>...</td>\n",
       "      <td>No internet service</td>\n",
       "      <td>No internet service</td>\n",
       "      <td>No internet service</td>\n",
       "      <td>No internet service</td>\n",
       "      <td>Two year</td>\n",
       "      <td>No</td>\n",
       "      <td>Mailed check</td>\n",
       "      <td>20.00000</td>\n",
       "      <td>NaN</td>\n",
       "      <td>No</td>\n",
       "    </tr>\n",
       "    <tr>\n",
       "      <th>5218</th>\n",
       "      <td>2923-ARZLG</td>\n",
       "      <td>Male</td>\n",
       "      <td>0</td>\n",
       "      <td>Yes</td>\n",
       "      <td>Yes</td>\n",
       "      <td>0</td>\n",
       "      <td>Yes</td>\n",
       "      <td>No</td>\n",
       "      <td>No</td>\n",
       "      <td>No internet service</td>\n",
       "      <td>...</td>\n",
       "      <td>No internet service</td>\n",
       "      <td>No internet service</td>\n",
       "      <td>No internet service</td>\n",
       "      <td>No internet service</td>\n",
       "      <td>One year</td>\n",
       "      <td>Yes</td>\n",
       "      <td>Mailed check</td>\n",
       "      <td>19.70000</td>\n",
       "      <td>NaN</td>\n",
       "      <td>No</td>\n",
       "    </tr>\n",
       "    <tr>\n",
       "      <th>6670</th>\n",
       "      <td>4075-WKNIU</td>\n",
       "      <td>Female</td>\n",
       "      <td>0</td>\n",
       "      <td>Yes</td>\n",
       "      <td>Yes</td>\n",
       "      <td>0</td>\n",
       "      <td>Yes</td>\n",
       "      <td>Yes</td>\n",
       "      <td>DSL</td>\n",
       "      <td>No</td>\n",
       "      <td>...</td>\n",
       "      <td>Yes</td>\n",
       "      <td>Yes</td>\n",
       "      <td>Yes</td>\n",
       "      <td>No</td>\n",
       "      <td>Two year</td>\n",
       "      <td>No</td>\n",
       "      <td>Mailed check</td>\n",
       "      <td>73.35000</td>\n",
       "      <td>NaN</td>\n",
       "      <td>No</td>\n",
       "    </tr>\n",
       "    <tr>\n",
       "      <th>6754</th>\n",
       "      <td>2775-SEFEE</td>\n",
       "      <td>Male</td>\n",
       "      <td>0</td>\n",
       "      <td>No</td>\n",
       "      <td>Yes</td>\n",
       "      <td>0</td>\n",
       "      <td>Yes</td>\n",
       "      <td>Yes</td>\n",
       "      <td>DSL</td>\n",
       "      <td>Yes</td>\n",
       "      <td>...</td>\n",
       "      <td>No</td>\n",
       "      <td>Yes</td>\n",
       "      <td>No</td>\n",
       "      <td>No</td>\n",
       "      <td>Two year</td>\n",
       "      <td>Yes</td>\n",
       "      <td>Bank transfer (automatic)</td>\n",
       "      <td>61.90000</td>\n",
       "      <td>NaN</td>\n",
       "      <td>No</td>\n",
       "    </tr>\n",
       "  </tbody>\n",
       "</table>\n",
       "<p>11 rows × 21 columns</p>\n",
       "</div>"
      ],
      "text/plain": [
       "      customerID  gender  SeniorCitizen Partner Dependents  tenure  \\\n",
       "488   4472-LVYGI  Female              0     Yes        Yes       0   \n",
       "753   3115-CZMZD    Male              0      No        Yes       0   \n",
       "936   5709-LVOEQ  Female              0     Yes        Yes       0   \n",
       "1082  4367-NUYAO    Male              0     Yes        Yes       0   \n",
       "1340  1371-DWPAZ  Female              0     Yes        Yes       0   \n",
       "3331  7644-OMVMY    Male              0     Yes        Yes       0   \n",
       "3826  3213-VVOLG    Male              0     Yes        Yes       0   \n",
       "4380  2520-SGTTA  Female              0     Yes        Yes       0   \n",
       "5218  2923-ARZLG    Male              0     Yes        Yes       0   \n",
       "6670  4075-WKNIU  Female              0     Yes        Yes       0   \n",
       "6754  2775-SEFEE    Male              0      No        Yes       0   \n",
       "\n",
       "     PhoneService     MultipleLines InternetService       OnlineSecurity  ...  \\\n",
       "488            No  No phone service             DSL                  Yes  ...   \n",
       "753           Yes                No              No  No internet service  ...   \n",
       "936           Yes                No             DSL                  Yes  ...   \n",
       "1082          Yes               Yes              No  No internet service  ...   \n",
       "1340           No  No phone service             DSL                  Yes  ...   \n",
       "3331          Yes                No              No  No internet service  ...   \n",
       "3826          Yes               Yes              No  No internet service  ...   \n",
       "4380          Yes                No              No  No internet service  ...   \n",
       "5218          Yes                No              No  No internet service  ...   \n",
       "6670          Yes               Yes             DSL                   No  ...   \n",
       "6754          Yes               Yes             DSL                  Yes  ...   \n",
       "\n",
       "         DeviceProtection          TechSupport          StreamingTV  \\\n",
       "488                   Yes                  Yes                  Yes   \n",
       "753   No internet service  No internet service  No internet service   \n",
       "936                   Yes                   No                  Yes   \n",
       "1082  No internet service  No internet service  No internet service   \n",
       "1340                  Yes                  Yes                  Yes   \n",
       "3331  No internet service  No internet service  No internet service   \n",
       "3826  No internet service  No internet service  No internet service   \n",
       "4380  No internet service  No internet service  No internet service   \n",
       "5218  No internet service  No internet service  No internet service   \n",
       "6670                  Yes                  Yes                  Yes   \n",
       "6754                   No                  Yes                   No   \n",
       "\n",
       "          StreamingMovies  Contract PaperlessBilling  \\\n",
       "488                    No  Two year              Yes   \n",
       "753   No internet service  Two year               No   \n",
       "936                   Yes  Two year               No   \n",
       "1082  No internet service  Two year               No   \n",
       "1340                   No  Two year               No   \n",
       "3331  No internet service  Two year               No   \n",
       "3826  No internet service  Two year               No   \n",
       "4380  No internet service  Two year               No   \n",
       "5218  No internet service  One year              Yes   \n",
       "6670                   No  Two year               No   \n",
       "6754                   No  Two year              Yes   \n",
       "\n",
       "                  PaymentMethod MonthlyCharges  TotalCharges  Churn  \n",
       "488   Bank transfer (automatic)       52.55000           NaN     No  \n",
       "753                Mailed check       20.25000           NaN     No  \n",
       "936                Mailed check       80.85000           NaN     No  \n",
       "1082               Mailed check       25.75000           NaN     No  \n",
       "1340    Credit card (automatic)       56.05000           NaN     No  \n",
       "3331               Mailed check       19.85000           NaN     No  \n",
       "3826               Mailed check       25.35000           NaN     No  \n",
       "4380               Mailed check       20.00000           NaN     No  \n",
       "5218               Mailed check       19.70000           NaN     No  \n",
       "6670               Mailed check       73.35000           NaN     No  \n",
       "6754  Bank transfer (automatic)       61.90000           NaN     No  \n",
       "\n",
       "[11 rows x 21 columns]"
      ]
     },
     "execution_count": 425,
     "metadata": {},
     "output_type": "execute_result"
    }
   ],
   "source": [
    "# null observations of the TotalCharges column\n",
    "df_telco[df_telco['TotalCharges'].isnull()]"
   ]
  },
  {
   "cell_type": "markdown",
   "id": "6d9342c4",
   "metadata": {},
   "source": [
    "We can now observe that the column **TotalCharges** has 11 missing values."
   ]
  },
  {
   "cell_type": "code",
   "execution_count": 426,
   "id": "a7d42528",
   "metadata": {},
   "outputs": [],
   "source": [
    "# drop observations with null values\n",
    "df_telco.dropna(inplace=True)"
   ]
  },
  {
   "cell_type": "markdown",
   "id": "6ff33c31",
   "metadata": {},
   "source": [
    "#### Remove customerID column"
   ]
  },
  {
   "cell_type": "code",
   "execution_count": 427,
   "id": "a3b34129",
   "metadata": {},
   "outputs": [],
   "source": [
    "# drop the customerID column from the dataset\n",
    "df_telco.drop(columns='customerID', inplace=True)"
   ]
  },
  {
   "cell_type": "markdown",
   "id": "67cb0516",
   "metadata": {},
   "source": [
    "#### Payment method denominations"
   ]
  },
  {
   "cell_type": "code",
   "execution_count": 428,
   "id": "883ea9d0",
   "metadata": {},
   "outputs": [
    {
     "data": {
      "text/plain": [
       "array(['Electronic check', 'Mailed check', 'Bank transfer (automatic)',\n",
       "       'Credit card (automatic)'], dtype=object)"
      ]
     },
     "execution_count": 428,
     "metadata": {},
     "output_type": "execute_result"
    }
   ],
   "source": [
    "# unique elements of the PaymentMethod column\n",
    "df_telco.PaymentMethod.unique()"
   ]
  },
  {
   "cell_type": "code",
   "execution_count": 429,
   "id": "80da56ed",
   "metadata": {},
   "outputs": [],
   "source": [
    "# remove (automatic) from payment method names\n",
    "df_telco['PaymentMethod'] = df_telco['PaymentMethod'].str.replace(' (automatic)', '', regex=False)"
   ]
  },
  {
   "cell_type": "code",
   "execution_count": 430,
   "id": "29b59a26",
   "metadata": {},
   "outputs": [
    {
     "data": {
      "text/plain": [
       "array(['Electronic check', 'Mailed check', 'Bank transfer', 'Credit card'],\n",
       "      dtype=object)"
      ]
     },
     "execution_count": 430,
     "metadata": {},
     "output_type": "execute_result"
    }
   ],
   "source": [
    "# unique elements of the PaymentMethod column after the modification \n",
    "df_telco.PaymentMethod.unique()"
   ]
  },
  {
   "cell_type": "markdown",
   "id": "74990990",
   "metadata": {},
   "source": [
    "### Data Visualization"
   ]
  },
  {
   "cell_type": "markdown",
   "id": "e63cda50",
   "metadata": {},
   "source": [
    "#### Response Variable"
   ]
  },
  {
   "cell_type": "code",
   "execution_count": 431,
   "id": "34bc904c",
   "metadata": {},
   "outputs": [
    {
     "data": {
      "image/png": "[encoded data removed]",
      "text/plain": [
       "<Figure size 432x432 with 1 Axes>"
      ]
     },
     "metadata": {
      "needs_background": "light"
     },
     "output_type": "display_data"
    }
   ],
   "source": [
    "# create a figure\n",
    "fig = plt.figure(figsize=(6, 6)) \n",
    "ax = fig.add_subplot(111)\n",
    "\n",
    "# proportion of observation of each class\n",
    "prop_response = df_telco['Churn'].value_counts(normalize=True)\n",
    "\n",
    "# create a bar plot showing the percentage of churn\n",
    "prop_response.plot(kind='bar', \n",
    "                   ax=ax,\n",
    "                   color=['deepskyblue','hotpink'])\n",
    "\n",
    "# set title and labels\n",
    "ax.set_title('Proportion of observations of the response variable',\n",
    "             fontsize=18, loc='left')\n",
    "ax.set_xlabel('churn',\n",
    "              fontsize=14)\n",
    "ax.set_ylabel('proportion of observations',\n",
    "              fontsize=14)\n",
    "ax.tick_params(rotation='auto')\n",
    "\n",
    "# eliminate the frame from the plot\n",
    "spine_names = ('top', 'right', 'bottom', 'left')\n",
    "for spine_name in spine_names:\n",
    "    ax.spines[spine_name].set_visible(False)"
   ]
  },
  {
   "cell_type": "markdown",
   "id": "0741086a",
   "metadata": {},
   "source": [
    "#### Demographic Information"
   ]
  },
  {
   "cell_type": "code",
   "execution_count": 432,
   "id": "581e8ef6",
   "metadata": {},
   "outputs": [],
   "source": [
    "def percentage_stacked_plot(columns_to_plot, super_title):\n",
    "    \n",
    "    '''\n",
    "    Prints a 100% stacked plot of the response variable for independent variable of the list columns_to_plot.\n",
    "            Parameters:\n",
    "                    columns_to_plot (list of string): Names of the variables to plot\n",
    "                    super_title (string): Super title of the visualization\n",
    "            Returns:\n",
    "                    None\n",
    "    '''\n",
    "    \n",
    "    number_of_columns = 2\n",
    "    number_of_rows = math.ceil(len(columns_to_plot)/2)\n",
    "\n",
    "    # create a figure\n",
    "    fig = plt.figure(figsize=(12, 5 * number_of_rows)) \n",
    "    fig.suptitle(super_title, fontsize=22,  y=.95)\n",
    " \n",
    "\n",
    "    # loop to each column name to create a subplot\n",
    "    for index, column in enumerate(columns_to_plot, 1):\n",
    "\n",
    "        # create the subplot\n",
    "        ax = fig.add_subplot(number_of_rows, number_of_columns, index)\n",
    "\n",
    "        # calculate the percentage of observations of the response variable for each group of the independent variable\n",
    "        # 100% stacked bar plot\n",
    "        prop_by_independent = pd.crosstab(df_telco[column], df_telco['Churn']).apply(lambda x: x/x.sum()*100, axis=1)\n",
    "\n",
    "        prop_by_independent.plot(kind='bar', ax=ax, stacked=True,\n",
    "                                 rot=0, color=['palegreen','lightsalmon'])\n",
    "\n",
    "        # set the legend in the upper right corner\n",
    "        ax.legend(loc=\"upper right\", bbox_to_anchor=(0.62, 0.5, 0.5, 0.5),\n",
    "                  title='Churn', fancybox=True)\n",
    "\n",
    "        # set title and labels\n",
    "        ax.set_title('Proportion of observations by ' + column,\n",
    "                     fontsize=16, loc='left')\n",
    "\n",
    "        ax.tick_params(rotation='auto')\n",
    "\n",
    "        # eliminate the frame from the plot\n",
    "        spine_names = ('top', 'right', 'bottom', 'left')\n",
    "        for spine_name in spine_names:\n",
    "            ax.spines[spine_name].set_visible(False)"
   ]
  },
  {
   "cell_type": "code",
   "execution_count": 433,
   "id": "05cdcf67",
   "metadata": {
    "scrolled": false
   },
   "outputs": [
    {
     "data": {
      "image/png": "[encoded data removed]",
      "text/plain": [
       "<Figure size 864x720 with 4 Axes>"
      ]
     },
     "metadata": {
      "needs_background": "light"
     },
     "output_type": "display_data"
    }
   ],
   "source": [
    "# demographic column names\n",
    "demographic_columns = ['gender', 'SeniorCitizen', 'Partner', 'Dependents']\n",
    "\n",
    "import math \n",
    "\n",
    "# stacked plot of demographic columns\n",
    "percentage_stacked_plot(demographic_columns, 'Demographic Information')"
   ]
  },
  {
   "cell_type": "markdown",
   "id": "84dceaa5",
   "metadata": {},
   "source": [
    "We can extract the following conclusions by analyzing demographic attributes:-\n",
    "* The churn rate of senior citizens is almost double that of young citizens.\n",
    "* We do not expect gender to have significant predictive power. A similar percentage of churn is shown both when a customer is a man or a woman.\n",
    "* Customers with a partner churn less than customers with no partner."
   ]
  },
  {
   "cell_type": "markdown",
   "id": "60b597ca",
   "metadata": {},
   "source": [
    "#### Customer Account Information - Categorical variables"
   ]
  },
  {
   "cell_type": "code",
   "execution_count": 434,
   "id": "9aac5365",
   "metadata": {},
   "outputs": [
    {
     "data": {
      "image/png": "[encoded data removed]",
      "text/plain": [
       "<Figure size 864x720 with 3 Axes>"
      ]
     },
     "metadata": {
      "needs_background": "light"
     },
     "output_type": "display_data"
    }
   ],
   "source": [
    "# customer account column names\n",
    "account_columns = ['Contract', 'PaperlessBilling', 'PaymentMethod']\n",
    "\n",
    "# stacked plot of customer account columns\n",
    "percentage_stacked_plot(account_columns, 'Customer Account Information')"
   ]
  },
  {
   "cell_type": "markdown",
   "id": "09ff0fdc",
   "metadata": {},
   "source": [
    "We can extract the following conclusions by analyzing customer account attributes:-\n",
    "* Customers with month-to-month contracts have higher churn rates compared to clients with yearly contracts.\n",
    "* Customers who opted for an electronic check as paying method are more likely to leave the company.\n",
    "* Customers subscribed to paperless billing churn more than those who are not subscribed."
   ]
  },
  {
   "cell_type": "markdown",
   "id": "ce0c9a96",
   "metadata": {},
   "source": [
    "#### Customer Account Information - Numerical variables"
   ]
  },
  {
   "cell_type": "code",
   "execution_count": 435,
   "id": "14d85c46",
   "metadata": {},
   "outputs": [
    {
     "data": {
      "image/png": "[encoded data removed]",
      "text/plain": [
       "<Figure size 864x720 with 3 Axes>"
      ]
     },
     "metadata": {
      "needs_background": "light"
     },
     "output_type": "display_data"
    }
   ],
   "source": [
    "def histogram_plots(columns_to_plot, super_title):\n",
    "    '''\n",
    "     Prints a histogram for each independent variable of the list columns_to_plot.\n",
    "            Parameters:\n",
    "                    columns_to_plot (list of string): Names of the variables to plot\n",
    "                    super_title (string): Super title of the visualization\n",
    "            Returns:\n",
    "                    None\n",
    "    '''\n",
    "    # set number of rows and number of columns\n",
    "    number_of_columns = 2\n",
    "    number_of_rows = math.ceil(len(columns_to_plot)/2)\n",
    "    \n",
    "    # create a figure\n",
    "    fig = plt.figure(figsize=(12, 5 * number_of_rows)) \n",
    "    fig.suptitle(super_title, fontsize=22,  y=.95)\n",
    "    \n",
    "    # loop to each demographic column name to create a subplot\n",
    "    for index, column in enumerate(columns_to_plot, 1):\n",
    "        \n",
    "         # create the subplot\n",
    "        ax = fig.add_subplot(number_of_rows, number_of_columns, index)\n",
    "        \n",
    "        # histograms for each class (normalized histogram)\n",
    "        df_telco[df_telco['Churn']=='No'][column].plot(kind='hist', ax=ax, density=True, alpha=0.5, color='mediumspringgreen', label='No')\n",
    "        df_telco[df_telco['Churn']=='Yes'][column].plot(kind='hist', ax=ax, density=True,alpha=0.5, color='lightcoral', label='Yes')\n",
    "        \n",
    "        # set the legend in the upper right corner\n",
    "        ax.legend(loc=\"upper right\", bbox_to_anchor=(0.5, 0.5, 0.5, 0.5),title='Churn', fancybox=True)\n",
    "        \n",
    "        # set title and labels\n",
    "        ax.set_title('Distribution of ' + column + ' by churn', fontsize=16, loc='left')\n",
    "        \n",
    "        ax.tick_params(rotation='auto')\n",
    "        \n",
    "        # eliminate the frame from the plot\n",
    "        spine_names = ('top', 'right', 'bottom', 'left')\n",
    "        for spine_name in spine_names:\n",
    "            ax.spines[spine_name].set_visible(False)\n",
    "\n",
    "# customer account column names\n",
    "account_columns_numeric = ['tenure', 'MonthlyCharges', 'TotalCharges']\n",
    "\n",
    "# histogram of costumer account columns \n",
    "histogram_plots(account_columns_numeric, 'Customer Account Information')"
   ]
  },
  {
   "cell_type": "markdown",
   "id": "6da11ab7",
   "metadata": {},
   "source": [
    "We can extract the following conclusions by analyzing the histograms above:-\n",
    "* The churn rate tends to be larger when monthly charges are high.\n",
    "* New customers (low tenure) are more likely to churn.\n",
    "* Clients with high total charges are less likely to leave the company."
   ]
  },
  {
   "cell_type": "markdown",
   "id": "a10d9443",
   "metadata": {},
   "source": [
    "#### Services Information"
   ]
  },
  {
   "cell_type": "code",
   "execution_count": 436,
   "id": "1a7f78d1",
   "metadata": {},
   "outputs": [
    {
     "data": {
      "image/png": "[encoded data removed]",
      "text/plain": [
       "<Figure size 864x1800 with 9 Axes>"
      ]
     },
     "metadata": {
      "needs_background": "light"
     },
     "output_type": "display_data"
    }
   ],
   "source": [
    "# services column names\n",
    "services_columns = ['PhoneService', 'MultipleLines', 'InternetService', 'OnlineSecurity', 'OnlineBackup', 'DeviceProtection', 'TechSupport', 'StreamingTV', 'StreamingMovies']\n",
    "\n",
    "# stacked plot of services columns\n",
    "percentage_stacked_plot(services_columns, 'Services Information')"
   ]
  },
  {
   "cell_type": "markdown",
   "id": "57b6fd56",
   "metadata": {},
   "source": [
    "We can extract the following conclusions by evaluating services attributes:- \n",
    "* We do not expect phone attributes (PhoneService and MultipleLines) to have significant predictive power. The percentage of churn for all classes in both independent variables is nearly the same.\n",
    "* Clients with online security churn less than those without it.\n",
    "* Customers with no tech support tend to churn more often than those with tech support."
   ]
  },
  {
   "cell_type": "markdown",
   "id": "6b797bbf",
   "metadata": {},
   "source": [
    "### Feature importance"
   ]
  },
  {
   "cell_type": "code",
   "execution_count": 437,
   "id": "298ca999",
   "metadata": {},
   "outputs": [
    {
     "name": "stdout",
     "output_type": "stream",
     "text": [
      "Contract           0.09818\n",
      "OnlineSecurity     0.06453\n",
      "TechSupport        0.06287\n",
      "InternetService    0.05539\n",
      "OnlineBackup       0.04666\n",
      "PaymentMethod      0.04442\n",
      "DeviceProtection   0.04378\n",
      "StreamingMovies    0.03192\n",
      "StreamingTV        0.03180\n",
      "PaperlessBilling   0.01912\n",
      "Dependents         0.01427\n",
      "Partner            0.01138\n",
      "MultipleLines      0.00080\n",
      "PhoneService       0.00007\n",
      "gender             0.00004\n",
      "dtype: float64\n"
     ]
    }
   ],
   "source": [
    "from sklearn.metrics import mutual_info_score\n",
    "\n",
    "# Mutual information — analysis of linear and nonlinear relationships\n",
    "# function that computes the mutual infomation score between a categorical serie and the column Churn\n",
    "def compute_mutual_information(categorical_serie): \n",
    "    return mutual_info_score(categorical_serie, df_telco.Churn)\n",
    "\n",
    "# select categorial variables excluding the response variable \n",
    "categorical_variables = df_telco.select_dtypes(include=object).drop('Churn', axis=1)\n",
    "\n",
    "# compute the mutual information score between each categorical variable and the target\n",
    "feature_importance = categorical_variables.apply(compute_mutual_information).sort_values(ascending=False)\n",
    "\n",
    "# visualize feature importance\n",
    "print(feature_importance)"
   ]
  },
  {
   "cell_type": "markdown",
   "id": "1a17a57c",
   "metadata": {},
   "source": [
    "### Feature Engineering\n",
    "\n",
    "#### No modification\n",
    "The **SeniorCitizen** column is already a binary column and should not be modified.\n",
    "\n",
    "#### Label Encoding\n",
    "\n",
    "Label encoding is used to replace categorical values with numerical values. This encoding replaces every category with a numerical label. In this project, we use label encoding with the following binary variables: (1) gender, (2) Partner, (3) Dependents, (4)PaperlessBilling, (5)PhoneService , and (6)Churn ."
   ]
  },
  {
   "cell_type": "code",
   "execution_count": 438,
   "id": "f7d7a63c",
   "metadata": {},
   "outputs": [],
   "source": [
    "df_telco_transformed = df_telco.copy()\n",
    "\n",
    "# label encoding (binary variables)\n",
    "label_encoding_columns = ['gender', 'Partner', 'Dependents', 'PaperlessBilling', 'PhoneService', 'Churn']\n",
    "\n",
    "# encode categorical binary features using label encoding\n",
    "for column in label_encoding_columns:\n",
    "    if column == 'gender':\n",
    "        df_telco_transformed[column] = df_telco_transformed[column].map({'Female': 1, 'Male': 0})\n",
    "    else: \n",
    "        df_telco_transformed[column] = df_telco_transformed[column].map({'Yes': 1, 'No': 0}) "
   ]
  },
  {
   "cell_type": "markdown",
   "id": "d984e9bd",
   "metadata": {},
   "source": [
    "#### One-Hot Encoding\n",
    "\n",
    "One-hot encoding creates a new binary column for each level of the categorical variable. The new column contains zeros and ones indicating the absence or presence of the category in the data. In this project, we apply one-hot encoding to the following categorical variables: (1) Contract, (2) PaymentMethod, (3) MultipleLines, (4) InternetServices, (5) OnlineSecurity, (6) OnlineBackup, (7) DeviceProtection, (8) TechSupport, (9) StreamingTV, and (10)StreamingMovies."
   ]
  },
  {
   "cell_type": "code",
   "execution_count": 439,
   "id": "086915f0",
   "metadata": {},
   "outputs": [],
   "source": [
    "# one-hot encoding (categorical variables with more than two levels)\n",
    "one_hot_encoding_columns = ['MultipleLines', 'InternetService', 'OnlineSecurity', 'OnlineBackup', 'DeviceProtection','TechSupport', 'StreamingTV',  'StreamingMovies', 'Contract', 'PaymentMethod']\n",
    "\n",
    "# encode categorical variables with more than two levels using one-hot encoding\n",
    "df_telco_transformed = pd.get_dummies(df_telco_transformed, columns = one_hot_encoding_columns)"
   ]
  },
  {
   "cell_type": "markdown",
   "id": "695dd4cc",
   "metadata": {},
   "source": [
    "#### Normalization\n",
    "\n",
    "There are multiple normalization techniques in statistics. In this project, we will use the min-max method to rescale the numeric columns (tenure, MontlyCharges, and TotalCharges) to a common scale. The min-max approach (often called normalization) rescales the feature to a fixed range of [0,1] by subtracting the minimum value of the feature and then dividing by the range."
   ]
  },
  {
   "cell_type": "code",
   "execution_count": 440,
   "id": "2cc9e2da",
   "metadata": {},
   "outputs": [],
   "source": [
    "# min-max normalization (numeric variables)\n",
    "min_max_columns = ['tenure', 'MonthlyCharges', 'TotalCharges']\n",
    "\n",
    "# scale numerical variables using min max scaler\n",
    "for column in min_max_columns:\n",
    "        # minimum value of the column\n",
    "        min_column = df_telco_transformed[column].min()\n",
    "        # maximum value of the column\n",
    "        max_column = df_telco_transformed[column].max()\n",
    "        # min max scaler\n",
    "        df_telco_transformed[column] = (df_telco_transformed[column] - min_column) / (max_column - min_column)"
   ]
  },
  {
   "cell_type": "markdown",
   "id": "78095683",
   "metadata": {},
   "source": [
    "### Setting a baseline\n",
    "In machine learning, we often use a simple classifier called baseline to evaluate the performance of a model. In this classification problem, the rate of customers that did not churn (most frequent class) can be used as a baseline to evaluate the quality of the models generated. These models should outperform the baseline capabilities to be considered for future predictions."
   ]
  },
  {
   "cell_type": "markdown",
   "id": "a399c3a6",
   "metadata": {},
   "source": [
    "### Splitting the data in training and testing sets\n",
    "\n",
    "The first step when building a model is to split the data into two groups, which are typically referred to as training and testing sets. The training set is used by the machine learning algorithm to build the model. The test set contains samples that are not part of the learning process and is used to evaluate the model’s performance.\n",
    "\n",
    "First, we create a variable X to store the independent attributes of the dataset. Additionally, we create a variable y to store only the target variable (Churn)."
   ]
  },
  {
   "cell_type": "code",
   "execution_count": 441,
   "id": "107132ad",
   "metadata": {},
   "outputs": [
    {
     "name": "stdout",
     "output_type": "stream",
     "text": [
      "Index(['gender', 'SeniorCitizen', 'Partner', 'Dependents', 'tenure',\n",
      "       'PhoneService', 'PaperlessBilling', 'MonthlyCharges', 'TotalCharges',\n",
      "       'MultipleLines_No', 'MultipleLines_No phone service',\n",
      "       'MultipleLines_Yes', 'InternetService_DSL',\n",
      "       'InternetService_Fiber optic', 'InternetService_No',\n",
      "       'OnlineSecurity_No', 'OnlineSecurity_No internet service',\n",
      "       'OnlineSecurity_Yes', 'OnlineBackup_No',\n",
      "       'OnlineBackup_No internet service', 'OnlineBackup_Yes',\n",
      "       'DeviceProtection_No', 'DeviceProtection_No internet service',\n",
      "       'DeviceProtection_Yes', 'TechSupport_No',\n",
      "       'TechSupport_No internet service', 'TechSupport_Yes', 'StreamingTV_No',\n",
      "       'StreamingTV_No internet service', 'StreamingTV_Yes',\n",
      "       'StreamingMovies_No', 'StreamingMovies_No internet service',\n",
      "       'StreamingMovies_Yes', 'Contract_Month-to-month', 'Contract_One year',\n",
      "       'Contract_Two year', 'PaymentMethod_Bank transfer',\n",
      "       'PaymentMethod_Credit card', 'PaymentMethod_Electronic check',\n",
      "       'PaymentMethod_Mailed check'],\n",
      "      dtype='object')\n",
      "Churn\n"
     ]
    }
   ],
   "source": [
    "# select independent variables\n",
    "X = df_telco_transformed.drop(columns='Churn')\n",
    "\n",
    "# select dependent variables\n",
    "y = df_telco_transformed.loc[:, 'Churn']\n",
    "\n",
    "# prove that the variables were selected correctly\n",
    "print(X.columns)\n",
    "\n",
    "# prove that the variables were selected correctly\n",
    "print(y.name)"
   ]
  },
  {
   "cell_type": "code",
   "execution_count": 442,
   "id": "88a6cd6f",
   "metadata": {},
   "outputs": [],
   "source": [
    "from sklearn.model_selection import train_test_split\n",
    "\n",
    "# split the data in training and testing sets\n",
    "X_train, X_test, y_train, y_test = train_test_split(X, y, test_size=0.25,random_state=40, shuffle=True)"
   ]
  },
  {
   "cell_type": "markdown",
   "id": "676734e6",
   "metadata": {},
   "source": [
    "### Assessing multiple algorithms\n",
    "\n",
    "In this project, we compare 6 different algorithms, all of them already implemented in Scikit-Learn.\n",
    "1. Dummy classifier (baseline)\n",
    "2. K Nearest Neighbours\n",
    "3. Logistic Regression\n",
    "4. Support Vector Machines\n",
    "5. Random Forest\n",
    "6. Gradient Boosting"
   ]
  },
  {
   "cell_type": "code",
   "execution_count": 443,
   "id": "66a02069",
   "metadata": {},
   "outputs": [],
   "source": [
    "from sklearn.dummy import DummyClassifier\n",
    "from sklearn.neighbors import KNeighborsClassifier\n",
    "from sklearn.linear_model import LogisticRegression\n",
    "from sklearn.svm import SVC\n",
    "from sklearn.ensemble import RandomForestClassifier, GradientBoostingClassifier\n",
    "\n",
    "def create_models(seed=2):\n",
    "    '''\n",
    "    Create a list of machine learning models.\n",
    "            Parameters:\n",
    "                    seed (integer): random seed of the models\n",
    "            Returns:\n",
    "                    models (list): list containing the models\n",
    "    '''\n",
    "\n",
    "    models = []\n",
    "    models.append(('dummy_classifier', DummyClassifier(random_state=seed, strategy='most_frequent')))\n",
    "    models.append(('k_nearest_neighbors', KNeighborsClassifier()))\n",
    "    models.append(('logistic_regression', LogisticRegression(random_state=seed)))\n",
    "    models.append(('support_vector_machines', SVC(random_state=seed)))\n",
    "    models.append(('random_forest', RandomForestClassifier(random_state=seed)))\n",
    "    models.append(('gradient_boosting', GradientBoostingClassifier(random_state=seed)))\n",
    "    \n",
    "    return models\n",
    "\n",
    "# create a list with all the algorithms we are going to assess\n",
    "models = create_models()"
   ]
  },
  {
   "cell_type": "code",
   "execution_count": 444,
   "id": "4aed63e7",
   "metadata": {},
   "outputs": [
    {
     "name": "stdout",
     "output_type": "stream",
     "text": [
      "Classifier: dummy_classifier, Accuracy: 0.745164960182025)\n",
      "Classifier: k_nearest_neighbors, Accuracy: 0.7531285551763367)\n",
      "Classifier: logistic_regression, Accuracy: 0.7923777019340159)\n"
     ]
    },
    {
     "name": "stderr",
     "output_type": "stream",
     "text": [
      "C:\\Users\\kalha\\anaconda3\\lib\\site-packages\\sklearn\\linear_model\\_logistic.py:814: ConvergenceWarning: lbfgs failed to converge (status=1):\n",
      "STOP: TOTAL NO. of ITERATIONS REACHED LIMIT.\n",
      "\n",
      "Increase the number of iterations (max_iter) or scale the data as shown in:\n",
      "    https://scikit-learn.org/stable/modules/preprocessing.html\n",
      "Please also refer to the documentation for alternative solver options:\n",
      "    https://scikit-learn.org/stable/modules/linear_model.html#logistic-regression\n",
      "  n_iter_i = _check_optimize_result(\n"
     ]
    },
    {
     "name": "stdout",
     "output_type": "stream",
     "text": [
      "Classifier: support_vector_machines, Accuracy: 0.7878270762229806)\n",
      "Classifier: random_forest, Accuracy: 0.7713310580204779)\n",
      "Classifier: gradient_boosting, Accuracy: 0.7963594994311718)\n"
     ]
    }
   ],
   "source": [
    "from sklearn.metrics import accuracy_score\n",
    "\n",
    "# test the accuracy of each model using default hyperparameters\n",
    "results = []\n",
    "names = []\n",
    "scoring = 'accuracy'\n",
    "for name, model in models:\n",
    "    # fit the model with the training data\n",
    "    model.fit(X_train, y_train).predict(X_test)\n",
    "    # make predictions with the testing data\n",
    "    predictions = model.predict(X_test)\n",
    "    # calculate accuracy \n",
    "    accuracy = accuracy_score(y_test, predictions)\n",
    "    # append the model name and the accuracy to the lists\n",
    "    results.append(accuracy)\n",
    "    names.append(name)\n",
    "    # print classifier accuracy\n",
    "    print('Classifier: {}, Accuracy: {})'.format(name, accuracy))"
   ]
  },
  {
   "cell_type": "markdown",
   "id": "5dc9746a",
   "metadata": {},
   "source": [
    "As shown above, this corresponds to the gradient boosting model which shows an accuracy of nearly 80%."
   ]
  },
  {
   "cell_type": "markdown",
   "id": "581405f5",
   "metadata": {},
   "source": [
    "### Hyperparameter tuning\n",
    "\n",
    "There are multiple techniques to find the best hyperparameters for a model. The most popular methods are (1) grid search, (2) random search, and (3) bayesian optimization. Grid search test all combinations of hyperparameters and select the best performing one. It is a really time-consuming method, particularly when the number of hyperparameters and values to try are really high."
   ]
  },
  {
   "cell_type": "markdown",
   "id": "21dfe954",
   "metadata": {},
   "source": [
    "We can implement random search in Scikit-learn using the RandomSearchCV class from the sklearn.model_selection package.\n",
    "\n",
    "First of all, we specify the grid of hyperparameter values using a dictionary (grid_parameters) where the keys represent the hyperparameters and the values are the set of options we want to evaluate. Then, we define the RandomizedSearchCV object for trying different random combinations from this grid. The number of hyperparameter combinations that are sampled is defined in the n_iter parameter. Naturally, increasing n_iter will lead in most cases to more accurate results, since more combinations are sampled; however, on many occasions, the improvement in performance won’t be significant."
   ]
  },
  {
   "cell_type": "code",
   "execution_count": 445,
   "id": "d29566d2",
   "metadata": {},
   "outputs": [
    {
     "name": "stdout",
     "output_type": "stream",
     "text": [
      "{'n_estimators': 80, 'min_samples_split': 5, 'max_features': 'log2', 'max_depth': 3}\n"
     ]
    }
   ],
   "source": [
    "from sklearn.model_selection import RandomizedSearchCV\n",
    "\n",
    "# define the parameter grid\n",
    "grid_parameters = {'n_estimators': [80, 90, 100, 110, 115, 120],\n",
    "                   'max_depth': [3, 4, 5, 6],\n",
    "                   'max_features': [None, 'auto', 'sqrt', 'log2'], \n",
    "                   'min_samples_split': [2, 3, 4, 5]}\n",
    "\n",
    "\n",
    "# define the RandomizedSearchCV class for trying different parameter combinations\n",
    "random_search = RandomizedSearchCV(estimator=GradientBoostingClassifier(),\n",
    "                                   param_distributions=grid_parameters,\n",
    "                                   cv=5,\n",
    "                                   n_iter=150,\n",
    "                                   n_jobs=-1)\n",
    "\n",
    "# fitting the model for random search \n",
    "random_search.fit(X_train, y_train)\n",
    "\n",
    "# print best parameter after tuning\n",
    "print(random_search.best_params_)"
   ]
  },
  {
   "cell_type": "markdown",
   "id": "3f5d73e6",
   "metadata": {},
   "source": [
    "After fitting the grid object, we can obtain the best hyperparameters using best_params_attribute. As you can above, the best hyperparameters are: **{‘n_estimators’: 80, ‘min_samples_split’: 5, ‘max_features’: ‘log2’, ‘max_depth’: 3}**."
   ]
  },
  {
   "cell_type": "markdown",
   "id": "837f314d",
   "metadata": {},
   "source": [
    "### Performace of the model"
   ]
  },
  {
   "cell_type": "markdown",
   "id": "41d622aa",
   "metadata": {},
   "source": [
    "#### Confusion Metrix\n",
    "\n",
    "In binary classification problems, the confusion matrix is a 2-by-2 matrix composed of 4 elements:-\n",
    "\n",
    "* True Positive (TP): Observation is positive, and is predicted to be positive.\n",
    "* False Positive (FP or Type I Error): Observation is negative, but is predicted positive.\n",
    "* False Negative (FN or Type II Error): Observation is positive, but is predicted negative.\n",
    "* True Negative (TN): Observation is negative, and is predicted to be negative.\n",
    "\n",
    "![Confution_Metrix](img\\Confution_Metrix.png)"
   ]
  },
  {
   "cell_type": "code",
   "execution_count": 446,
   "id": "2b711e0a",
   "metadata": {},
   "outputs": [
    {
     "data": {
      "text/plain": [
       "array([[1155,  155],\n",
       "       [ 196,  252]], dtype=int64)"
      ]
     },
     "execution_count": 446,
     "metadata": {},
     "output_type": "execute_result"
    }
   ],
   "source": [
    "from sklearn.metrics import confusion_matrix\n",
    "# make the predictions\n",
    "random_search_predictions = random_search.predict(X_test)\n",
    "\n",
    "# construct the confusion matrix\n",
    "confusion_matrix = confusion_matrix(y_test, random_search_predictions)\n",
    "\n",
    "# visualize the confusion matrix\n",
    "confusion_matrix"
   ]
  },
  {
   "cell_type": "markdown",
   "id": "b2cd1313",
   "metadata": {},
   "source": [
    "As shown above, 1407 observations of the testing data were correctly classified by the model (1155 true negatives and 252 true positives). On the contrary, we can observe 356 misclassifications (155 false positives and 196 false negatives)."
   ]
  },
  {
   "cell_type": "markdown",
   "id": "76ca4ca3",
   "metadata": {},
   "source": [
    "### Evaluation metrics"
   ]
  },
  {
   "cell_type": "markdown",
   "id": "e79ad638",
   "metadata": {},
   "source": [
    "#### Accuracy\n",
    "\n",
    "![Accuracy](img\\Accuracy.png)\n",
    "\n",
    "Accuracy computes the number of correctly classified items out of all classified items.\n",
    "\n",
    "#### Recall\n",
    "\n",
    "![Recall](img\\Recall.png)\n",
    "\n",
    "Recall tells how much the model predicted correctly, out of all the positive classes. It should be as high as possible as high recall indicates the class is correctly recognized (small number of FN). It is usually used when the goal is to limit the number of false negatives.\n",
    "\n",
    "#### Precision\n",
    "\n",
    "![Precision](img\\Precision.png)\n",
    "\n",
    "Precision tells, out of all the positive classes that were predicted correctly, how many are actually positive. High precision indicates an example labeled as positive is actually positive (small number of FP). It is usually used when the goal is to limit the number of false positives. A model with high recall but low precision means that most of the positive examples are correctly recognized (low FN) but that there is a lot of false positive.\n",
    "\n",
    "#### F-score\n",
    "\n",
    "![F-score](img\\F-score.png)\n",
    "\n",
    "F-score is a way to represent precision and recall at the same time and is therefore widely used for measuring model performances. Indeed, if you try to only optimize recall, the algorithm will predict most examples to belong to the positive class, but that will result in many false positives and, hence, low precision. On the other hand, optimizing precision will lead the model to predict very few examples as positive results (the ones with highest probability), but recall will be very low."
   ]
  },
  {
   "cell_type": "code",
   "execution_count": 447,
   "id": "9905acdc",
   "metadata": {},
   "outputs": [
    {
     "name": "stdout",
     "output_type": "stream",
     "text": [
      "              precision    recall  f1-score   support\n",
      "\n",
      "           0       0.85      0.88      0.87      1310\n",
      "           1       0.62      0.56      0.59       448\n",
      "\n",
      "    accuracy                           0.80      1758\n",
      "   macro avg       0.74      0.72      0.73      1758\n",
      "weighted avg       0.79      0.80      0.80      1758\n",
      "\n"
     ]
    }
   ],
   "source": [
    "from sklearn.metrics import classification_report\n",
    "# print classification report \n",
    "print(classification_report(y_test, random_search_predictions))"
   ]
  },
  {
   "cell_type": "code",
   "execution_count": 448,
   "id": "c1c938d7",
   "metadata": {},
   "outputs": [
    {
     "data": {
      "text/plain": [
       "0.8003412969283277"
      ]
     },
     "execution_count": 448,
     "metadata": {},
     "output_type": "execute_result"
    }
   ],
   "source": [
    "# print the accuracy of the model\n",
    "accuracy_score(y_test, random_search_predictions)"
   ]
  },
  {
   "cell_type": "markdown",
   "id": "308ea94a",
   "metadata": {},
   "source": [
    "As you can observe, hyperparameter tuning has barely increased the accuracy of the model.\n",
    "\n",
    "## Conclusion\n",
    "\n",
    "Below table shows the performance and comparsion of different models used in this notebook."
   ]
  },
  {
   "cell_type": "markdown",
   "id": "fd00ad65",
   "metadata": {},
   "source": [
    "| | Classifier (Model) | Accuracy |\n",
    "|:------|:------|:------|\n",
    "| Hyperparameter tuning | gradient_boosting | 80.03 |\n",
    "| | gradient_boosting| 79.63 |\n",
    "| | logistic_regression | 79.23 |\n",
    "| | support_vector_machines | 78.78 |\n",
    "| | random_forest | 77.13 |\n",
    "| | k_nearest_neighbors | 75.31 |\n",
    "| | dummy_classifier | 74.51|\n",
    "\n",
    "\n"
   ]
  },
  {
   "cell_type": "code",
   "execution_count": null,
   "id": "15070d1e",
   "metadata": {},
   "outputs": [],
   "source": []
  },
  {
   "cell_type": "code",
   "execution_count": null,
   "id": "535fc48f",
   "metadata": {},
   "outputs": [],
   "source": []
  },
  {
   "cell_type": "code",
   "execution_count": null,
   "id": "642ccce1",
   "metadata": {},
   "outputs": [],
   "source": []
  },
  {
   "cell_type": "markdown",
   "id": "a892f615",
   "metadata": {},
   "source": [
    "### Strengths, Weakness Advantages and Disadvantages of each Technique"
   ]
  },
  {
   "cell_type": "markdown",
   "id": "6856b94e",
   "metadata": {},
   "source": [
    "| Technique (Algorithm) | Advantages (Strengths) | Disadvantages (Weakness) |\n",
    "| :--- | :--------------------------- | :--------------------------- |\n",
    "| SVM | Performs well in Higher dimension.<br> Best algorithm when classes are separable.<br> Outliers have less impact.<br> Suited for extreme case binary classification. | Slow for larger dataset,it requires a large amount of time to process.<br> Poor performance with Overlapped classes.<br> Selecting appropriate hyperparameters is important.<br> Selecting the appropriate kernel function can be tricky.\n",
    "| Logistic Regression | Simple to implement.<br> Effective.<br> Feature scaling not needed.<br> Tuning of hyperparameters not needed. | Poor performance on non-linear data.(ex:image data)<br> Poor performance with irrelevant and highly correlated features.<br>  Not very powerful algorithm and can be easily outperformed by other algorithms.<br> High reliance on proper presentation of data. All the important variables/features should be identified for it to work well.\n",
    "| Random Forest | Can decorrelate trees.<br> Reduced error.<br> Good Performance on Imbalanced datasets.<br> Handling of huge amount of data.<br> Good handling of missing data.<br> Little impact of outliers.<br> No problem of overfitting.<br> Useful to extract feature importance. | Features need to have some predictive power else they won’t work.<br> Predictions of the trees need to be uncorrelated.<br>  Appears as Black Box, It is tough to know what is happening. \n",
    "| KNN | Simple to understand and impelment.<br> It is intuitive and straightforward as we are working with the distance parameter.<br> No assumptions are required about the dataset.<br> It can be potent with an extensively large training dataset. | The required size of training dataset increases exponentially with the number of predictors.<br> An extensive training dataset takes a long time to find distances to all the neighbors and then identify the nearest one(s).(Slow for large datasets).<br> Can’t deal well with missing values.<br> Does not work well on Imbalanced data.<br> ensitive to outliers.\n",
    "| Gradient Boosting |Less feature engineering required(No need for scaling, normalizing data, can also handle missing values well).<br> Feature importance can be found out(it output importance of each feature, can be used for feature selection).<br> Fast to interpret.<br> Outliers have minimal impact.<br> Handles large sized datasets well.<br> Good Execution speed.<br> Good model performance.<br> Less prone to overfitting. | Difficult interpretation,visualization tough.<br> Overfitting possible if parameters not tuned properly.<br> Harder to tune as there are too many hyperparameters.\n",
    "| ANN (MLP) | Can learn non-linear behaviour in data.<br> Capable to learn models in real-time(on-line learning). | A model with hidden layers has a non-convex loss function with more than one local minimum. Hence, different random weight initializations can create different validation accuracy.<br> The model requires tuning several hyperparameters such as the number of hidden neurons, iterations, and layers.<br> The multilayer perceptron is sensitive to feature scaling [3]."
   ]
  },
  {
   "cell_type": "markdown",
   "id": "23cb6584",
   "metadata": {},
   "source": [
    "As the models came later, they became more and more advanced. So usually if we look at a model strictly from the performance perspective, then neural networks, XGBoost etc. are the best models since they are relatively recent. However , different models work better for different data.\n",
    "\n",
    "As an example, if there are too many features and dataset is medium sized, SVM is good. If features are highly independent then Naive Bayes will work great.  If there is linear relationship between dependent and independent variables, then linear regression, logistic regression, SVM are good. If dataset is small and we don’t know the relationship between the dependent and independent variable, then we can use k-NN. Hence before we decide on which ML algorithm to use, we must know and analyse the data. If we are unable to zero in on one machine learning algorithm, then we can evaluate all the models and check their accuracies on training and test set and then finalize one model."
   ]
  },
  {
   "cell_type": "code",
   "execution_count": null,
   "id": "673ce22e",
   "metadata": {},
   "outputs": [],
   "source": []
  },
  {
   "cell_type": "code",
   "execution_count": null,
   "id": "36bd0d98",
   "metadata": {},
   "outputs": [],
   "source": []
  },
  {
   "cell_type": "code",
   "execution_count": null,
   "id": "eb835dc4",
   "metadata": {},
   "outputs": [],
   "source": []
  },
  {
   "cell_type": "markdown",
   "id": "f4b385f0",
   "metadata": {},
   "source": [
    "## Telco Customer Churn Prediction using Neural Networks"
   ]
  },
  {
   "cell_type": "code",
   "execution_count": 252,
   "id": "9f0d951b",
   "metadata": {},
   "outputs": [],
   "source": [
    "# Importing the necessary libraries for data processing\n",
    "import pandas as pd\n",
    "from matplotlib import pyplot as plt\n",
    "import numpy as np\n",
    "%matplotlib inline"
   ]
  },
  {
   "cell_type": "markdown",
   "id": "fb37adde",
   "metadata": {},
   "source": [
    "#### Importing Data - Reading the CSV file\n",
    "Creating the CSV file dataframe for data analysis and preparing data for the model training."
   ]
  },
  {
   "cell_type": "code",
   "execution_count": 253,
   "id": "ab780bb4",
   "metadata": {},
   "outputs": [
    {
     "data": {
      "text/html": [
       "<div>\n",
       "<style scoped>\n",
       "    .dataframe tbody tr th:only-of-type {\n",
       "        vertical-align: middle;\n",
       "    }\n",
       "\n",
       "    .dataframe tbody tr th {\n",
       "        vertical-align: top;\n",
       "    }\n",
       "\n",
       "    .dataframe thead th {\n",
       "        text-align: right;\n",
       "    }\n",
       "</style>\n",
       "<table border=\"1\" class=\"dataframe\">\n",
       "  <thead>\n",
       "    <tr style=\"text-align: right;\">\n",
       "      <th></th>\n",
       "      <th>customerID</th>\n",
       "      <th>gender</th>\n",
       "      <th>SeniorCitizen</th>\n",
       "      <th>Partner</th>\n",
       "      <th>Dependents</th>\n",
       "      <th>tenure</th>\n",
       "      <th>PhoneService</th>\n",
       "      <th>MultipleLines</th>\n",
       "      <th>InternetService</th>\n",
       "      <th>OnlineSecurity</th>\n",
       "      <th>...</th>\n",
       "      <th>DeviceProtection</th>\n",
       "      <th>TechSupport</th>\n",
       "      <th>StreamingTV</th>\n",
       "      <th>StreamingMovies</th>\n",
       "      <th>Contract</th>\n",
       "      <th>PaperlessBilling</th>\n",
       "      <th>PaymentMethod</th>\n",
       "      <th>MonthlyCharges</th>\n",
       "      <th>TotalCharges</th>\n",
       "      <th>Churn</th>\n",
       "    </tr>\n",
       "  </thead>\n",
       "  <tbody>\n",
       "    <tr>\n",
       "      <th>5751</th>\n",
       "      <td>0932-YIXYU</td>\n",
       "      <td>Female</td>\n",
       "      <td>0</td>\n",
       "      <td>No</td>\n",
       "      <td>No</td>\n",
       "      <td>47</td>\n",
       "      <td>Yes</td>\n",
       "      <td>No</td>\n",
       "      <td>No</td>\n",
       "      <td>No internet service</td>\n",
       "      <td>...</td>\n",
       "      <td>No internet service</td>\n",
       "      <td>No internet service</td>\n",
       "      <td>No internet service</td>\n",
       "      <td>No internet service</td>\n",
       "      <td>Two year</td>\n",
       "      <td>No</td>\n",
       "      <td>Credit card (automatic)</td>\n",
       "      <td>20.25</td>\n",
       "      <td>1029.8</td>\n",
       "      <td>No</td>\n",
       "    </tr>\n",
       "    <tr>\n",
       "      <th>1907</th>\n",
       "      <td>2272-UOINI</td>\n",
       "      <td>Female</td>\n",
       "      <td>0</td>\n",
       "      <td>No</td>\n",
       "      <td>No</td>\n",
       "      <td>7</td>\n",
       "      <td>Yes</td>\n",
       "      <td>No</td>\n",
       "      <td>DSL</td>\n",
       "      <td>Yes</td>\n",
       "      <td>...</td>\n",
       "      <td>No</td>\n",
       "      <td>Yes</td>\n",
       "      <td>Yes</td>\n",
       "      <td>Yes</td>\n",
       "      <td>Month-to-month</td>\n",
       "      <td>Yes</td>\n",
       "      <td>Electronic check</td>\n",
       "      <td>78.50</td>\n",
       "      <td>571.05</td>\n",
       "      <td>No</td>\n",
       "    </tr>\n",
       "    <tr>\n",
       "      <th>1744</th>\n",
       "      <td>8952-WCVCD</td>\n",
       "      <td>Female</td>\n",
       "      <td>0</td>\n",
       "      <td>Yes</td>\n",
       "      <td>No</td>\n",
       "      <td>41</td>\n",
       "      <td>Yes</td>\n",
       "      <td>No</td>\n",
       "      <td>Fiber optic</td>\n",
       "      <td>Yes</td>\n",
       "      <td>...</td>\n",
       "      <td>Yes</td>\n",
       "      <td>No</td>\n",
       "      <td>Yes</td>\n",
       "      <td>Yes</td>\n",
       "      <td>One year</td>\n",
       "      <td>Yes</td>\n",
       "      <td>Bank transfer (automatic)</td>\n",
       "      <td>104.45</td>\n",
       "      <td>4162.05</td>\n",
       "      <td>No</td>\n",
       "    </tr>\n",
       "    <tr>\n",
       "      <th>7032</th>\n",
       "      <td>6894-LFHLY</td>\n",
       "      <td>Male</td>\n",
       "      <td>1</td>\n",
       "      <td>No</td>\n",
       "      <td>No</td>\n",
       "      <td>1</td>\n",
       "      <td>Yes</td>\n",
       "      <td>Yes</td>\n",
       "      <td>Fiber optic</td>\n",
       "      <td>No</td>\n",
       "      <td>...</td>\n",
       "      <td>No</td>\n",
       "      <td>No</td>\n",
       "      <td>No</td>\n",
       "      <td>No</td>\n",
       "      <td>Month-to-month</td>\n",
       "      <td>Yes</td>\n",
       "      <td>Electronic check</td>\n",
       "      <td>75.75</td>\n",
       "      <td>75.75</td>\n",
       "      <td>Yes</td>\n",
       "    </tr>\n",
       "    <tr>\n",
       "      <th>2151</th>\n",
       "      <td>2560-WBWXF</td>\n",
       "      <td>Male</td>\n",
       "      <td>0</td>\n",
       "      <td>No</td>\n",
       "      <td>No</td>\n",
       "      <td>68</td>\n",
       "      <td>Yes</td>\n",
       "      <td>Yes</td>\n",
       "      <td>No</td>\n",
       "      <td>No internet service</td>\n",
       "      <td>...</td>\n",
       "      <td>No internet service</td>\n",
       "      <td>No internet service</td>\n",
       "      <td>No internet service</td>\n",
       "      <td>No internet service</td>\n",
       "      <td>Two year</td>\n",
       "      <td>Yes</td>\n",
       "      <td>Bank transfer (automatic)</td>\n",
       "      <td>24.15</td>\n",
       "      <td>1498.85</td>\n",
       "      <td>No</td>\n",
       "    </tr>\n",
       "  </tbody>\n",
       "</table>\n",
       "<p>5 rows × 21 columns</p>\n",
       "</div>"
      ],
      "text/plain": [
       "      customerID  gender  SeniorCitizen Partner Dependents  tenure  \\\n",
       "5751  0932-YIXYU  Female              0      No         No      47   \n",
       "1907  2272-UOINI  Female              0      No         No       7   \n",
       "1744  8952-WCVCD  Female              0     Yes         No      41   \n",
       "7032  6894-LFHLY    Male              1      No         No       1   \n",
       "2151  2560-WBWXF    Male              0      No         No      68   \n",
       "\n",
       "     PhoneService MultipleLines InternetService       OnlineSecurity  ...  \\\n",
       "5751          Yes            No              No  No internet service  ...   \n",
       "1907          Yes            No             DSL                  Yes  ...   \n",
       "1744          Yes            No     Fiber optic                  Yes  ...   \n",
       "7032          Yes           Yes     Fiber optic                   No  ...   \n",
       "2151          Yes           Yes              No  No internet service  ...   \n",
       "\n",
       "         DeviceProtection          TechSupport          StreamingTV  \\\n",
       "5751  No internet service  No internet service  No internet service   \n",
       "1907                   No                  Yes                  Yes   \n",
       "1744                  Yes                   No                  Yes   \n",
       "7032                   No                   No                   No   \n",
       "2151  No internet service  No internet service  No internet service   \n",
       "\n",
       "          StreamingMovies        Contract PaperlessBilling  \\\n",
       "5751  No internet service        Two year               No   \n",
       "1907                  Yes  Month-to-month              Yes   \n",
       "1744                  Yes        One year              Yes   \n",
       "7032                   No  Month-to-month              Yes   \n",
       "2151  No internet service        Two year              Yes   \n",
       "\n",
       "                  PaymentMethod MonthlyCharges  TotalCharges Churn  \n",
       "5751    Credit card (automatic)          20.25        1029.8    No  \n",
       "1907           Electronic check          78.50        571.05    No  \n",
       "1744  Bank transfer (automatic)         104.45       4162.05    No  \n",
       "7032           Electronic check          75.75         75.75   Yes  \n",
       "2151  Bank transfer (automatic)          24.15       1498.85    No  \n",
       "\n",
       "[5 rows x 21 columns]"
      ]
     },
     "execution_count": 253,
     "metadata": {},
     "output_type": "execute_result"
    }
   ],
   "source": [
    "#Load the Data\n",
    "df_telco = pd.read_csv(r\"C:\\Users\\kalha\\Applied AI\\CW02\\WA_Fn-UseC_-Telco-Customer-Churn.csv\")\n",
    "df_telco.sample(5)"
   ]
  },
  {
   "cell_type": "code",
   "execution_count": 254,
   "id": "887325d6",
   "metadata": {},
   "outputs": [
    {
     "data": {
      "text/plain": [
       "(7043, 21)"
      ]
     },
     "execution_count": 254,
     "metadata": {},
     "output_type": "execute_result"
    }
   ],
   "source": [
    "df_telco.shape"
   ]
  },
  {
   "cell_type": "code",
   "execution_count": 255,
   "id": "ec5c081f",
   "metadata": {},
   "outputs": [
    {
     "data": {
      "text/html": [
       "<div>\n",
       "<style scoped>\n",
       "    .dataframe tbody tr th:only-of-type {\n",
       "        vertical-align: middle;\n",
       "    }\n",
       "\n",
       "    .dataframe tbody tr th {\n",
       "        vertical-align: top;\n",
       "    }\n",
       "\n",
       "    .dataframe thead th {\n",
       "        text-align: right;\n",
       "    }\n",
       "</style>\n",
       "<table border=\"1\" class=\"dataframe\">\n",
       "  <thead>\n",
       "    <tr style=\"text-align: right;\">\n",
       "      <th></th>\n",
       "      <th>SeniorCitizen</th>\n",
       "      <th>tenure</th>\n",
       "      <th>MonthlyCharges</th>\n",
       "    </tr>\n",
       "  </thead>\n",
       "  <tbody>\n",
       "    <tr>\n",
       "      <th>count</th>\n",
       "      <td>7043.000000</td>\n",
       "      <td>7043.000000</td>\n",
       "      <td>7043.000000</td>\n",
       "    </tr>\n",
       "    <tr>\n",
       "      <th>mean</th>\n",
       "      <td>0.162147</td>\n",
       "      <td>32.371149</td>\n",
       "      <td>64.761692</td>\n",
       "    </tr>\n",
       "    <tr>\n",
       "      <th>std</th>\n",
       "      <td>0.368612</td>\n",
       "      <td>24.559481</td>\n",
       "      <td>30.090047</td>\n",
       "    </tr>\n",
       "    <tr>\n",
       "      <th>min</th>\n",
       "      <td>0.000000</td>\n",
       "      <td>0.000000</td>\n",
       "      <td>18.250000</td>\n",
       "    </tr>\n",
       "    <tr>\n",
       "      <th>25%</th>\n",
       "      <td>0.000000</td>\n",
       "      <td>9.000000</td>\n",
       "      <td>35.500000</td>\n",
       "    </tr>\n",
       "    <tr>\n",
       "      <th>50%</th>\n",
       "      <td>0.000000</td>\n",
       "      <td>29.000000</td>\n",
       "      <td>70.350000</td>\n",
       "    </tr>\n",
       "    <tr>\n",
       "      <th>75%</th>\n",
       "      <td>0.000000</td>\n",
       "      <td>55.000000</td>\n",
       "      <td>89.850000</td>\n",
       "    </tr>\n",
       "    <tr>\n",
       "      <th>max</th>\n",
       "      <td>1.000000</td>\n",
       "      <td>72.000000</td>\n",
       "      <td>118.750000</td>\n",
       "    </tr>\n",
       "  </tbody>\n",
       "</table>\n",
       "</div>"
      ],
      "text/plain": [
       "       SeniorCitizen       tenure  MonthlyCharges\n",
       "count    7043.000000  7043.000000     7043.000000\n",
       "mean        0.162147    32.371149       64.761692\n",
       "std         0.368612    24.559481       30.090047\n",
       "min         0.000000     0.000000       18.250000\n",
       "25%         0.000000     9.000000       35.500000\n",
       "50%         0.000000    29.000000       70.350000\n",
       "75%         0.000000    55.000000       89.850000\n",
       "max         1.000000    72.000000      118.750000"
      ]
     },
     "execution_count": 255,
     "metadata": {},
     "output_type": "execute_result"
    }
   ],
   "source": [
    "df_telco.describe()"
   ]
  },
  {
   "cell_type": "code",
   "execution_count": 256,
   "id": "5ab2ad9c",
   "metadata": {},
   "outputs": [
    {
     "data": {
      "text/plain": [
       "Index(['customerID', 'gender', 'SeniorCitizen', 'Partner', 'Dependents',\n",
       "       'tenure', 'PhoneService', 'MultipleLines', 'InternetService',\n",
       "       'OnlineSecurity', 'OnlineBackup', 'DeviceProtection', 'TechSupport',\n",
       "       'StreamingTV', 'StreamingMovies', 'Contract', 'PaperlessBilling',\n",
       "       'PaymentMethod', 'MonthlyCharges', 'TotalCharges', 'Churn'],\n",
       "      dtype='object')"
      ]
     },
     "execution_count": 256,
     "metadata": {},
     "output_type": "execute_result"
    }
   ],
   "source": [
    "#df_telco.isnull().sum()\n",
    "df_telco.columns"
   ]
  },
  {
   "cell_type": "code",
   "execution_count": 257,
   "id": "04f6c934",
   "metadata": {},
   "outputs": [
    {
     "data": {
      "text/plain": [
       "0       Female\n",
       "1         Male\n",
       "2         Male\n",
       "3         Male\n",
       "4       Female\n",
       "         ...  \n",
       "7038      Male\n",
       "7039    Female\n",
       "7040    Female\n",
       "7041      Male\n",
       "7042      Male\n",
       "Name: gender, Length: 7043, dtype: object"
      ]
     },
     "execution_count": 257,
     "metadata": {},
     "output_type": "execute_result"
    }
   ],
   "source": [
    "df_telco['gender']"
   ]
  },
  {
   "cell_type": "code",
   "execution_count": 258,
   "id": "178399a9",
   "metadata": {},
   "outputs": [
    {
     "data": {
      "text/html": [
       "<div>\n",
       "<style scoped>\n",
       "    .dataframe tbody tr th:only-of-type {\n",
       "        vertical-align: middle;\n",
       "    }\n",
       "\n",
       "    .dataframe tbody tr th {\n",
       "        vertical-align: top;\n",
       "    }\n",
       "\n",
       "    .dataframe thead th {\n",
       "        text-align: right;\n",
       "    }\n",
       "</style>\n",
       "<table border=\"1\" class=\"dataframe\">\n",
       "  <thead>\n",
       "    <tr style=\"text-align: right;\">\n",
       "      <th></th>\n",
       "      <th>gender</th>\n",
       "      <th>InternetService</th>\n",
       "    </tr>\n",
       "  </thead>\n",
       "  <tbody>\n",
       "    <tr>\n",
       "      <th>0</th>\n",
       "      <td>Female</td>\n",
       "      <td>DSL</td>\n",
       "    </tr>\n",
       "    <tr>\n",
       "      <th>1</th>\n",
       "      <td>Male</td>\n",
       "      <td>DSL</td>\n",
       "    </tr>\n",
       "    <tr>\n",
       "      <th>2</th>\n",
       "      <td>Male</td>\n",
       "      <td>DSL</td>\n",
       "    </tr>\n",
       "    <tr>\n",
       "      <th>3</th>\n",
       "      <td>Male</td>\n",
       "      <td>DSL</td>\n",
       "    </tr>\n",
       "    <tr>\n",
       "      <th>4</th>\n",
       "      <td>Female</td>\n",
       "      <td>Fiber optic</td>\n",
       "    </tr>\n",
       "    <tr>\n",
       "      <th>...</th>\n",
       "      <td>...</td>\n",
       "      <td>...</td>\n",
       "    </tr>\n",
       "    <tr>\n",
       "      <th>7038</th>\n",
       "      <td>Male</td>\n",
       "      <td>DSL</td>\n",
       "    </tr>\n",
       "    <tr>\n",
       "      <th>7039</th>\n",
       "      <td>Female</td>\n",
       "      <td>Fiber optic</td>\n",
       "    </tr>\n",
       "    <tr>\n",
       "      <th>7040</th>\n",
       "      <td>Female</td>\n",
       "      <td>DSL</td>\n",
       "    </tr>\n",
       "    <tr>\n",
       "      <th>7041</th>\n",
       "      <td>Male</td>\n",
       "      <td>Fiber optic</td>\n",
       "    </tr>\n",
       "    <tr>\n",
       "      <th>7042</th>\n",
       "      <td>Male</td>\n",
       "      <td>Fiber optic</td>\n",
       "    </tr>\n",
       "  </tbody>\n",
       "</table>\n",
       "<p>7043 rows × 2 columns</p>\n",
       "</div>"
      ],
      "text/plain": [
       "      gender InternetService\n",
       "0     Female             DSL\n",
       "1       Male             DSL\n",
       "2       Male             DSL\n",
       "3       Male             DSL\n",
       "4     Female     Fiber optic\n",
       "...      ...             ...\n",
       "7038    Male             DSL\n",
       "7039  Female     Fiber optic\n",
       "7040  Female             DSL\n",
       "7041    Male     Fiber optic\n",
       "7042    Male     Fiber optic\n",
       "\n",
       "[7043 rows x 2 columns]"
      ]
     },
     "execution_count": 258,
     "metadata": {},
     "output_type": "execute_result"
    }
   ],
   "source": [
    "df_telco[['gender', 'InternetService']]"
   ]
  },
  {
   "cell_type": "code",
   "execution_count": 259,
   "id": "cb55b2d7",
   "metadata": {},
   "outputs": [
    {
     "data": {
      "text/plain": [
       "Fiber optic    3096\n",
       "DSL            2421\n",
       "No             1526\n",
       "Name: InternetService, dtype: int64"
      ]
     },
     "execution_count": 259,
     "metadata": {},
     "output_type": "execute_result"
    }
   ],
   "source": [
    "#df_telco.InternetService.value_counts()\n",
    "df_telco['InternetService'].value_counts()"
   ]
  },
  {
   "cell_type": "code",
   "execution_count": 260,
   "id": "2384cc63",
   "metadata": {},
   "outputs": [
    {
     "data": {
      "text/plain": [
       "customerID           object\n",
       "gender               object\n",
       "SeniorCitizen         int64\n",
       "Partner              object\n",
       "Dependents           object\n",
       "tenure                int64\n",
       "PhoneService         object\n",
       "MultipleLines        object\n",
       "InternetService      object\n",
       "OnlineSecurity       object\n",
       "OnlineBackup         object\n",
       "DeviceProtection     object\n",
       "TechSupport          object\n",
       "StreamingTV          object\n",
       "StreamingMovies      object\n",
       "Contract             object\n",
       "PaperlessBilling     object\n",
       "PaymentMethod        object\n",
       "MonthlyCharges      float64\n",
       "TotalCharges         object\n",
       "Churn                object\n",
       "dtype: object"
      ]
     },
     "execution_count": 260,
     "metadata": {},
     "output_type": "execute_result"
    }
   ],
   "source": [
    "# Display the data types of our dataset columns\n",
    "df_telco.dtypes"
   ]
  },
  {
   "cell_type": "markdown",
   "id": "9e2f5305",
   "metadata": {},
   "source": [
    "### Handling Missing Data - Data Cleaning\n",
    "\n",
    "#### Removing the CustomerID column"
   ]
  },
  {
   "cell_type": "code",
   "execution_count": 261,
   "id": "07659fcf",
   "metadata": {},
   "outputs": [],
   "source": [
    "#First of all, drop customerID column as it is of no use\n",
    "df_telco.drop('customerID',axis='columns',inplace=True)"
   ]
  },
  {
   "cell_type": "code",
   "execution_count": 262,
   "id": "4d1f2cc2",
   "metadata": {},
   "outputs": [
    {
     "data": {
      "text/html": [
       "<div>\n",
       "<style scoped>\n",
       "    .dataframe tbody tr th:only-of-type {\n",
       "        vertical-align: middle;\n",
       "    }\n",
       "\n",
       "    .dataframe tbody tr th {\n",
       "        vertical-align: top;\n",
       "    }\n",
       "\n",
       "    .dataframe thead th {\n",
       "        text-align: right;\n",
       "    }\n",
       "</style>\n",
       "<table border=\"1\" class=\"dataframe\">\n",
       "  <thead>\n",
       "    <tr style=\"text-align: right;\">\n",
       "      <th></th>\n",
       "      <th>gender</th>\n",
       "      <th>SeniorCitizen</th>\n",
       "      <th>Partner</th>\n",
       "      <th>Dependents</th>\n",
       "      <th>tenure</th>\n",
       "      <th>PhoneService</th>\n",
       "      <th>MultipleLines</th>\n",
       "      <th>InternetService</th>\n",
       "      <th>OnlineSecurity</th>\n",
       "      <th>OnlineBackup</th>\n",
       "      <th>DeviceProtection</th>\n",
       "      <th>TechSupport</th>\n",
       "      <th>StreamingTV</th>\n",
       "      <th>StreamingMovies</th>\n",
       "      <th>Contract</th>\n",
       "      <th>PaperlessBilling</th>\n",
       "      <th>PaymentMethod</th>\n",
       "      <th>MonthlyCharges</th>\n",
       "      <th>TotalCharges</th>\n",
       "      <th>Churn</th>\n",
       "    </tr>\n",
       "  </thead>\n",
       "  <tbody>\n",
       "    <tr>\n",
       "      <th>0</th>\n",
       "      <td>Female</td>\n",
       "      <td>0</td>\n",
       "      <td>Yes</td>\n",
       "      <td>No</td>\n",
       "      <td>1</td>\n",
       "      <td>No</td>\n",
       "      <td>No phone service</td>\n",
       "      <td>DSL</td>\n",
       "      <td>No</td>\n",
       "      <td>Yes</td>\n",
       "      <td>No</td>\n",
       "      <td>No</td>\n",
       "      <td>No</td>\n",
       "      <td>No</td>\n",
       "      <td>Month-to-month</td>\n",
       "      <td>Yes</td>\n",
       "      <td>Electronic check</td>\n",
       "      <td>29.85</td>\n",
       "      <td>29.85</td>\n",
       "      <td>No</td>\n",
       "    </tr>\n",
       "    <tr>\n",
       "      <th>1</th>\n",
       "      <td>Male</td>\n",
       "      <td>0</td>\n",
       "      <td>No</td>\n",
       "      <td>No</td>\n",
       "      <td>34</td>\n",
       "      <td>Yes</td>\n",
       "      <td>No</td>\n",
       "      <td>DSL</td>\n",
       "      <td>Yes</td>\n",
       "      <td>No</td>\n",
       "      <td>Yes</td>\n",
       "      <td>No</td>\n",
       "      <td>No</td>\n",
       "      <td>No</td>\n",
       "      <td>One year</td>\n",
       "      <td>No</td>\n",
       "      <td>Mailed check</td>\n",
       "      <td>56.95</td>\n",
       "      <td>1889.5</td>\n",
       "      <td>No</td>\n",
       "    </tr>\n",
       "    <tr>\n",
       "      <th>2</th>\n",
       "      <td>Male</td>\n",
       "      <td>0</td>\n",
       "      <td>No</td>\n",
       "      <td>No</td>\n",
       "      <td>2</td>\n",
       "      <td>Yes</td>\n",
       "      <td>No</td>\n",
       "      <td>DSL</td>\n",
       "      <td>Yes</td>\n",
       "      <td>Yes</td>\n",
       "      <td>No</td>\n",
       "      <td>No</td>\n",
       "      <td>No</td>\n",
       "      <td>No</td>\n",
       "      <td>Month-to-month</td>\n",
       "      <td>Yes</td>\n",
       "      <td>Mailed check</td>\n",
       "      <td>53.85</td>\n",
       "      <td>108.15</td>\n",
       "      <td>Yes</td>\n",
       "    </tr>\n",
       "    <tr>\n",
       "      <th>3</th>\n",
       "      <td>Male</td>\n",
       "      <td>0</td>\n",
       "      <td>No</td>\n",
       "      <td>No</td>\n",
       "      <td>45</td>\n",
       "      <td>No</td>\n",
       "      <td>No phone service</td>\n",
       "      <td>DSL</td>\n",
       "      <td>Yes</td>\n",
       "      <td>No</td>\n",
       "      <td>Yes</td>\n",
       "      <td>Yes</td>\n",
       "      <td>No</td>\n",
       "      <td>No</td>\n",
       "      <td>One year</td>\n",
       "      <td>No</td>\n",
       "      <td>Bank transfer (automatic)</td>\n",
       "      <td>42.30</td>\n",
       "      <td>1840.75</td>\n",
       "      <td>No</td>\n",
       "    </tr>\n",
       "    <tr>\n",
       "      <th>4</th>\n",
       "      <td>Female</td>\n",
       "      <td>0</td>\n",
       "      <td>No</td>\n",
       "      <td>No</td>\n",
       "      <td>2</td>\n",
       "      <td>Yes</td>\n",
       "      <td>No</td>\n",
       "      <td>Fiber optic</td>\n",
       "      <td>No</td>\n",
       "      <td>No</td>\n",
       "      <td>No</td>\n",
       "      <td>No</td>\n",
       "      <td>No</td>\n",
       "      <td>No</td>\n",
       "      <td>Month-to-month</td>\n",
       "      <td>Yes</td>\n",
       "      <td>Electronic check</td>\n",
       "      <td>70.70</td>\n",
       "      <td>151.65</td>\n",
       "      <td>Yes</td>\n",
       "    </tr>\n",
       "  </tbody>\n",
       "</table>\n",
       "</div>"
      ],
      "text/plain": [
       "   gender  SeniorCitizen Partner Dependents  tenure PhoneService  \\\n",
       "0  Female              0     Yes         No       1           No   \n",
       "1    Male              0      No         No      34          Yes   \n",
       "2    Male              0      No         No       2          Yes   \n",
       "3    Male              0      No         No      45           No   \n",
       "4  Female              0      No         No       2          Yes   \n",
       "\n",
       "      MultipleLines InternetService OnlineSecurity OnlineBackup  \\\n",
       "0  No phone service             DSL             No          Yes   \n",
       "1                No             DSL            Yes           No   \n",
       "2                No             DSL            Yes          Yes   \n",
       "3  No phone service             DSL            Yes           No   \n",
       "4                No     Fiber optic             No           No   \n",
       "\n",
       "  DeviceProtection TechSupport StreamingTV StreamingMovies        Contract  \\\n",
       "0               No          No          No              No  Month-to-month   \n",
       "1              Yes          No          No              No        One year   \n",
       "2               No          No          No              No  Month-to-month   \n",
       "3              Yes         Yes          No              No        One year   \n",
       "4               No          No          No              No  Month-to-month   \n",
       "\n",
       "  PaperlessBilling              PaymentMethod  MonthlyCharges TotalCharges  \\\n",
       "0              Yes           Electronic check           29.85        29.85   \n",
       "1               No               Mailed check           56.95       1889.5   \n",
       "2              Yes               Mailed check           53.85       108.15   \n",
       "3               No  Bank transfer (automatic)           42.30      1840.75   \n",
       "4              Yes           Electronic check           70.70       151.65   \n",
       "\n",
       "  Churn  \n",
       "0    No  \n",
       "1    No  \n",
       "2   Yes  \n",
       "3    No  \n",
       "4   Yes  "
      ]
     },
     "execution_count": 262,
     "metadata": {},
     "output_type": "execute_result"
    }
   ],
   "source": [
    "df_telco.head()"
   ]
  },
  {
   "cell_type": "code",
   "execution_count": 263,
   "id": "05a7ebb6",
   "metadata": {},
   "outputs": [
    {
     "name": "stdout",
     "output_type": "stream",
     "text": [
      "<class 'pandas.core.frame.DataFrame'>\n",
      "RangeIndex: 7043 entries, 0 to 7042\n",
      "Data columns (total 20 columns):\n",
      " #   Column            Non-Null Count  Dtype  \n",
      "---  ------            --------------  -----  \n",
      " 0   gender            7043 non-null   object \n",
      " 1   SeniorCitizen     7043 non-null   int64  \n",
      " 2   Partner           7043 non-null   object \n",
      " 3   Dependents        7043 non-null   object \n",
      " 4   tenure            7043 non-null   int64  \n",
      " 5   PhoneService      7043 non-null   object \n",
      " 6   MultipleLines     7043 non-null   object \n",
      " 7   InternetService   7043 non-null   object \n",
      " 8   OnlineSecurity    7043 non-null   object \n",
      " 9   OnlineBackup      7043 non-null   object \n",
      " 10  DeviceProtection  7043 non-null   object \n",
      " 11  TechSupport       7043 non-null   object \n",
      " 12  StreamingTV       7043 non-null   object \n",
      " 13  StreamingMovies   7043 non-null   object \n",
      " 14  Contract          7043 non-null   object \n",
      " 15  PaperlessBilling  7043 non-null   object \n",
      " 16  PaymentMethod     7043 non-null   object \n",
      " 17  MonthlyCharges    7043 non-null   float64\n",
      " 18  TotalCharges      7043 non-null   object \n",
      " 19  Churn             7043 non-null   object \n",
      "dtypes: float64(1), int64(2), object(17)\n",
      "memory usage: 1.1+ MB\n"
     ]
    }
   ],
   "source": [
    "df_telco.info()"
   ]
  },
  {
   "cell_type": "code",
   "execution_count": 264,
   "id": "42f733d9",
   "metadata": {},
   "outputs": [
    {
     "data": {
      "text/plain": [
       "gender              0\n",
       "SeniorCitizen       0\n",
       "Partner             0\n",
       "Dependents          0\n",
       "tenure              0\n",
       "PhoneService        0\n",
       "MultipleLines       0\n",
       "InternetService     0\n",
       "OnlineSecurity      0\n",
       "OnlineBackup        0\n",
       "DeviceProtection    0\n",
       "TechSupport         0\n",
       "StreamingTV         0\n",
       "StreamingMovies     0\n",
       "Contract            0\n",
       "PaperlessBilling    0\n",
       "PaymentMethod       0\n",
       "MonthlyCharges      0\n",
       "TotalCharges        0\n",
       "Churn               0\n",
       "dtype: int64"
      ]
     },
     "execution_count": 264,
     "metadata": {},
     "output_type": "execute_result"
    }
   ],
   "source": [
    "df_telco.isnull().sum()"
   ]
  },
  {
   "cell_type": "code",
   "execution_count": 265,
   "id": "9bca1133",
   "metadata": {},
   "outputs": [
    {
     "data": {
      "text/plain": [
       "gender               object\n",
       "SeniorCitizen         int64\n",
       "Partner              object\n",
       "Dependents           object\n",
       "tenure                int64\n",
       "PhoneService         object\n",
       "MultipleLines        object\n",
       "InternetService      object\n",
       "OnlineSecurity       object\n",
       "OnlineBackup         object\n",
       "DeviceProtection     object\n",
       "TechSupport          object\n",
       "StreamingTV          object\n",
       "StreamingMovies      object\n",
       "Contract             object\n",
       "PaperlessBilling     object\n",
       "PaymentMethod        object\n",
       "MonthlyCharges      float64\n",
       "TotalCharges         object\n",
       "Churn                object\n",
       "dtype: object"
      ]
     },
     "execution_count": 265,
     "metadata": {},
     "output_type": "execute_result"
    }
   ],
   "source": [
    "# Display the data types of our dataset columns\n",
    "df_telco.dtypes"
   ]
  },
  {
   "cell_type": "markdown",
   "id": "a51da7bd",
   "metadata": {},
   "source": [
    "One strange thing is that we have **TotalCharges as object** data type, however the **MonthlyCharges is of float64** type. This means we need to figure out and convert it to numeric data type.\n",
    "\n",
    "**Lets check the values of TotalCharges**"
   ]
  },
  {
   "cell_type": "code",
   "execution_count": 266,
   "id": "0b4b75b6",
   "metadata": {},
   "outputs": [
    {
     "data": {
      "text/plain": [
       "array(['29.85', '1889.5', '108.15', ..., '346.45', '306.6', '6844.5'],\n",
       "      dtype=object)"
      ]
     },
     "execution_count": 266,
     "metadata": {},
     "output_type": "execute_result"
    }
   ],
   "source": [
    "# Quick glance at above makes me realize that TotalCharges should be float but it is an object. Let's check what's going on with this column\n",
    "df_telco.TotalCharges.values"
   ]
  },
  {
   "cell_type": "markdown",
   "id": "892a8dff",
   "metadata": {},
   "source": [
    "The TotalCharges proved to be **string** data type. Now we will convert it to numeric data type.\n",
    "\n",
    "**pd.to_numeric(df.TotalCharges)**\n",
    "\n",
    "It gives an error because there are some values that have a space in the values for TotalCharges, so we need to cater this issue now.\n",
    "\n",
    "We will add *errors='coerce'* to convert everything inside the column values from string to numeric."
   ]
  },
  {
   "cell_type": "code",
   "execution_count": 267,
   "id": "db7433c6",
   "metadata": {},
   "outputs": [
    {
     "data": {
      "text/plain": [
       "0       False\n",
       "1       False\n",
       "2       False\n",
       "3       False\n",
       "4       False\n",
       "        ...  \n",
       "7038    False\n",
       "7039    False\n",
       "7040    False\n",
       "7041    False\n",
       "7042    False\n",
       "Name: TotalCharges, Length: 7043, dtype: bool"
      ]
     },
     "execution_count": 267,
     "metadata": {},
     "output_type": "execute_result"
    }
   ],
   "source": [
    "#Ahh... it is string. Lets convert it to numbers\n",
    "# Before that remove null values\n",
    "#some values seems to be not numbers but blank string. Let's find out such rows\n",
    "#pd.to_numeric(df_telco.TotalCharges,errors='coerce')\n",
    "\n",
    "pd.to_numeric(df_telco.TotalCharges,errors='coerce').isnull()"
   ]
  },
  {
   "cell_type": "markdown",
   "id": "d76505f3",
   "metadata": {},
   "source": [
    "Lets have a look at the null values in the dataset we have after converting the **TotalCharges** column from string to numeric data type."
   ]
  },
  {
   "cell_type": "code",
   "execution_count": 268,
   "id": "7e3d0238",
   "metadata": {},
   "outputs": [
    {
     "data": {
      "text/html": [
       "<div>\n",
       "<style scoped>\n",
       "    .dataframe tbody tr th:only-of-type {\n",
       "        vertical-align: middle;\n",
       "    }\n",
       "\n",
       "    .dataframe tbody tr th {\n",
       "        vertical-align: top;\n",
       "    }\n",
       "\n",
       "    .dataframe thead th {\n",
       "        text-align: right;\n",
       "    }\n",
       "</style>\n",
       "<table border=\"1\" class=\"dataframe\">\n",
       "  <thead>\n",
       "    <tr style=\"text-align: right;\">\n",
       "      <th></th>\n",
       "      <th>gender</th>\n",
       "      <th>SeniorCitizen</th>\n",
       "      <th>Partner</th>\n",
       "      <th>Dependents</th>\n",
       "      <th>tenure</th>\n",
       "      <th>PhoneService</th>\n",
       "      <th>MultipleLines</th>\n",
       "      <th>InternetService</th>\n",
       "      <th>OnlineSecurity</th>\n",
       "      <th>OnlineBackup</th>\n",
       "      <th>DeviceProtection</th>\n",
       "      <th>TechSupport</th>\n",
       "      <th>StreamingTV</th>\n",
       "      <th>StreamingMovies</th>\n",
       "      <th>Contract</th>\n",
       "      <th>PaperlessBilling</th>\n",
       "      <th>PaymentMethod</th>\n",
       "      <th>MonthlyCharges</th>\n",
       "      <th>TotalCharges</th>\n",
       "      <th>Churn</th>\n",
       "    </tr>\n",
       "  </thead>\n",
       "  <tbody>\n",
       "    <tr>\n",
       "      <th>488</th>\n",
       "      <td>Female</td>\n",
       "      <td>0</td>\n",
       "      <td>Yes</td>\n",
       "      <td>Yes</td>\n",
       "      <td>0</td>\n",
       "      <td>No</td>\n",
       "      <td>No phone service</td>\n",
       "      <td>DSL</td>\n",
       "      <td>Yes</td>\n",
       "      <td>No</td>\n",
       "      <td>Yes</td>\n",
       "      <td>Yes</td>\n",
       "      <td>Yes</td>\n",
       "      <td>No</td>\n",
       "      <td>Two year</td>\n",
       "      <td>Yes</td>\n",
       "      <td>Bank transfer (automatic)</td>\n",
       "      <td>52.55</td>\n",
       "      <td></td>\n",
       "      <td>No</td>\n",
       "    </tr>\n",
       "    <tr>\n",
       "      <th>753</th>\n",
       "      <td>Male</td>\n",
       "      <td>0</td>\n",
       "      <td>No</td>\n",
       "      <td>Yes</td>\n",
       "      <td>0</td>\n",
       "      <td>Yes</td>\n",
       "      <td>No</td>\n",
       "      <td>No</td>\n",
       "      <td>No internet service</td>\n",
       "      <td>No internet service</td>\n",
       "      <td>No internet service</td>\n",
       "      <td>No internet service</td>\n",
       "      <td>No internet service</td>\n",
       "      <td>No internet service</td>\n",
       "      <td>Two year</td>\n",
       "      <td>No</td>\n",
       "      <td>Mailed check</td>\n",
       "      <td>20.25</td>\n",
       "      <td></td>\n",
       "      <td>No</td>\n",
       "    </tr>\n",
       "    <tr>\n",
       "      <th>936</th>\n",
       "      <td>Female</td>\n",
       "      <td>0</td>\n",
       "      <td>Yes</td>\n",
       "      <td>Yes</td>\n",
       "      <td>0</td>\n",
       "      <td>Yes</td>\n",
       "      <td>No</td>\n",
       "      <td>DSL</td>\n",
       "      <td>Yes</td>\n",
       "      <td>Yes</td>\n",
       "      <td>Yes</td>\n",
       "      <td>No</td>\n",
       "      <td>Yes</td>\n",
       "      <td>Yes</td>\n",
       "      <td>Two year</td>\n",
       "      <td>No</td>\n",
       "      <td>Mailed check</td>\n",
       "      <td>80.85</td>\n",
       "      <td></td>\n",
       "      <td>No</td>\n",
       "    </tr>\n",
       "    <tr>\n",
       "      <th>1082</th>\n",
       "      <td>Male</td>\n",
       "      <td>0</td>\n",
       "      <td>Yes</td>\n",
       "      <td>Yes</td>\n",
       "      <td>0</td>\n",
       "      <td>Yes</td>\n",
       "      <td>Yes</td>\n",
       "      <td>No</td>\n",
       "      <td>No internet service</td>\n",
       "      <td>No internet service</td>\n",
       "      <td>No internet service</td>\n",
       "      <td>No internet service</td>\n",
       "      <td>No internet service</td>\n",
       "      <td>No internet service</td>\n",
       "      <td>Two year</td>\n",
       "      <td>No</td>\n",
       "      <td>Mailed check</td>\n",
       "      <td>25.75</td>\n",
       "      <td></td>\n",
       "      <td>No</td>\n",
       "    </tr>\n",
       "    <tr>\n",
       "      <th>1340</th>\n",
       "      <td>Female</td>\n",
       "      <td>0</td>\n",
       "      <td>Yes</td>\n",
       "      <td>Yes</td>\n",
       "      <td>0</td>\n",
       "      <td>No</td>\n",
       "      <td>No phone service</td>\n",
       "      <td>DSL</td>\n",
       "      <td>Yes</td>\n",
       "      <td>Yes</td>\n",
       "      <td>Yes</td>\n",
       "      <td>Yes</td>\n",
       "      <td>Yes</td>\n",
       "      <td>No</td>\n",
       "      <td>Two year</td>\n",
       "      <td>No</td>\n",
       "      <td>Credit card (automatic)</td>\n",
       "      <td>56.05</td>\n",
       "      <td></td>\n",
       "      <td>No</td>\n",
       "    </tr>\n",
       "    <tr>\n",
       "      <th>3331</th>\n",
       "      <td>Male</td>\n",
       "      <td>0</td>\n",
       "      <td>Yes</td>\n",
       "      <td>Yes</td>\n",
       "      <td>0</td>\n",
       "      <td>Yes</td>\n",
       "      <td>No</td>\n",
       "      <td>No</td>\n",
       "      <td>No internet service</td>\n",
       "      <td>No internet service</td>\n",
       "      <td>No internet service</td>\n",
       "      <td>No internet service</td>\n",
       "      <td>No internet service</td>\n",
       "      <td>No internet service</td>\n",
       "      <td>Two year</td>\n",
       "      <td>No</td>\n",
       "      <td>Mailed check</td>\n",
       "      <td>19.85</td>\n",
       "      <td></td>\n",
       "      <td>No</td>\n",
       "    </tr>\n",
       "    <tr>\n",
       "      <th>3826</th>\n",
       "      <td>Male</td>\n",
       "      <td>0</td>\n",
       "      <td>Yes</td>\n",
       "      <td>Yes</td>\n",
       "      <td>0</td>\n",
       "      <td>Yes</td>\n",
       "      <td>Yes</td>\n",
       "      <td>No</td>\n",
       "      <td>No internet service</td>\n",
       "      <td>No internet service</td>\n",
       "      <td>No internet service</td>\n",
       "      <td>No internet service</td>\n",
       "      <td>No internet service</td>\n",
       "      <td>No internet service</td>\n",
       "      <td>Two year</td>\n",
       "      <td>No</td>\n",
       "      <td>Mailed check</td>\n",
       "      <td>25.35</td>\n",
       "      <td></td>\n",
       "      <td>No</td>\n",
       "    </tr>\n",
       "    <tr>\n",
       "      <th>4380</th>\n",
       "      <td>Female</td>\n",
       "      <td>0</td>\n",
       "      <td>Yes</td>\n",
       "      <td>Yes</td>\n",
       "      <td>0</td>\n",
       "      <td>Yes</td>\n",
       "      <td>No</td>\n",
       "      <td>No</td>\n",
       "      <td>No internet service</td>\n",
       "      <td>No internet service</td>\n",
       "      <td>No internet service</td>\n",
       "      <td>No internet service</td>\n",
       "      <td>No internet service</td>\n",
       "      <td>No internet service</td>\n",
       "      <td>Two year</td>\n",
       "      <td>No</td>\n",
       "      <td>Mailed check</td>\n",
       "      <td>20.00</td>\n",
       "      <td></td>\n",
       "      <td>No</td>\n",
       "    </tr>\n",
       "    <tr>\n",
       "      <th>5218</th>\n",
       "      <td>Male</td>\n",
       "      <td>0</td>\n",
       "      <td>Yes</td>\n",
       "      <td>Yes</td>\n",
       "      <td>0</td>\n",
       "      <td>Yes</td>\n",
       "      <td>No</td>\n",
       "      <td>No</td>\n",
       "      <td>No internet service</td>\n",
       "      <td>No internet service</td>\n",
       "      <td>No internet service</td>\n",
       "      <td>No internet service</td>\n",
       "      <td>No internet service</td>\n",
       "      <td>No internet service</td>\n",
       "      <td>One year</td>\n",
       "      <td>Yes</td>\n",
       "      <td>Mailed check</td>\n",
       "      <td>19.70</td>\n",
       "      <td></td>\n",
       "      <td>No</td>\n",
       "    </tr>\n",
       "    <tr>\n",
       "      <th>6670</th>\n",
       "      <td>Female</td>\n",
       "      <td>0</td>\n",
       "      <td>Yes</td>\n",
       "      <td>Yes</td>\n",
       "      <td>0</td>\n",
       "      <td>Yes</td>\n",
       "      <td>Yes</td>\n",
       "      <td>DSL</td>\n",
       "      <td>No</td>\n",
       "      <td>Yes</td>\n",
       "      <td>Yes</td>\n",
       "      <td>Yes</td>\n",
       "      <td>Yes</td>\n",
       "      <td>No</td>\n",
       "      <td>Two year</td>\n",
       "      <td>No</td>\n",
       "      <td>Mailed check</td>\n",
       "      <td>73.35</td>\n",
       "      <td></td>\n",
       "      <td>No</td>\n",
       "    </tr>\n",
       "    <tr>\n",
       "      <th>6754</th>\n",
       "      <td>Male</td>\n",
       "      <td>0</td>\n",
       "      <td>No</td>\n",
       "      <td>Yes</td>\n",
       "      <td>0</td>\n",
       "      <td>Yes</td>\n",
       "      <td>Yes</td>\n",
       "      <td>DSL</td>\n",
       "      <td>Yes</td>\n",
       "      <td>Yes</td>\n",
       "      <td>No</td>\n",
       "      <td>Yes</td>\n",
       "      <td>No</td>\n",
       "      <td>No</td>\n",
       "      <td>Two year</td>\n",
       "      <td>Yes</td>\n",
       "      <td>Bank transfer (automatic)</td>\n",
       "      <td>61.90</td>\n",
       "      <td></td>\n",
       "      <td>No</td>\n",
       "    </tr>\n",
       "  </tbody>\n",
       "</table>\n",
       "</div>"
      ],
      "text/plain": [
       "      gender  SeniorCitizen Partner Dependents  tenure PhoneService  \\\n",
       "488   Female              0     Yes        Yes       0           No   \n",
       "753     Male              0      No        Yes       0          Yes   \n",
       "936   Female              0     Yes        Yes       0          Yes   \n",
       "1082    Male              0     Yes        Yes       0          Yes   \n",
       "1340  Female              0     Yes        Yes       0           No   \n",
       "3331    Male              0     Yes        Yes       0          Yes   \n",
       "3826    Male              0     Yes        Yes       0          Yes   \n",
       "4380  Female              0     Yes        Yes       0          Yes   \n",
       "5218    Male              0     Yes        Yes       0          Yes   \n",
       "6670  Female              0     Yes        Yes       0          Yes   \n",
       "6754    Male              0      No        Yes       0          Yes   \n",
       "\n",
       "         MultipleLines InternetService       OnlineSecurity  \\\n",
       "488   No phone service             DSL                  Yes   \n",
       "753                 No              No  No internet service   \n",
       "936                 No             DSL                  Yes   \n",
       "1082               Yes              No  No internet service   \n",
       "1340  No phone service             DSL                  Yes   \n",
       "3331                No              No  No internet service   \n",
       "3826               Yes              No  No internet service   \n",
       "4380                No              No  No internet service   \n",
       "5218                No              No  No internet service   \n",
       "6670               Yes             DSL                   No   \n",
       "6754               Yes             DSL                  Yes   \n",
       "\n",
       "             OnlineBackup     DeviceProtection          TechSupport  \\\n",
       "488                    No                  Yes                  Yes   \n",
       "753   No internet service  No internet service  No internet service   \n",
       "936                   Yes                  Yes                   No   \n",
       "1082  No internet service  No internet service  No internet service   \n",
       "1340                  Yes                  Yes                  Yes   \n",
       "3331  No internet service  No internet service  No internet service   \n",
       "3826  No internet service  No internet service  No internet service   \n",
       "4380  No internet service  No internet service  No internet service   \n",
       "5218  No internet service  No internet service  No internet service   \n",
       "6670                  Yes                  Yes                  Yes   \n",
       "6754                  Yes                   No                  Yes   \n",
       "\n",
       "              StreamingTV      StreamingMovies  Contract PaperlessBilling  \\\n",
       "488                   Yes                   No  Two year              Yes   \n",
       "753   No internet service  No internet service  Two year               No   \n",
       "936                   Yes                  Yes  Two year               No   \n",
       "1082  No internet service  No internet service  Two year               No   \n",
       "1340                  Yes                   No  Two year               No   \n",
       "3331  No internet service  No internet service  Two year               No   \n",
       "3826  No internet service  No internet service  Two year               No   \n",
       "4380  No internet service  No internet service  Two year               No   \n",
       "5218  No internet service  No internet service  One year              Yes   \n",
       "6670                  Yes                   No  Two year               No   \n",
       "6754                   No                   No  Two year              Yes   \n",
       "\n",
       "                  PaymentMethod  MonthlyCharges TotalCharges Churn  \n",
       "488   Bank transfer (automatic)           52.55                 No  \n",
       "753                Mailed check           20.25                 No  \n",
       "936                Mailed check           80.85                 No  \n",
       "1082               Mailed check           25.75                 No  \n",
       "1340    Credit card (automatic)           56.05                 No  \n",
       "3331               Mailed check           19.85                 No  \n",
       "3826               Mailed check           25.35                 No  \n",
       "4380               Mailed check           20.00                 No  \n",
       "5218               Mailed check           19.70                 No  \n",
       "6670               Mailed check           73.35                 No  \n",
       "6754  Bank transfer (automatic)           61.90                 No  "
      ]
     },
     "execution_count": 268,
     "metadata": {},
     "output_type": "execute_result"
    }
   ],
   "source": [
    "df_telco[pd.to_numeric(df_telco.TotalCharges,errors='coerce').isnull()]"
   ]
  },
  {
   "cell_type": "code",
   "execution_count": 269,
   "id": "b0d1a1cc",
   "metadata": {},
   "outputs": [
    {
     "data": {
      "text/plain": [
       "(11, 20)"
      ]
     },
     "execution_count": 269,
     "metadata": {},
     "output_type": "execute_result"
    }
   ],
   "source": [
    "# Shape of the data having null values in the TotalCharges column\n",
    "df_telco[pd.to_numeric(df_telco.TotalCharges,errors='coerce').isnull()].shape"
   ]
  },
  {
   "cell_type": "markdown",
   "id": "a5e733ff",
   "metadata": {},
   "source": [
    "We will drop these 11 rows out of total 7043 rows, so that we dont have any null data that can affect our trained model."
   ]
  },
  {
   "cell_type": "code",
   "execution_count": 270,
   "id": "c1d3bbb8",
   "metadata": {},
   "outputs": [
    {
     "data": {
      "text/plain": [
       "(7043, 20)"
      ]
     },
     "execution_count": 270,
     "metadata": {},
     "output_type": "execute_result"
    }
   ],
   "source": [
    "df_telco.shape"
   ]
  },
  {
   "cell_type": "code",
   "execution_count": 271,
   "id": "12e065cc",
   "metadata": {},
   "outputs": [
    {
     "data": {
      "text/plain": [
       "' '"
      ]
     },
     "execution_count": 271,
     "metadata": {},
     "output_type": "execute_result"
    }
   ],
   "source": [
    "df_telco.iloc[488].TotalCharges"
   ]
  },
  {
   "cell_type": "code",
   "execution_count": 272,
   "id": "4ab24098",
   "metadata": {},
   "outputs": [
    {
     "data": {
      "text/plain": [
       "(7032, 20)"
      ]
     },
     "execution_count": 272,
     "metadata": {},
     "output_type": "execute_result"
    }
   ],
   "source": [
    "df_telco[df_telco.TotalCharges!=' '].shape"
   ]
  },
  {
   "cell_type": "code",
   "execution_count": 273,
   "id": "b54e0907",
   "metadata": {},
   "outputs": [
    {
     "data": {
      "text/plain": [
       "(7032, 20)"
      ]
     },
     "execution_count": 273,
     "metadata": {},
     "output_type": "execute_result"
    }
   ],
   "source": [
    "# Remove rows with space in TotalCharges\n",
    "df_telco1 = df_telco[df_telco.TotalCharges!=' ']\n",
    "df_telco1.shape"
   ]
  },
  {
   "cell_type": "code",
   "execution_count": 274,
   "id": "3dd8db8a",
   "metadata": {},
   "outputs": [
    {
     "data": {
      "text/plain": [
       "gender               object\n",
       "SeniorCitizen         int64\n",
       "Partner              object\n",
       "Dependents           object\n",
       "tenure                int64\n",
       "PhoneService         object\n",
       "MultipleLines        object\n",
       "InternetService      object\n",
       "OnlineSecurity       object\n",
       "OnlineBackup         object\n",
       "DeviceProtection     object\n",
       "TechSupport          object\n",
       "StreamingTV          object\n",
       "StreamingMovies      object\n",
       "Contract             object\n",
       "PaperlessBilling     object\n",
       "PaymentMethod        object\n",
       "MonthlyCharges      float64\n",
       "TotalCharges         object\n",
       "Churn                object\n",
       "dtype: object"
      ]
     },
     "execution_count": 274,
     "metadata": {},
     "output_type": "execute_result"
    }
   ],
   "source": [
    "df_telco1.dtypes"
   ]
  },
  {
   "cell_type": "code",
   "execution_count": 275,
   "id": "d36bdf42",
   "metadata": {},
   "outputs": [
    {
     "name": "stderr",
     "output_type": "stream",
     "text": [
      "C:\\Users\\kalha\\anaconda3\\lib\\site-packages\\pandas\\core\\generic.py:5516: SettingWithCopyWarning:\n",
      "\n",
      "\n",
      "A value is trying to be set on a copy of a slice from a DataFrame.\n",
      "Try using .loc[row_indexer,col_indexer] = value instead\n",
      "\n",
      "See the caveats in the documentation: https://pandas.pydata.org/pandas-docs/stable/user_guide/indexing.html#returning-a-view-versus-a-copy\n",
      "\n"
     ]
    }
   ],
   "source": [
    "# After removing the spaces and null values we convert object data type to numeric\n",
    "df_telco1.TotalCharges = pd.to_numeric(df_telco1.TotalCharges)"
   ]
  },
  {
   "cell_type": "code",
   "execution_count": 276,
   "id": "e00fc866",
   "metadata": {},
   "outputs": [
    {
     "data": {
      "text/plain": [
       "array([  29.85, 1889.5 ,  108.15, ...,  346.45,  306.6 , 6844.5 ])"
      ]
     },
     "execution_count": 276,
     "metadata": {},
     "output_type": "execute_result"
    }
   ],
   "source": [
    "df_telco1.TotalCharges.values"
   ]
  },
  {
   "cell_type": "code",
   "execution_count": 277,
   "id": "b00872a8",
   "metadata": {},
   "outputs": [
    {
     "data": {
      "text/plain": [
       "dtype('float64')"
      ]
     },
     "execution_count": 277,
     "metadata": {},
     "output_type": "execute_result"
    }
   ],
   "source": [
    "df_telco1.TotalCharges.dtypes"
   ]
  },
  {
   "cell_type": "markdown",
   "id": "9332b0b0",
   "metadata": {},
   "source": [
    "Now we have done changing the data type of Total Chargers."
   ]
  },
  {
   "cell_type": "markdown",
   "id": "70159633",
   "metadata": {},
   "source": [
    "### Exploratory Data Analysis - EDA"
   ]
  },
  {
   "cell_type": "markdown",
   "id": "82b013b2",
   "metadata": {},
   "source": [
    "####  Client Churn Distribution"
   ]
  },
  {
   "cell_type": "code",
   "execution_count": 278,
   "id": "d1b8863b",
   "metadata": {},
   "outputs": [
    {
     "data": {
      "text/html": [
       "<div>\n",
       "<style scoped>\n",
       "    .dataframe tbody tr th:only-of-type {\n",
       "        vertical-align: middle;\n",
       "    }\n",
       "\n",
       "    .dataframe tbody tr th {\n",
       "        vertical-align: top;\n",
       "    }\n",
       "\n",
       "    .dataframe thead th {\n",
       "        text-align: right;\n",
       "    }\n",
       "</style>\n",
       "<table border=\"1\" class=\"dataframe\">\n",
       "  <thead>\n",
       "    <tr style=\"text-align: right;\">\n",
       "      <th></th>\n",
       "      <th>gender</th>\n",
       "      <th>SeniorCitizen</th>\n",
       "      <th>Partner</th>\n",
       "      <th>Dependents</th>\n",
       "      <th>tenure</th>\n",
       "      <th>PhoneService</th>\n",
       "      <th>MultipleLines</th>\n",
       "      <th>InternetService</th>\n",
       "      <th>OnlineSecurity</th>\n",
       "      <th>OnlineBackup</th>\n",
       "      <th>DeviceProtection</th>\n",
       "      <th>TechSupport</th>\n",
       "      <th>StreamingTV</th>\n",
       "      <th>StreamingMovies</th>\n",
       "      <th>Contract</th>\n",
       "      <th>PaperlessBilling</th>\n",
       "      <th>PaymentMethod</th>\n",
       "      <th>MonthlyCharges</th>\n",
       "      <th>TotalCharges</th>\n",
       "      <th>Churn</th>\n",
       "    </tr>\n",
       "  </thead>\n",
       "  <tbody>\n",
       "    <tr>\n",
       "      <th>0</th>\n",
       "      <td>Female</td>\n",
       "      <td>0</td>\n",
       "      <td>Yes</td>\n",
       "      <td>No</td>\n",
       "      <td>1</td>\n",
       "      <td>No</td>\n",
       "      <td>No phone service</td>\n",
       "      <td>DSL</td>\n",
       "      <td>No</td>\n",
       "      <td>Yes</td>\n",
       "      <td>No</td>\n",
       "      <td>No</td>\n",
       "      <td>No</td>\n",
       "      <td>No</td>\n",
       "      <td>Month-to-month</td>\n",
       "      <td>Yes</td>\n",
       "      <td>Electronic check</td>\n",
       "      <td>29.85</td>\n",
       "      <td>29.85</td>\n",
       "      <td>No</td>\n",
       "    </tr>\n",
       "    <tr>\n",
       "      <th>1</th>\n",
       "      <td>Male</td>\n",
       "      <td>0</td>\n",
       "      <td>No</td>\n",
       "      <td>No</td>\n",
       "      <td>34</td>\n",
       "      <td>Yes</td>\n",
       "      <td>No</td>\n",
       "      <td>DSL</td>\n",
       "      <td>Yes</td>\n",
       "      <td>No</td>\n",
       "      <td>Yes</td>\n",
       "      <td>No</td>\n",
       "      <td>No</td>\n",
       "      <td>No</td>\n",
       "      <td>One year</td>\n",
       "      <td>No</td>\n",
       "      <td>Mailed check</td>\n",
       "      <td>56.95</td>\n",
       "      <td>1889.50</td>\n",
       "      <td>No</td>\n",
       "    </tr>\n",
       "    <tr>\n",
       "      <th>3</th>\n",
       "      <td>Male</td>\n",
       "      <td>0</td>\n",
       "      <td>No</td>\n",
       "      <td>No</td>\n",
       "      <td>45</td>\n",
       "      <td>No</td>\n",
       "      <td>No phone service</td>\n",
       "      <td>DSL</td>\n",
       "      <td>Yes</td>\n",
       "      <td>No</td>\n",
       "      <td>Yes</td>\n",
       "      <td>Yes</td>\n",
       "      <td>No</td>\n",
       "      <td>No</td>\n",
       "      <td>One year</td>\n",
       "      <td>No</td>\n",
       "      <td>Bank transfer (automatic)</td>\n",
       "      <td>42.30</td>\n",
       "      <td>1840.75</td>\n",
       "      <td>No</td>\n",
       "    </tr>\n",
       "    <tr>\n",
       "      <th>6</th>\n",
       "      <td>Male</td>\n",
       "      <td>0</td>\n",
       "      <td>No</td>\n",
       "      <td>Yes</td>\n",
       "      <td>22</td>\n",
       "      <td>Yes</td>\n",
       "      <td>Yes</td>\n",
       "      <td>Fiber optic</td>\n",
       "      <td>No</td>\n",
       "      <td>Yes</td>\n",
       "      <td>No</td>\n",
       "      <td>No</td>\n",
       "      <td>Yes</td>\n",
       "      <td>No</td>\n",
       "      <td>Month-to-month</td>\n",
       "      <td>Yes</td>\n",
       "      <td>Credit card (automatic)</td>\n",
       "      <td>89.10</td>\n",
       "      <td>1949.40</td>\n",
       "      <td>No</td>\n",
       "    </tr>\n",
       "    <tr>\n",
       "      <th>7</th>\n",
       "      <td>Female</td>\n",
       "      <td>0</td>\n",
       "      <td>No</td>\n",
       "      <td>No</td>\n",
       "      <td>10</td>\n",
       "      <td>No</td>\n",
       "      <td>No phone service</td>\n",
       "      <td>DSL</td>\n",
       "      <td>Yes</td>\n",
       "      <td>No</td>\n",
       "      <td>No</td>\n",
       "      <td>No</td>\n",
       "      <td>No</td>\n",
       "      <td>No</td>\n",
       "      <td>Month-to-month</td>\n",
       "      <td>No</td>\n",
       "      <td>Mailed check</td>\n",
       "      <td>29.75</td>\n",
       "      <td>301.90</td>\n",
       "      <td>No</td>\n",
       "    </tr>\n",
       "    <tr>\n",
       "      <th>...</th>\n",
       "      <td>...</td>\n",
       "      <td>...</td>\n",
       "      <td>...</td>\n",
       "      <td>...</td>\n",
       "      <td>...</td>\n",
       "      <td>...</td>\n",
       "      <td>...</td>\n",
       "      <td>...</td>\n",
       "      <td>...</td>\n",
       "      <td>...</td>\n",
       "      <td>...</td>\n",
       "      <td>...</td>\n",
       "      <td>...</td>\n",
       "      <td>...</td>\n",
       "      <td>...</td>\n",
       "      <td>...</td>\n",
       "      <td>...</td>\n",
       "      <td>...</td>\n",
       "      <td>...</td>\n",
       "      <td>...</td>\n",
       "    </tr>\n",
       "    <tr>\n",
       "      <th>7037</th>\n",
       "      <td>Female</td>\n",
       "      <td>0</td>\n",
       "      <td>No</td>\n",
       "      <td>No</td>\n",
       "      <td>72</td>\n",
       "      <td>Yes</td>\n",
       "      <td>No</td>\n",
       "      <td>No</td>\n",
       "      <td>No internet service</td>\n",
       "      <td>No internet service</td>\n",
       "      <td>No internet service</td>\n",
       "      <td>No internet service</td>\n",
       "      <td>No internet service</td>\n",
       "      <td>No internet service</td>\n",
       "      <td>Two year</td>\n",
       "      <td>Yes</td>\n",
       "      <td>Bank transfer (automatic)</td>\n",
       "      <td>21.15</td>\n",
       "      <td>1419.40</td>\n",
       "      <td>No</td>\n",
       "    </tr>\n",
       "    <tr>\n",
       "      <th>7038</th>\n",
       "      <td>Male</td>\n",
       "      <td>0</td>\n",
       "      <td>Yes</td>\n",
       "      <td>Yes</td>\n",
       "      <td>24</td>\n",
       "      <td>Yes</td>\n",
       "      <td>Yes</td>\n",
       "      <td>DSL</td>\n",
       "      <td>Yes</td>\n",
       "      <td>No</td>\n",
       "      <td>Yes</td>\n",
       "      <td>Yes</td>\n",
       "      <td>Yes</td>\n",
       "      <td>Yes</td>\n",
       "      <td>One year</td>\n",
       "      <td>Yes</td>\n",
       "      <td>Mailed check</td>\n",
       "      <td>84.80</td>\n",
       "      <td>1990.50</td>\n",
       "      <td>No</td>\n",
       "    </tr>\n",
       "    <tr>\n",
       "      <th>7039</th>\n",
       "      <td>Female</td>\n",
       "      <td>0</td>\n",
       "      <td>Yes</td>\n",
       "      <td>Yes</td>\n",
       "      <td>72</td>\n",
       "      <td>Yes</td>\n",
       "      <td>Yes</td>\n",
       "      <td>Fiber optic</td>\n",
       "      <td>No</td>\n",
       "      <td>Yes</td>\n",
       "      <td>Yes</td>\n",
       "      <td>No</td>\n",
       "      <td>Yes</td>\n",
       "      <td>Yes</td>\n",
       "      <td>One year</td>\n",
       "      <td>Yes</td>\n",
       "      <td>Credit card (automatic)</td>\n",
       "      <td>103.20</td>\n",
       "      <td>7362.90</td>\n",
       "      <td>No</td>\n",
       "    </tr>\n",
       "    <tr>\n",
       "      <th>7040</th>\n",
       "      <td>Female</td>\n",
       "      <td>0</td>\n",
       "      <td>Yes</td>\n",
       "      <td>Yes</td>\n",
       "      <td>11</td>\n",
       "      <td>No</td>\n",
       "      <td>No phone service</td>\n",
       "      <td>DSL</td>\n",
       "      <td>Yes</td>\n",
       "      <td>No</td>\n",
       "      <td>No</td>\n",
       "      <td>No</td>\n",
       "      <td>No</td>\n",
       "      <td>No</td>\n",
       "      <td>Month-to-month</td>\n",
       "      <td>Yes</td>\n",
       "      <td>Electronic check</td>\n",
       "      <td>29.60</td>\n",
       "      <td>346.45</td>\n",
       "      <td>No</td>\n",
       "    </tr>\n",
       "    <tr>\n",
       "      <th>7042</th>\n",
       "      <td>Male</td>\n",
       "      <td>0</td>\n",
       "      <td>No</td>\n",
       "      <td>No</td>\n",
       "      <td>66</td>\n",
       "      <td>Yes</td>\n",
       "      <td>No</td>\n",
       "      <td>Fiber optic</td>\n",
       "      <td>Yes</td>\n",
       "      <td>No</td>\n",
       "      <td>Yes</td>\n",
       "      <td>Yes</td>\n",
       "      <td>Yes</td>\n",
       "      <td>Yes</td>\n",
       "      <td>Two year</td>\n",
       "      <td>Yes</td>\n",
       "      <td>Bank transfer (automatic)</td>\n",
       "      <td>105.65</td>\n",
       "      <td>6844.50</td>\n",
       "      <td>No</td>\n",
       "    </tr>\n",
       "  </tbody>\n",
       "</table>\n",
       "<p>5163 rows × 20 columns</p>\n",
       "</div>"
      ],
      "text/plain": [
       "      gender  SeniorCitizen Partner Dependents  tenure PhoneService  \\\n",
       "0     Female              0     Yes         No       1           No   \n",
       "1       Male              0      No         No      34          Yes   \n",
       "3       Male              0      No         No      45           No   \n",
       "6       Male              0      No        Yes      22          Yes   \n",
       "7     Female              0      No         No      10           No   \n",
       "...      ...            ...     ...        ...     ...          ...   \n",
       "7037  Female              0      No         No      72          Yes   \n",
       "7038    Male              0     Yes        Yes      24          Yes   \n",
       "7039  Female              0     Yes        Yes      72          Yes   \n",
       "7040  Female              0     Yes        Yes      11           No   \n",
       "7042    Male              0      No         No      66          Yes   \n",
       "\n",
       "         MultipleLines InternetService       OnlineSecurity  \\\n",
       "0     No phone service             DSL                   No   \n",
       "1                   No             DSL                  Yes   \n",
       "3     No phone service             DSL                  Yes   \n",
       "6                  Yes     Fiber optic                   No   \n",
       "7     No phone service             DSL                  Yes   \n",
       "...                ...             ...                  ...   \n",
       "7037                No              No  No internet service   \n",
       "7038               Yes             DSL                  Yes   \n",
       "7039               Yes     Fiber optic                   No   \n",
       "7040  No phone service             DSL                  Yes   \n",
       "7042                No     Fiber optic                  Yes   \n",
       "\n",
       "             OnlineBackup     DeviceProtection          TechSupport  \\\n",
       "0                     Yes                   No                   No   \n",
       "1                      No                  Yes                   No   \n",
       "3                      No                  Yes                  Yes   \n",
       "6                     Yes                   No                   No   \n",
       "7                      No                   No                   No   \n",
       "...                   ...                  ...                  ...   \n",
       "7037  No internet service  No internet service  No internet service   \n",
       "7038                   No                  Yes                  Yes   \n",
       "7039                  Yes                  Yes                   No   \n",
       "7040                   No                   No                   No   \n",
       "7042                   No                  Yes                  Yes   \n",
       "\n",
       "              StreamingTV      StreamingMovies        Contract  \\\n",
       "0                      No                   No  Month-to-month   \n",
       "1                      No                   No        One year   \n",
       "3                      No                   No        One year   \n",
       "6                     Yes                   No  Month-to-month   \n",
       "7                      No                   No  Month-to-month   \n",
       "...                   ...                  ...             ...   \n",
       "7037  No internet service  No internet service        Two year   \n",
       "7038                  Yes                  Yes        One year   \n",
       "7039                  Yes                  Yes        One year   \n",
       "7040                   No                   No  Month-to-month   \n",
       "7042                  Yes                  Yes        Two year   \n",
       "\n",
       "     PaperlessBilling              PaymentMethod  MonthlyCharges  \\\n",
       "0                 Yes           Electronic check           29.85   \n",
       "1                  No               Mailed check           56.95   \n",
       "3                  No  Bank transfer (automatic)           42.30   \n",
       "6                 Yes    Credit card (automatic)           89.10   \n",
       "7                  No               Mailed check           29.75   \n",
       "...               ...                        ...             ...   \n",
       "7037              Yes  Bank transfer (automatic)           21.15   \n",
       "7038              Yes               Mailed check           84.80   \n",
       "7039              Yes    Credit card (automatic)          103.20   \n",
       "7040              Yes           Electronic check           29.60   \n",
       "7042              Yes  Bank transfer (automatic)          105.65   \n",
       "\n",
       "      TotalCharges Churn  \n",
       "0            29.85    No  \n",
       "1          1889.50    No  \n",
       "3          1840.75    No  \n",
       "6          1949.40    No  \n",
       "7           301.90    No  \n",
       "...            ...   ...  \n",
       "7037       1419.40    No  \n",
       "7038       1990.50    No  \n",
       "7039       7362.90    No  \n",
       "7040        346.45    No  \n",
       "7042       6844.50    No  \n",
       "\n",
       "[5163 rows x 20 columns]"
      ]
     },
     "execution_count": 278,
     "metadata": {},
     "output_type": "execute_result"
    }
   ],
   "source": [
    "df_telco1[df_telco1.Churn=='No']"
   ]
  },
  {
   "cell_type": "markdown",
   "id": "5e4a1b32",
   "metadata": {},
   "source": [
    "#### Plotting the side by side histogram for Customer Leaving and Not Leaving w.r.t their \"TENURE\""
   ]
  },
  {
   "cell_type": "code",
   "execution_count": 279,
   "id": "7cc77aa4",
   "metadata": {},
   "outputs": [],
   "source": [
    "# Importing the Plotly Libraries.\n",
    "from plotly.offline import iplot\n",
    "import plotly.graph_objects as go\n",
    "from plotly.subplots import make_subplots\n",
    "import seaborn as sns"
   ]
  },
  {
   "cell_type": "code",
   "execution_count": 280,
   "id": "a07ce811",
   "metadata": {},
   "outputs": [
    {
     "data": {
      "text/plain": [
       "<matplotlib.legend.Legend at 0x175b33ef370>"
      ]
     },
     "execution_count": 280,
     "metadata": {},
     "output_type": "execute_result"
    },
    {
     "data": {
      "image/png": "[encoded data removed]",
      "text/plain": [
       "<Figure size 432x288 with 1 Axes>"
      ]
     },
     "metadata": {
      "needs_background": "light"
     },
     "output_type": "display_data"
    }
   ],
   "source": [
    "#Data Visualization\n",
    "\n",
    "tenure_churn_no = df_telco1[df_telco1.Churn=='No'].tenure\n",
    "tenure_churn_yes = df_telco1[df_telco1.Churn=='Yes'].tenure\n",
    "\n",
    "plt.xlabel(\"Tenure (Months)\")\n",
    "plt.ylabel(\"Number Of Customers\")\n",
    "plt.title(\"Customer Churn Prediction Visualiztion\")\n",
    "\n",
    "plt.hist([tenure_churn_yes, tenure_churn_no], rwidth=0.95, color=['darkorange','limegreen'],label=['Churn=Yes','Churn=No'])\n",
    "plt.legend()"
   ]
  },
  {
   "cell_type": "code",
   "execution_count": 281,
   "id": "ddf281bf",
   "metadata": {},
   "outputs": [
    {
     "data": {
      "image/png": "[encoded data removed]",
      "text/plain": [
       "<Figure size 432x288 with 1 Axes>"
      ]
     },
     "metadata": {
      "needs_background": "light"
     },
     "output_type": "display_data"
    }
   ],
   "source": [
    "sns.boxplot(x = 'tenure', y = 'Churn', data = df_telco1)\n",
    "plt.show()"
   ]
  },
  {
   "cell_type": "markdown",
   "id": "5a000a0e",
   "metadata": {},
   "source": [
    "Customer with more tenure tends to churn less."
   ]
  },
  {
   "cell_type": "markdown",
   "id": "8add5f27",
   "metadata": {},
   "source": [
    "#### Plotting the side by side histogram for Customer Leaving and Not Leaving w.r.t their \"Monthly Charges\""
   ]
  },
  {
   "cell_type": "code",
   "execution_count": 282,
   "id": "386a655c",
   "metadata": {},
   "outputs": [
    {
     "data": {
      "text/plain": [
       "<matplotlib.legend.Legend at 0x175b5fa2880>"
      ]
     },
     "execution_count": 282,
     "metadata": {},
     "output_type": "execute_result"
    },
    {
     "data": {
      "image/png": "[encoded data removed]",
      "text/plain": [
       "<Figure size 432x288 with 1 Axes>"
      ]
     },
     "metadata": {
      "needs_background": "light"
     },
     "output_type": "display_data"
    }
   ],
   "source": [
    "mc_churn_no = df_telco1[df_telco1.Churn=='No'].MonthlyCharges      \n",
    "mc_churn_yes = df_telco1[df_telco1.Churn=='Yes'].MonthlyCharges      \n",
    "\n",
    "plt.xlabel(\"Monthly Charges\")\n",
    "plt.ylabel(\"Number Of Customers\")\n",
    "plt.title(\"Customer Churn Prediction Visualiztion\")\n",
    "\n",
    "plt.hist([mc_churn_yes, mc_churn_no], rwidth=0.95, color=['darkorange','limegreen'],label=['Churn=Yes','Churn=No'])\n",
    "plt.legend()"
   ]
  },
  {
   "cell_type": "code",
   "execution_count": 283,
   "id": "b8ffe733",
   "metadata": {},
   "outputs": [
    {
     "data": {
      "image/png": "[encoded data removed]",
      "text/plain": [
       "<Figure size 432x288 with 1 Axes>"
      ]
     },
     "metadata": {
      "needs_background": "light"
     },
     "output_type": "display_data"
    }
   ],
   "source": [
    "sns.boxplot(x = 'MonthlyCharges', y = 'Churn', data = df_telco1)\n",
    "plt.show()"
   ]
  },
  {
   "cell_type": "markdown",
   "id": "726cd23b",
   "metadata": {},
   "source": [
    "Customer with more monthly charges tends to churn more. Median monthly charges are higher for customers who have churned."
   ]
  },
  {
   "cell_type": "markdown",
   "id": "cd0875ef",
   "metadata": {},
   "source": [
    "### Contract Type Analysis"
   ]
  },
  {
   "cell_type": "code",
   "execution_count": 284,
   "id": "15d5e333",
   "metadata": {},
   "outputs": [
    {
     "data": {
      "image/png": "[encoded data removed]",
      "text/plain": [
       "<Figure size 432x288 with 1 Axes>"
      ]
     },
     "metadata": {},
     "output_type": "display_data"
    },
    {
     "data": {
      "image/png": "[encoded data removed]",
      "text/plain": [
       "<Figure size 432x288 with 1 Axes>"
      ]
     },
     "metadata": {},
     "output_type": "display_data"
    },
    {
     "data": {
      "image/png": "[encoded data removed]",
      "text/plain": [
       "<Figure size 432x288 with 1 Axes>"
      ]
     },
     "metadata": {},
     "output_type": "display_data"
    }
   ],
   "source": [
    "pie_Contract_m2m = pd.DataFrame(df_telco1[df_telco1['Contract'] == \"Month-to-month\"]['Churn'].value_counts())\n",
    "pie_Contract_m2m.plot.pie(subplots=True, labels = pie_Contract_m2m.index.values, autopct='%1.1f%%', startangle= 75)\n",
    "plt.title('Month to Month Contract')\n",
    "plt.gca().set_aspect('equal')\n",
    "\n",
    "pie_Contract_1y = pd.DataFrame(df_telco1[df_telco1['Contract'] == \"One year\"]['Churn'].value_counts())\n",
    "pie_Contract_1y.plot.pie(subplots=True, labels = pie_Contract_1y.index.values, autopct='%1.1f%%', startangle= 20)\n",
    "plt.title('One Year Contract')\n",
    "plt.gca().set_aspect('equal')\n",
    "\n",
    "pie_Contract_2y = pd.DataFrame(df_telco1[df_telco1['Contract'] == \"Two year\"]['Churn'].value_counts())\n",
    "pie_Contract_2y.plot.pie(subplots=True, labels = pie_Contract_2y.index.values, autopct='%1.1f%%', startangle= 5)\n",
    "plt.title('Two Year Contract')\n",
    "plt.gca().set_aspect('equal')\n",
    "\n",
    "plt.show()"
   ]
  },
  {
   "cell_type": "markdown",
   "id": "51c6364b",
   "metadata": {},
   "source": [
    "Customers with One Year and Two year contract tends to Churn a lot lesser than month to month contract."
   ]
  },
  {
   "cell_type": "markdown",
   "id": "62aeea71",
   "metadata": {},
   "source": [
    "### Gender"
   ]
  },
  {
   "cell_type": "code",
   "execution_count": 285,
   "id": "a70f87e7",
   "metadata": {},
   "outputs": [
    {
     "data": {
      "text/plain": [
       "<Figure size 1080x360 with 0 Axes>"
      ]
     },
     "metadata": {},
     "output_type": "display_data"
    },
    {
     "data": {
      "image/png": "[encoded data removed]",
      "text/plain": [
       "<Figure size 432x288 with 1 Axes>"
      ]
     },
     "metadata": {},
     "output_type": "display_data"
    },
    {
     "data": {
      "image/png": "[encoded data removed]",
      "text/plain": [
       "<Figure size 432x288 with 1 Axes>"
      ]
     },
     "metadata": {},
     "output_type": "display_data"
    }
   ],
   "source": [
    "plt.figure(figsize=(15,5))\n",
    "pie_Gender_M = pd.DataFrame(df_telco1[df_telco1['gender'] == \"Male\"]['Churn'].value_counts())\n",
    "pie_Gender_M.plot.pie(subplots = True, labels = pie_Gender_M.index.values, autopct='%1.1f%%', startangle= 50)\n",
    "plt.title('Male')\n",
    "plt.gca().set_aspect('equal')\n",
    "\n",
    "pie_Gender_F = pd.DataFrame(df_telco1[df_telco1['gender'] == \"Female\"]['Churn'].value_counts())\n",
    "pie_Gender_F.plot.pie(subplots = True,  labels = pie_Gender_F.index.values, autopct='%1.1f%%', startangle= 50)\n",
    "plt.title('Female')\n",
    "\n",
    "plt.gca().set_aspect('equal')\n",
    "plt.show() "
   ]
  },
  {
   "cell_type": "markdown",
   "id": "783c4a4e",
   "metadata": {},
   "source": [
    "There is no significant affect of gender on churn rate."
   ]
  },
  {
   "cell_type": "markdown",
   "id": "54af5dbf",
   "metadata": {},
   "source": [
    "### Dependents"
   ]
  },
  {
   "cell_type": "code",
   "execution_count": 286,
   "id": "7a1db1ca",
   "metadata": {},
   "outputs": [
    {
     "data": {
      "text/plain": [
       "<Figure size 1080x360 with 0 Axes>"
      ]
     },
     "metadata": {},
     "output_type": "display_data"
    },
    {
     "data": {
      "image/png": "[encoded data removed]",
      "text/plain": [
       "<Figure size 432x288 with 1 Axes>"
      ]
     },
     "metadata": {},
     "output_type": "display_data"
    },
    {
     "data": {
      "image/png": "[encoded data removed]",
      "text/plain": [
       "<Figure size 432x288 with 1 Axes>"
      ]
     },
     "metadata": {},
     "output_type": "display_data"
    }
   ],
   "source": [
    "plt.figure(figsize=(15,5))\n",
    "pie_Dependents_Y = pd.DataFrame(df_telco1[df_telco1['Dependents'] == 'Yes']['Churn'].value_counts())\n",
    "pie_Dependents_Y.plot.pie(subplots = True,  labels = pie_Dependents_Y.index.values, autopct='%1.1f%%', startangle= 35)\n",
    "plt.title('Has Dependents')\n",
    "plt.gca().set_aspect('equal')\n",
    "\n",
    "pie_Dependents_N = pd.DataFrame(df_telco1[df_telco1['Dependents'] == 'No']['Churn'].value_counts())\n",
    "pie_Dependents_N.plot.pie(subplots = True,  labels = pie_Dependents_N.index.values, autopct='%1.1f%%', startangle= 60)\n",
    "plt.title('No Dependents')\n",
    "\n",
    "plt.gca().set_aspect('equal')\n",
    "plt.show()"
   ]
  },
  {
   "cell_type": "markdown",
   "id": "ca863478",
   "metadata": {},
   "source": [
    "Customers with no dependents tends to churn more."
   ]
  },
  {
   "cell_type": "markdown",
   "id": "ef057d4f",
   "metadata": {},
   "source": [
    "### Data Preprocessing\n",
    "\n",
    "Creating function to look at the unique values of each column."
   ]
  },
  {
   "cell_type": "code",
   "execution_count": 287,
   "id": "f3ec124b",
   "metadata": {},
   "outputs": [],
   "source": [
    "#Many of the columns are yes, no etc. Let's print unique values in object columns to see data values\n",
    "#This function will search and print for all the unique values in each column.\n",
    "def print_unique_col_values(dataframe):\n",
    "       for column in dataframe:\n",
    "            if dataframe[column].dtypes=='object':\n",
    "                print(f'{column}: {dataframe[column].unique()}')"
   ]
  },
  {
   "cell_type": "code",
   "execution_count": 288,
   "id": "820f440d",
   "metadata": {},
   "outputs": [
    {
     "name": "stdout",
     "output_type": "stream",
     "text": [
      "gender: ['Female' 'Male']\n",
      "Partner: ['Yes' 'No']\n",
      "Dependents: ['No' 'Yes']\n",
      "PhoneService: ['No' 'Yes']\n",
      "MultipleLines: ['No phone service' 'No' 'Yes']\n",
      "InternetService: ['DSL' 'Fiber optic' 'No']\n",
      "OnlineSecurity: ['No' 'Yes' 'No internet service']\n",
      "OnlineBackup: ['Yes' 'No' 'No internet service']\n",
      "DeviceProtection: ['No' 'Yes' 'No internet service']\n",
      "TechSupport: ['No' 'Yes' 'No internet service']\n",
      "StreamingTV: ['No' 'Yes' 'No internet service']\n",
      "StreamingMovies: ['No' 'Yes' 'No internet service']\n",
      "Contract: ['Month-to-month' 'One year' 'Two year']\n",
      "PaperlessBilling: ['Yes' 'No']\n",
      "PaymentMethod: ['Electronic check' 'Mailed check' 'Bank transfer (automatic)'\n",
      " 'Credit card (automatic)']\n",
      "Churn: ['No' 'Yes']\n"
     ]
    }
   ],
   "source": [
    "print_unique_col_values(df_telco1)"
   ]
  },
  {
   "cell_type": "markdown",
   "id": "6b488d89",
   "metadata": {},
   "source": [
    "We can see that some of the columns have **no internet service** or **no phone service**, that can be replaced with a simple **No**"
   ]
  },
  {
   "cell_type": "code",
   "execution_count": 289,
   "id": "c1adb383",
   "metadata": {},
   "outputs": [
    {
     "name": "stderr",
     "output_type": "stream",
     "text": [
      "C:\\Users\\kalha\\anaconda3\\lib\\site-packages\\pandas\\core\\frame.py:5238: SettingWithCopyWarning:\n",
      "\n",
      "\n",
      "A value is trying to be set on a copy of a slice from a DataFrame\n",
      "\n",
      "See the caveats in the documentation: https://pandas.pydata.org/pandas-docs/stable/user_guide/indexing.html#returning-a-view-versus-a-copy\n",
      "\n"
     ]
    }
   ],
   "source": [
    "#Some of the columns have no internet service or no phone service, that can be replaced with a simple No\n",
    "\n",
    "df_telco1.replace('No internet service','No',inplace=True)\n",
    "df_telco1.replace('No phone service','No',inplace=True)"
   ]
  },
  {
   "cell_type": "markdown",
   "id": "5b2932a3",
   "metadata": {},
   "source": [
    "Again printing the column's unique values."
   ]
  },
  {
   "cell_type": "code",
   "execution_count": 290,
   "id": "cd185847",
   "metadata": {},
   "outputs": [
    {
     "name": "stdout",
     "output_type": "stream",
     "text": [
      "gender: ['Female' 'Male']\n",
      "Partner: ['Yes' 'No']\n",
      "Dependents: ['No' 'Yes']\n",
      "PhoneService: ['No' 'Yes']\n",
      "MultipleLines: ['No' 'Yes']\n",
      "InternetService: ['DSL' 'Fiber optic' 'No']\n",
      "OnlineSecurity: ['No' 'Yes']\n",
      "OnlineBackup: ['Yes' 'No']\n",
      "DeviceProtection: ['No' 'Yes']\n",
      "TechSupport: ['No' 'Yes']\n",
      "StreamingTV: ['No' 'Yes']\n",
      "StreamingMovies: ['No' 'Yes']\n",
      "Contract: ['Month-to-month' 'One year' 'Two year']\n",
      "PaperlessBilling: ['Yes' 'No']\n",
      "PaymentMethod: ['Electronic check' 'Mailed check' 'Bank transfer (automatic)'\n",
      " 'Credit card (automatic)']\n",
      "Churn: ['No' 'Yes']\n"
     ]
    }
   ],
   "source": [
    "print_unique_col_values(df_telco1)"
   ]
  },
  {
   "cell_type": "markdown",
   "id": "72bd27de",
   "metadata": {},
   "source": [
    "Converting Yes to 1 and No to 0."
   ]
  },
  {
   "cell_type": "code",
   "execution_count": 291,
   "id": "6695fef2",
   "metadata": {},
   "outputs": [
    {
     "name": "stderr",
     "output_type": "stream",
     "text": [
      "C:\\Users\\kalha\\anaconda3\\lib\\site-packages\\pandas\\core\\generic.py:6619: SettingWithCopyWarning:\n",
      "\n",
      "\n",
      "A value is trying to be set on a copy of a slice from a DataFrame\n",
      "\n",
      "See the caveats in the documentation: https://pandas.pydata.org/pandas-docs/stable/user_guide/indexing.html#returning-a-view-versus-a-copy\n",
      "\n"
     ]
    }
   ],
   "source": [
    "#Convert Yes and No to 1 or 0\n",
    "\n",
    "yes_no_columns = ['Partner','Dependents','PhoneService','MultipleLines','OnlineSecurity','OnlineBackup',\n",
    "                  'DeviceProtection','TechSupport','StreamingTV','StreamingMovies','PaperlessBilling','Churn']\n",
    "for col in yes_no_columns:\n",
    "    df_telco1[col].replace({'Yes': 1,'No': 0},inplace=True)"
   ]
  },
  {
   "cell_type": "code",
   "execution_count": 292,
   "id": "0c953dda",
   "metadata": {},
   "outputs": [
    {
     "name": "stdout",
     "output_type": "stream",
     "text": [
      "gender: ['Female' 'Male']\n",
      "SeniorCitizen: [0 1]\n",
      "Partner: [1 0]\n",
      "Dependents: [0 1]\n",
      "tenure: [ 1 34  2 45  8 22 10 28 62 13 16 58 49 25 69 52 71 21 12 30 47 72 17 27\n",
      "  5 46 11 70 63 43 15 60 18 66  9  3 31 50 64 56  7 42 35 48 29 65 38 68\n",
      " 32 55 37 36 41  6  4 33 67 23 57 61 14 20 53 40 59 24 44 19 54 51 26 39]\n",
      "PhoneService: [0 1]\n",
      "MultipleLines: [0 1]\n",
      "InternetService: ['DSL' 'Fiber optic' 'No']\n",
      "OnlineSecurity: [0 1]\n",
      "OnlineBackup: [1 0]\n",
      "DeviceProtection: [0 1]\n",
      "TechSupport: [0 1]\n",
      "StreamingTV: [0 1]\n",
      "StreamingMovies: [0 1]\n",
      "Contract: ['Month-to-month' 'One year' 'Two year']\n",
      "PaperlessBilling: [1 0]\n",
      "PaymentMethod: ['Electronic check' 'Mailed check' 'Bank transfer (automatic)'\n",
      " 'Credit card (automatic)']\n",
      "MonthlyCharges: [29.85 56.95 53.85 ... 63.1  44.2  78.7 ]\n",
      "TotalCharges: [  29.85 1889.5   108.15 ...  346.45  306.6  6844.5 ]\n",
      "Churn: [0 1]\n"
     ]
    }
   ],
   "source": [
    "for col in df_telco1:\n",
    "    print(f'{col}: {df_telco1[col].unique()}')"
   ]
  },
  {
   "cell_type": "markdown",
   "id": "0de8eff9",
   "metadata": {},
   "source": [
    "Also converting genders: Male to 0 and Female to 1."
   ]
  },
  {
   "cell_type": "code",
   "execution_count": 293,
   "id": "32e227f5",
   "metadata": {},
   "outputs": [],
   "source": [
    "df_telco1['gender'].replace({'Female':1,'Male':0},inplace=True)"
   ]
  },
  {
   "cell_type": "code",
   "execution_count": 294,
   "id": "947a8f4a",
   "metadata": {},
   "outputs": [
    {
     "data": {
      "text/plain": [
       "array([1, 0], dtype=int64)"
      ]
     },
     "execution_count": 294,
     "metadata": {},
     "output_type": "execute_result"
    }
   ],
   "source": [
    "df_telco1.gender.unique()"
   ]
  },
  {
   "cell_type": "markdown",
   "id": "54f0261e",
   "metadata": {},
   "source": [
    "#### One Hot Encoding for Categorical Columns"
   ]
  },
  {
   "cell_type": "code",
   "execution_count": 295,
   "id": "f7d0e8be",
   "metadata": {},
   "outputs": [
    {
     "data": {
      "text/plain": [
       "Index(['gender', 'SeniorCitizen', 'Partner', 'Dependents', 'tenure',\n",
       "       'PhoneService', 'MultipleLines', 'OnlineSecurity', 'OnlineBackup',\n",
       "       'DeviceProtection', 'TechSupport', 'StreamingTV', 'StreamingMovies',\n",
       "       'PaperlessBilling', 'MonthlyCharges', 'TotalCharges', 'Churn',\n",
       "       'InternetService_DSL', 'InternetService_Fiber optic',\n",
       "       'InternetService_No', 'Contract_Month-to-month', 'Contract_One year',\n",
       "       'Contract_Two year', 'PaymentMethod_Bank transfer (automatic)',\n",
       "       'PaymentMethod_Credit card (automatic)',\n",
       "       'PaymentMethod_Electronic check', 'PaymentMethod_Mailed check'],\n",
       "      dtype='object')"
      ]
     },
     "execution_count": 295,
     "metadata": {},
     "output_type": "execute_result"
    }
   ],
   "source": [
    "# One hot encoding for categorical columns\n",
    "df_telco2 = pd.get_dummies(data=df_telco1, columns=['InternetService','Contract','PaymentMethod'])\n",
    "df_telco2.columns"
   ]
  },
  {
   "cell_type": "code",
   "execution_count": 296,
   "id": "9937e2b7",
   "metadata": {},
   "outputs": [
    {
     "data": {
      "text/html": [
       "<div>\n",
       "<style scoped>\n",
       "    .dataframe tbody tr th:only-of-type {\n",
       "        vertical-align: middle;\n",
       "    }\n",
       "\n",
       "    .dataframe tbody tr th {\n",
       "        vertical-align: top;\n",
       "    }\n",
       "\n",
       "    .dataframe thead th {\n",
       "        text-align: right;\n",
       "    }\n",
       "</style>\n",
       "<table border=\"1\" class=\"dataframe\">\n",
       "  <thead>\n",
       "    <tr style=\"text-align: right;\">\n",
       "      <th></th>\n",
       "      <th>gender</th>\n",
       "      <th>SeniorCitizen</th>\n",
       "      <th>Partner</th>\n",
       "      <th>Dependents</th>\n",
       "      <th>tenure</th>\n",
       "      <th>PhoneService</th>\n",
       "      <th>MultipleLines</th>\n",
       "      <th>OnlineSecurity</th>\n",
       "      <th>OnlineBackup</th>\n",
       "      <th>DeviceProtection</th>\n",
       "      <th>...</th>\n",
       "      <th>InternetService_DSL</th>\n",
       "      <th>InternetService_Fiber optic</th>\n",
       "      <th>InternetService_No</th>\n",
       "      <th>Contract_Month-to-month</th>\n",
       "      <th>Contract_One year</th>\n",
       "      <th>Contract_Two year</th>\n",
       "      <th>PaymentMethod_Bank transfer (automatic)</th>\n",
       "      <th>PaymentMethod_Credit card (automatic)</th>\n",
       "      <th>PaymentMethod_Electronic check</th>\n",
       "      <th>PaymentMethod_Mailed check</th>\n",
       "    </tr>\n",
       "  </thead>\n",
       "  <tbody>\n",
       "    <tr>\n",
       "      <th>5678</th>\n",
       "      <td>1</td>\n",
       "      <td>0</td>\n",
       "      <td>0</td>\n",
       "      <td>1</td>\n",
       "      <td>1</td>\n",
       "      <td>1</td>\n",
       "      <td>0</td>\n",
       "      <td>1</td>\n",
       "      <td>1</td>\n",
       "      <td>0</td>\n",
       "      <td>...</td>\n",
       "      <td>1</td>\n",
       "      <td>0</td>\n",
       "      <td>0</td>\n",
       "      <td>1</td>\n",
       "      <td>0</td>\n",
       "      <td>0</td>\n",
       "      <td>0</td>\n",
       "      <td>0</td>\n",
       "      <td>1</td>\n",
       "      <td>0</td>\n",
       "    </tr>\n",
       "    <tr>\n",
       "      <th>6422</th>\n",
       "      <td>0</td>\n",
       "      <td>0</td>\n",
       "      <td>0</td>\n",
       "      <td>0</td>\n",
       "      <td>52</td>\n",
       "      <td>1</td>\n",
       "      <td>0</td>\n",
       "      <td>1</td>\n",
       "      <td>0</td>\n",
       "      <td>1</td>\n",
       "      <td>...</td>\n",
       "      <td>1</td>\n",
       "      <td>0</td>\n",
       "      <td>0</td>\n",
       "      <td>0</td>\n",
       "      <td>1</td>\n",
       "      <td>0</td>\n",
       "      <td>0</td>\n",
       "      <td>0</td>\n",
       "      <td>1</td>\n",
       "      <td>0</td>\n",
       "    </tr>\n",
       "    <tr>\n",
       "      <th>2246</th>\n",
       "      <td>1</td>\n",
       "      <td>0</td>\n",
       "      <td>1</td>\n",
       "      <td>1</td>\n",
       "      <td>1</td>\n",
       "      <td>1</td>\n",
       "      <td>1</td>\n",
       "      <td>1</td>\n",
       "      <td>0</td>\n",
       "      <td>1</td>\n",
       "      <td>...</td>\n",
       "      <td>0</td>\n",
       "      <td>1</td>\n",
       "      <td>0</td>\n",
       "      <td>1</td>\n",
       "      <td>0</td>\n",
       "      <td>0</td>\n",
       "      <td>0</td>\n",
       "      <td>0</td>\n",
       "      <td>1</td>\n",
       "      <td>0</td>\n",
       "    </tr>\n",
       "    <tr>\n",
       "      <th>1119</th>\n",
       "      <td>0</td>\n",
       "      <td>0</td>\n",
       "      <td>1</td>\n",
       "      <td>1</td>\n",
       "      <td>70</td>\n",
       "      <td>0</td>\n",
       "      <td>0</td>\n",
       "      <td>1</td>\n",
       "      <td>0</td>\n",
       "      <td>1</td>\n",
       "      <td>...</td>\n",
       "      <td>1</td>\n",
       "      <td>0</td>\n",
       "      <td>0</td>\n",
       "      <td>0</td>\n",
       "      <td>0</td>\n",
       "      <td>1</td>\n",
       "      <td>1</td>\n",
       "      <td>0</td>\n",
       "      <td>0</td>\n",
       "      <td>0</td>\n",
       "    </tr>\n",
       "    <tr>\n",
       "      <th>634</th>\n",
       "      <td>1</td>\n",
       "      <td>0</td>\n",
       "      <td>0</td>\n",
       "      <td>0</td>\n",
       "      <td>40</td>\n",
       "      <td>0</td>\n",
       "      <td>0</td>\n",
       "      <td>1</td>\n",
       "      <td>0</td>\n",
       "      <td>0</td>\n",
       "      <td>...</td>\n",
       "      <td>1</td>\n",
       "      <td>0</td>\n",
       "      <td>0</td>\n",
       "      <td>0</td>\n",
       "      <td>1</td>\n",
       "      <td>0</td>\n",
       "      <td>1</td>\n",
       "      <td>0</td>\n",
       "      <td>0</td>\n",
       "      <td>0</td>\n",
       "    </tr>\n",
       "  </tbody>\n",
       "</table>\n",
       "<p>5 rows × 27 columns</p>\n",
       "</div>"
      ],
      "text/plain": [
       "      gender  SeniorCitizen  Partner  Dependents  tenure  PhoneService  \\\n",
       "5678       1              0        0           1       1             1   \n",
       "6422       0              0        0           0      52             1   \n",
       "2246       1              0        1           1       1             1   \n",
       "1119       0              0        1           1      70             0   \n",
       "634        1              0        0           0      40             0   \n",
       "\n",
       "      MultipleLines  OnlineSecurity  OnlineBackup  DeviceProtection  ...  \\\n",
       "5678              0               1             1                 0  ...   \n",
       "6422              0               1             0                 1  ...   \n",
       "2246              1               1             0                 1  ...   \n",
       "1119              0               1             0                 1  ...   \n",
       "634               0               1             0                 0  ...   \n",
       "\n",
       "      InternetService_DSL  InternetService_Fiber optic  InternetService_No  \\\n",
       "5678                    1                            0                   0   \n",
       "6422                    1                            0                   0   \n",
       "2246                    0                            1                   0   \n",
       "1119                    1                            0                   0   \n",
       "634                     1                            0                   0   \n",
       "\n",
       "      Contract_Month-to-month  Contract_One year  Contract_Two year  \\\n",
       "5678                        1                  0                  0   \n",
       "6422                        0                  1                  0   \n",
       "2246                        1                  0                  0   \n",
       "1119                        0                  0                  1   \n",
       "634                         0                  1                  0   \n",
       "\n",
       "      PaymentMethod_Bank transfer (automatic)  \\\n",
       "5678                                        0   \n",
       "6422                                        0   \n",
       "2246                                        0   \n",
       "1119                                        1   \n",
       "634                                         1   \n",
       "\n",
       "      PaymentMethod_Credit card (automatic)  PaymentMethod_Electronic check  \\\n",
       "5678                                      0                               1   \n",
       "6422                                      0                               1   \n",
       "2246                                      0                               1   \n",
       "1119                                      0                               0   \n",
       "634                                       0                               0   \n",
       "\n",
       "      PaymentMethod_Mailed check  \n",
       "5678                           0  \n",
       "6422                           0  \n",
       "2246                           0  \n",
       "1119                           0  \n",
       "634                            0  \n",
       "\n",
       "[5 rows x 27 columns]"
      ]
     },
     "execution_count": 296,
     "metadata": {},
     "output_type": "execute_result"
    }
   ],
   "source": [
    "df_telco2.sample(5)"
   ]
  },
  {
   "cell_type": "code",
   "execution_count": 297,
   "id": "e01f9c31",
   "metadata": {},
   "outputs": [
    {
     "data": {
      "text/plain": [
       "gender                                       int64\n",
       "SeniorCitizen                                int64\n",
       "Partner                                      int64\n",
       "Dependents                                   int64\n",
       "tenure                                       int64\n",
       "PhoneService                                 int64\n",
       "MultipleLines                                int64\n",
       "OnlineSecurity                               int64\n",
       "OnlineBackup                                 int64\n",
       "DeviceProtection                             int64\n",
       "TechSupport                                  int64\n",
       "StreamingTV                                  int64\n",
       "StreamingMovies                              int64\n",
       "PaperlessBilling                             int64\n",
       "MonthlyCharges                             float64\n",
       "TotalCharges                               float64\n",
       "Churn                                        int64\n",
       "InternetService_DSL                          uint8\n",
       "InternetService_Fiber optic                  uint8\n",
       "InternetService_No                           uint8\n",
       "Contract_Month-to-month                      uint8\n",
       "Contract_One year                            uint8\n",
       "Contract_Two year                            uint8\n",
       "PaymentMethod_Bank transfer (automatic)      uint8\n",
       "PaymentMethod_Credit card (automatic)        uint8\n",
       "PaymentMethod_Electronic check               uint8\n",
       "PaymentMethod_Mailed check                   uint8\n",
       "dtype: object"
      ]
     },
     "execution_count": 297,
     "metadata": {},
     "output_type": "execute_result"
    }
   ],
   "source": [
    "df_telco2.dtypes"
   ]
  },
  {
   "cell_type": "markdown",
   "id": "ad0655e0",
   "metadata": {},
   "source": [
    "Scaling the columns; **Tenure, Monthly Charges** and **Total Charges** columns in the range 0 to 1."
   ]
  },
  {
   "cell_type": "code",
   "execution_count": 298,
   "id": "df958437",
   "metadata": {},
   "outputs": [],
   "source": [
    "cols_to_scale = ['tenure','MonthlyCharges','TotalCharges']\n",
    "\n",
    "from sklearn.preprocessing import MinMaxScaler\n",
    "scaler = MinMaxScaler()\n",
    "df_telco2[cols_to_scale] = scaler.fit_transform(df_telco2[cols_to_scale])"
   ]
  },
  {
   "cell_type": "code",
   "execution_count": 299,
   "id": "8771e9db",
   "metadata": {},
   "outputs": [
    {
     "name": "stdout",
     "output_type": "stream",
     "text": [
      "gender: [1 0]\n",
      "SeniorCitizen: [0 1]\n",
      "Partner: [1 0]\n",
      "Dependents: [0 1]\n",
      "tenure: [0.         0.46478873 0.01408451 0.61971831 0.09859155 0.29577465\n",
      " 0.12676056 0.38028169 0.85915493 0.16901408 0.21126761 0.8028169\n",
      " 0.67605634 0.33802817 0.95774648 0.71830986 0.98591549 0.28169014\n",
      " 0.15492958 0.4084507  0.64788732 1.         0.22535211 0.36619718\n",
      " 0.05633803 0.63380282 0.14084507 0.97183099 0.87323944 0.5915493\n",
      " 0.1971831  0.83098592 0.23943662 0.91549296 0.11267606 0.02816901\n",
      " 0.42253521 0.69014085 0.88732394 0.77464789 0.08450704 0.57746479\n",
      " 0.47887324 0.66197183 0.3943662  0.90140845 0.52112676 0.94366197\n",
      " 0.43661972 0.76056338 0.50704225 0.49295775 0.56338028 0.07042254\n",
      " 0.04225352 0.45070423 0.92957746 0.30985915 0.78873239 0.84507042\n",
      " 0.18309859 0.26760563 0.73239437 0.54929577 0.81690141 0.32394366\n",
      " 0.6056338  0.25352113 0.74647887 0.70422535 0.35211268 0.53521127]\n",
      "PhoneService: [0 1]\n",
      "MultipleLines: [0 1]\n",
      "OnlineSecurity: [0 1]\n",
      "OnlineBackup: [1 0]\n",
      "DeviceProtection: [0 1]\n",
      "TechSupport: [0 1]\n",
      "StreamingTV: [0 1]\n",
      "StreamingMovies: [0 1]\n",
      "PaperlessBilling: [1 0]\n",
      "MonthlyCharges: [0.11542289 0.38507463 0.35422886 ... 0.44626866 0.25820896 0.60149254]\n",
      "TotalCharges: [0.0012751  0.21586661 0.01031041 ... 0.03780868 0.03321025 0.78764136]\n",
      "Churn: [0 1]\n",
      "InternetService_DSL: [1 0]\n",
      "InternetService_Fiber optic: [0 1]\n",
      "InternetService_No: [0 1]\n",
      "Contract_Month-to-month: [1 0]\n",
      "Contract_One year: [0 1]\n",
      "Contract_Two year: [0 1]\n",
      "PaymentMethod_Bank transfer (automatic): [0 1]\n",
      "PaymentMethod_Credit card (automatic): [0 1]\n",
      "PaymentMethod_Electronic check: [1 0]\n",
      "PaymentMethod_Mailed check: [0 1]\n"
     ]
    }
   ],
   "source": [
    "for col in df_telco2:\n",
    "    print(f'{col}: {df_telco2[col].unique()}')"
   ]
  },
  {
   "cell_type": "markdown",
   "id": "341baacc",
   "metadata": {},
   "source": [
    "## Splitting the Dataset to Test and Train Dataset"
   ]
  },
  {
   "cell_type": "code",
   "execution_count": 300,
   "id": "8cda805b",
   "metadata": {},
   "outputs": [],
   "source": [
    "#Train test split\n",
    "\n",
    "X = df_telco2.drop('Churn',axis='columns')\n",
    "y = df_telco2['Churn']\n",
    "\n",
    "from sklearn.model_selection import train_test_split\n",
    "X_train, X_test, y_train, y_test = train_test_split(X,y,test_size=0.2,random_state=5)"
   ]
  },
  {
   "cell_type": "code",
   "execution_count": 301,
   "id": "57141836",
   "metadata": {},
   "outputs": [
    {
     "data": {
      "text/plain": [
       "(5625, 26)"
      ]
     },
     "execution_count": 301,
     "metadata": {},
     "output_type": "execute_result"
    }
   ],
   "source": [
    "X_train.shape"
   ]
  },
  {
   "cell_type": "code",
   "execution_count": 302,
   "id": "685fc9a5",
   "metadata": {},
   "outputs": [
    {
     "data": {
      "text/plain": [
       "(1407, 26)"
      ]
     },
     "execution_count": 302,
     "metadata": {},
     "output_type": "execute_result"
    }
   ],
   "source": [
    "X_test.shape"
   ]
  },
  {
   "cell_type": "code",
   "execution_count": 303,
   "id": "93018ab5",
   "metadata": {},
   "outputs": [
    {
     "data": {
      "text/html": [
       "<div>\n",
       "<style scoped>\n",
       "    .dataframe tbody tr th:only-of-type {\n",
       "        vertical-align: middle;\n",
       "    }\n",
       "\n",
       "    .dataframe tbody tr th {\n",
       "        vertical-align: top;\n",
       "    }\n",
       "\n",
       "    .dataframe thead th {\n",
       "        text-align: right;\n",
       "    }\n",
       "</style>\n",
       "<table border=\"1\" class=\"dataframe\">\n",
       "  <thead>\n",
       "    <tr style=\"text-align: right;\">\n",
       "      <th></th>\n",
       "      <th>gender</th>\n",
       "      <th>SeniorCitizen</th>\n",
       "      <th>Partner</th>\n",
       "      <th>Dependents</th>\n",
       "      <th>tenure</th>\n",
       "      <th>PhoneService</th>\n",
       "      <th>MultipleLines</th>\n",
       "      <th>OnlineSecurity</th>\n",
       "      <th>OnlineBackup</th>\n",
       "      <th>DeviceProtection</th>\n",
       "      <th>...</th>\n",
       "      <th>InternetService_DSL</th>\n",
       "      <th>InternetService_Fiber optic</th>\n",
       "      <th>InternetService_No</th>\n",
       "      <th>Contract_Month-to-month</th>\n",
       "      <th>Contract_One year</th>\n",
       "      <th>Contract_Two year</th>\n",
       "      <th>PaymentMethod_Bank transfer (automatic)</th>\n",
       "      <th>PaymentMethod_Credit card (automatic)</th>\n",
       "      <th>PaymentMethod_Electronic check</th>\n",
       "      <th>PaymentMethod_Mailed check</th>\n",
       "    </tr>\n",
       "  </thead>\n",
       "  <tbody>\n",
       "    <tr>\n",
       "      <th>5664</th>\n",
       "      <td>1</td>\n",
       "      <td>1</td>\n",
       "      <td>0</td>\n",
       "      <td>0</td>\n",
       "      <td>0.126761</td>\n",
       "      <td>1</td>\n",
       "      <td>0</td>\n",
       "      <td>0</td>\n",
       "      <td>0</td>\n",
       "      <td>1</td>\n",
       "      <td>...</td>\n",
       "      <td>0</td>\n",
       "      <td>1</td>\n",
       "      <td>0</td>\n",
       "      <td>1</td>\n",
       "      <td>0</td>\n",
       "      <td>0</td>\n",
       "      <td>0</td>\n",
       "      <td>1</td>\n",
       "      <td>0</td>\n",
       "      <td>0</td>\n",
       "    </tr>\n",
       "    <tr>\n",
       "      <th>101</th>\n",
       "      <td>1</td>\n",
       "      <td>0</td>\n",
       "      <td>1</td>\n",
       "      <td>1</td>\n",
       "      <td>0.000000</td>\n",
       "      <td>1</td>\n",
       "      <td>0</td>\n",
       "      <td>0</td>\n",
       "      <td>0</td>\n",
       "      <td>0</td>\n",
       "      <td>...</td>\n",
       "      <td>0</td>\n",
       "      <td>0</td>\n",
       "      <td>1</td>\n",
       "      <td>1</td>\n",
       "      <td>0</td>\n",
       "      <td>0</td>\n",
       "      <td>0</td>\n",
       "      <td>0</td>\n",
       "      <td>1</td>\n",
       "      <td>0</td>\n",
       "    </tr>\n",
       "    <tr>\n",
       "      <th>2621</th>\n",
       "      <td>0</td>\n",
       "      <td>0</td>\n",
       "      <td>1</td>\n",
       "      <td>0</td>\n",
       "      <td>0.985915</td>\n",
       "      <td>1</td>\n",
       "      <td>0</td>\n",
       "      <td>0</td>\n",
       "      <td>1</td>\n",
       "      <td>1</td>\n",
       "      <td>...</td>\n",
       "      <td>1</td>\n",
       "      <td>0</td>\n",
       "      <td>0</td>\n",
       "      <td>0</td>\n",
       "      <td>0</td>\n",
       "      <td>1</td>\n",
       "      <td>0</td>\n",
       "      <td>1</td>\n",
       "      <td>0</td>\n",
       "      <td>0</td>\n",
       "    </tr>\n",
       "    <tr>\n",
       "      <th>392</th>\n",
       "      <td>1</td>\n",
       "      <td>1</td>\n",
       "      <td>0</td>\n",
       "      <td>0</td>\n",
       "      <td>0.014085</td>\n",
       "      <td>1</td>\n",
       "      <td>0</td>\n",
       "      <td>0</td>\n",
       "      <td>0</td>\n",
       "      <td>0</td>\n",
       "      <td>...</td>\n",
       "      <td>1</td>\n",
       "      <td>0</td>\n",
       "      <td>0</td>\n",
       "      <td>1</td>\n",
       "      <td>0</td>\n",
       "      <td>0</td>\n",
       "      <td>0</td>\n",
       "      <td>0</td>\n",
       "      <td>1</td>\n",
       "      <td>0</td>\n",
       "    </tr>\n",
       "    <tr>\n",
       "      <th>1327</th>\n",
       "      <td>0</td>\n",
       "      <td>0</td>\n",
       "      <td>1</td>\n",
       "      <td>0</td>\n",
       "      <td>0.816901</td>\n",
       "      <td>1</td>\n",
       "      <td>1</td>\n",
       "      <td>0</td>\n",
       "      <td>0</td>\n",
       "      <td>1</td>\n",
       "      <td>...</td>\n",
       "      <td>0</td>\n",
       "      <td>1</td>\n",
       "      <td>0</td>\n",
       "      <td>0</td>\n",
       "      <td>1</td>\n",
       "      <td>0</td>\n",
       "      <td>1</td>\n",
       "      <td>0</td>\n",
       "      <td>0</td>\n",
       "      <td>0</td>\n",
       "    </tr>\n",
       "    <tr>\n",
       "      <th>3607</th>\n",
       "      <td>1</td>\n",
       "      <td>0</td>\n",
       "      <td>0</td>\n",
       "      <td>0</td>\n",
       "      <td>0.169014</td>\n",
       "      <td>1</td>\n",
       "      <td>0</td>\n",
       "      <td>1</td>\n",
       "      <td>0</td>\n",
       "      <td>0</td>\n",
       "      <td>...</td>\n",
       "      <td>1</td>\n",
       "      <td>0</td>\n",
       "      <td>0</td>\n",
       "      <td>0</td>\n",
       "      <td>1</td>\n",
       "      <td>0</td>\n",
       "      <td>0</td>\n",
       "      <td>0</td>\n",
       "      <td>0</td>\n",
       "      <td>1</td>\n",
       "    </tr>\n",
       "    <tr>\n",
       "      <th>2773</th>\n",
       "      <td>0</td>\n",
       "      <td>0</td>\n",
       "      <td>1</td>\n",
       "      <td>0</td>\n",
       "      <td>0.323944</td>\n",
       "      <td>0</td>\n",
       "      <td>0</td>\n",
       "      <td>0</td>\n",
       "      <td>0</td>\n",
       "      <td>1</td>\n",
       "      <td>...</td>\n",
       "      <td>1</td>\n",
       "      <td>0</td>\n",
       "      <td>0</td>\n",
       "      <td>1</td>\n",
       "      <td>0</td>\n",
       "      <td>0</td>\n",
       "      <td>0</td>\n",
       "      <td>0</td>\n",
       "      <td>1</td>\n",
       "      <td>0</td>\n",
       "    </tr>\n",
       "    <tr>\n",
       "      <th>1936</th>\n",
       "      <td>1</td>\n",
       "      <td>0</td>\n",
       "      <td>1</td>\n",
       "      <td>0</td>\n",
       "      <td>0.704225</td>\n",
       "      <td>1</td>\n",
       "      <td>0</td>\n",
       "      <td>1</td>\n",
       "      <td>1</td>\n",
       "      <td>0</td>\n",
       "      <td>...</td>\n",
       "      <td>1</td>\n",
       "      <td>0</td>\n",
       "      <td>0</td>\n",
       "      <td>0</td>\n",
       "      <td>1</td>\n",
       "      <td>0</td>\n",
       "      <td>1</td>\n",
       "      <td>0</td>\n",
       "      <td>0</td>\n",
       "      <td>0</td>\n",
       "    </tr>\n",
       "    <tr>\n",
       "      <th>5387</th>\n",
       "      <td>0</td>\n",
       "      <td>0</td>\n",
       "      <td>0</td>\n",
       "      <td>0</td>\n",
       "      <td>0.042254</td>\n",
       "      <td>0</td>\n",
       "      <td>0</td>\n",
       "      <td>0</td>\n",
       "      <td>0</td>\n",
       "      <td>0</td>\n",
       "      <td>...</td>\n",
       "      <td>1</td>\n",
       "      <td>0</td>\n",
       "      <td>0</td>\n",
       "      <td>1</td>\n",
       "      <td>0</td>\n",
       "      <td>0</td>\n",
       "      <td>0</td>\n",
       "      <td>0</td>\n",
       "      <td>1</td>\n",
       "      <td>0</td>\n",
       "    </tr>\n",
       "    <tr>\n",
       "      <th>4331</th>\n",
       "      <td>0</td>\n",
       "      <td>0</td>\n",
       "      <td>0</td>\n",
       "      <td>0</td>\n",
       "      <td>0.985915</td>\n",
       "      <td>1</td>\n",
       "      <td>1</td>\n",
       "      <td>0</td>\n",
       "      <td>0</td>\n",
       "      <td>0</td>\n",
       "      <td>...</td>\n",
       "      <td>0</td>\n",
       "      <td>0</td>\n",
       "      <td>1</td>\n",
       "      <td>0</td>\n",
       "      <td>0</td>\n",
       "      <td>1</td>\n",
       "      <td>1</td>\n",
       "      <td>0</td>\n",
       "      <td>0</td>\n",
       "      <td>0</td>\n",
       "    </tr>\n",
       "  </tbody>\n",
       "</table>\n",
       "<p>10 rows × 26 columns</p>\n",
       "</div>"
      ],
      "text/plain": [
       "      gender  SeniorCitizen  Partner  Dependents    tenure  PhoneService  \\\n",
       "5664       1              1        0           0  0.126761             1   \n",
       "101        1              0        1           1  0.000000             1   \n",
       "2621       0              0        1           0  0.985915             1   \n",
       "392        1              1        0           0  0.014085             1   \n",
       "1327       0              0        1           0  0.816901             1   \n",
       "3607       1              0        0           0  0.169014             1   \n",
       "2773       0              0        1           0  0.323944             0   \n",
       "1936       1              0        1           0  0.704225             1   \n",
       "5387       0              0        0           0  0.042254             0   \n",
       "4331       0              0        0           0  0.985915             1   \n",
       "\n",
       "      MultipleLines  OnlineSecurity  OnlineBackup  DeviceProtection  ...  \\\n",
       "5664              0               0             0                 1  ...   \n",
       "101               0               0             0                 0  ...   \n",
       "2621              0               0             1                 1  ...   \n",
       "392               0               0             0                 0  ...   \n",
       "1327              1               0             0                 1  ...   \n",
       "3607              0               1             0                 0  ...   \n",
       "2773              0               0             0                 1  ...   \n",
       "1936              0               1             1                 0  ...   \n",
       "5387              0               0             0                 0  ...   \n",
       "4331              1               0             0                 0  ...   \n",
       "\n",
       "      InternetService_DSL  InternetService_Fiber optic  InternetService_No  \\\n",
       "5664                    0                            1                   0   \n",
       "101                     0                            0                   1   \n",
       "2621                    1                            0                   0   \n",
       "392                     1                            0                   0   \n",
       "1327                    0                            1                   0   \n",
       "3607                    1                            0                   0   \n",
       "2773                    1                            0                   0   \n",
       "1936                    1                            0                   0   \n",
       "5387                    1                            0                   0   \n",
       "4331                    0                            0                   1   \n",
       "\n",
       "      Contract_Month-to-month  Contract_One year  Contract_Two year  \\\n",
       "5664                        1                  0                  0   \n",
       "101                         1                  0                  0   \n",
       "2621                        0                  0                  1   \n",
       "392                         1                  0                  0   \n",
       "1327                        0                  1                  0   \n",
       "3607                        0                  1                  0   \n",
       "2773                        1                  0                  0   \n",
       "1936                        0                  1                  0   \n",
       "5387                        1                  0                  0   \n",
       "4331                        0                  0                  1   \n",
       "\n",
       "      PaymentMethod_Bank transfer (automatic)  \\\n",
       "5664                                        0   \n",
       "101                                         0   \n",
       "2621                                        0   \n",
       "392                                         0   \n",
       "1327                                        1   \n",
       "3607                                        0   \n",
       "2773                                        0   \n",
       "1936                                        1   \n",
       "5387                                        0   \n",
       "4331                                        1   \n",
       "\n",
       "      PaymentMethod_Credit card (automatic)  PaymentMethod_Electronic check  \\\n",
       "5664                                      1                               0   \n",
       "101                                       0                               1   \n",
       "2621                                      1                               0   \n",
       "392                                       0                               1   \n",
       "1327                                      0                               0   \n",
       "3607                                      0                               0   \n",
       "2773                                      0                               1   \n",
       "1936                                      0                               0   \n",
       "5387                                      0                               1   \n",
       "4331                                      0                               0   \n",
       "\n",
       "      PaymentMethod_Mailed check  \n",
       "5664                           0  \n",
       "101                            0  \n",
       "2621                           0  \n",
       "392                            0  \n",
       "1327                           0  \n",
       "3607                           1  \n",
       "2773                           0  \n",
       "1936                           0  \n",
       "5387                           0  \n",
       "4331                           0  \n",
       "\n",
       "[10 rows x 26 columns]"
      ]
     },
     "execution_count": 303,
     "metadata": {},
     "output_type": "execute_result"
    }
   ],
   "source": [
    "X_train[:10]"
   ]
  },
  {
   "cell_type": "code",
   "execution_count": 304,
   "id": "7dbfb5a5",
   "metadata": {},
   "outputs": [
    {
     "data": {
      "text/plain": [
       "26"
      ]
     },
     "execution_count": 304,
     "metadata": {},
     "output_type": "execute_result"
    }
   ],
   "source": [
    "len(X_train.columns)"
   ]
  },
  {
   "cell_type": "markdown",
   "id": "7e019164",
   "metadata": {},
   "source": [
    "## Model Building and Evaluation"
   ]
  },
  {
   "cell_type": "markdown",
   "id": "bcc59164",
   "metadata": {},
   "source": [
    "#### Building the ANN Model in Keras"
   ]
  },
  {
   "cell_type": "markdown",
   "id": "cf661041",
   "metadata": {},
   "source": [
    "![Building the ANN Model in Keras](img\\ANN.png)"
   ]
  },
  {
   "cell_type": "code",
   "execution_count": 352,
   "id": "71c24c06",
   "metadata": {},
   "outputs": [
    {
     "name": "stdout",
     "output_type": "stream",
     "text": [
      "Epoch 1/100\n",
      "176/176 [==============================] - 0s 608us/step - loss: 0.4883 - accuracy: 0.7614\n",
      "Epoch 2/100\n",
      "176/176 [==============================] - 0s 569us/step - loss: 0.4264 - accuracy: 0.7979\n",
      "Epoch 3/100\n",
      "176/176 [==============================] - 0s 568us/step - loss: 0.4183 - accuracy: 0.7998\n",
      "Epoch 4/100\n",
      "176/176 [==============================] - 0s 550us/step - loss: 0.4145 - accuracy: 0.8039\n",
      "Epoch 5/100\n",
      "176/176 [==============================] - 0s 554us/step - loss: 0.4110 - accuracy: 0.8059\n",
      "Epoch 6/100\n",
      "176/176 [==============================] - 0s 561us/step - loss: 0.4092 - accuracy: 0.8091\n",
      "Epoch 7/100\n",
      "176/176 [==============================] - 0s 575us/step - loss: 0.4081 - accuracy: 0.8092\n",
      "Epoch 8/100\n",
      "176/176 [==============================] - 0s 560us/step - loss: 0.4064 - accuracy: 0.8098\n",
      "Epoch 9/100\n",
      "176/176 [==============================] - 0s 549us/step - loss: 0.4052 - accuracy: 0.8091\n",
      "Epoch 10/100\n",
      "176/176 [==============================] - 0s 604us/step - loss: 0.4049 - accuracy: 0.8117\n",
      "Epoch 11/100\n",
      "176/176 [==============================] - 0s 567us/step - loss: 0.4028 - accuracy: 0.8133\n",
      "Epoch 12/100\n",
      "176/176 [==============================] - 0s 551us/step - loss: 0.4030 - accuracy: 0.8100\n",
      "Epoch 13/100\n",
      "176/176 [==============================] - 0s 557us/step - loss: 0.4013 - accuracy: 0.8110\n",
      "Epoch 14/100\n",
      "176/176 [==============================] - 0s 562us/step - loss: 0.4002 - accuracy: 0.8135\n",
      "Epoch 15/100\n",
      "176/176 [==============================] - 0s 577us/step - loss: 0.3993 - accuracy: 0.8094\n",
      "Epoch 16/100\n",
      "176/176 [==============================] - 0s 566us/step - loss: 0.3973 - accuracy: 0.8132\n",
      "Epoch 17/100\n",
      "176/176 [==============================] - 0s 587us/step - loss: 0.3973 - accuracy: 0.8126\n",
      "Epoch 18/100\n",
      "176/176 [==============================] - 0s 571us/step - loss: 0.3961 - accuracy: 0.8153\n",
      "Epoch 19/100\n",
      "176/176 [==============================] - 0s 571us/step - loss: 0.3960 - accuracy: 0.8117\n",
      "Epoch 20/100\n",
      "176/176 [==============================] - 0s 573us/step - loss: 0.3952 - accuracy: 0.8137\n",
      "Epoch 21/100\n",
      "176/176 [==============================] - 0s 557us/step - loss: 0.3939 - accuracy: 0.8171\n",
      "Epoch 22/100\n",
      "176/176 [==============================] - 0s 563us/step - loss: 0.3928 - accuracy: 0.8128\n",
      "Epoch 23/100\n",
      "176/176 [==============================] - 0s 563us/step - loss: 0.3917 - accuracy: 0.8167\n",
      "Epoch 24/100\n",
      "176/176 [==============================] - 0s 580us/step - loss: 0.3913 - accuracy: 0.8137\n",
      "Epoch 25/100\n",
      "176/176 [==============================] - 0s 582us/step - loss: 0.3904 - accuracy: 0.8158\n",
      "Epoch 26/100\n",
      "176/176 [==============================] - 0s 567us/step - loss: 0.3897 - accuracy: 0.8181\n",
      "Epoch 27/100\n",
      "176/176 [==============================] - 0s 564us/step - loss: 0.3889 - accuracy: 0.8181\n",
      "Epoch 28/100\n",
      "176/176 [==============================] - 0s 570us/step - loss: 0.3892 - accuracy: 0.8158\n",
      "Epoch 29/100\n",
      "176/176 [==============================] - 0s 575us/step - loss: 0.3881 - accuracy: 0.8160\n",
      "Epoch 30/100\n",
      "176/176 [==============================] - 0s 575us/step - loss: 0.3878 - accuracy: 0.8217\n",
      "Epoch 31/100\n",
      "176/176 [==============================] - 0s 562us/step - loss: 0.3870 - accuracy: 0.8176\n",
      "Epoch 32/100\n",
      "176/176 [==============================] - 0s 563us/step - loss: 0.3859 - accuracy: 0.8204\n",
      "Epoch 33/100\n",
      "176/176 [==============================] - 0s 559us/step - loss: 0.3859 - accuracy: 0.8178\n",
      "Epoch 34/100\n",
      "176/176 [==============================] - 0s 565us/step - loss: 0.3846 - accuracy: 0.8188\n",
      "Epoch 35/100\n",
      "176/176 [==============================] - 0s 563us/step - loss: 0.3844 - accuracy: 0.8213\n",
      "Epoch 36/100\n",
      "176/176 [==============================] - 0s 554us/step - loss: 0.3835 - accuracy: 0.8192\n",
      "Epoch 37/100\n",
      "176/176 [==============================] - 0s 573us/step - loss: 0.3825 - accuracy: 0.8197\n",
      "Epoch 38/100\n",
      "176/176 [==============================] - 0s 565us/step - loss: 0.3819 - accuracy: 0.8206\n",
      "Epoch 39/100\n",
      "176/176 [==============================] - 0s 580us/step - loss: 0.3803 - accuracy: 0.8222\n",
      "Epoch 40/100\n",
      "176/176 [==============================] - 0s 568us/step - loss: 0.3819 - accuracy: 0.8208\n",
      "Epoch 41/100\n",
      "176/176 [==============================] - 0s 566us/step - loss: 0.3805 - accuracy: 0.8224\n",
      "Epoch 42/100\n",
      "176/176 [==============================] - 0s 589us/step - loss: 0.3801 - accuracy: 0.8204\n",
      "Epoch 43/100\n",
      "176/176 [==============================] - 0s 595us/step - loss: 0.3788 - accuracy: 0.8252\n",
      "Epoch 44/100\n",
      "176/176 [==============================] - 0s 564us/step - loss: 0.3789 - accuracy: 0.8219\n",
      "Epoch 45/100\n",
      "176/176 [==============================] - 0s 567us/step - loss: 0.3786 - accuracy: 0.8240\n",
      "Epoch 46/100\n",
      "176/176 [==============================] - 0s 572us/step - loss: 0.3765 - accuracy: 0.8231\n",
      "Epoch 47/100\n",
      "176/176 [==============================] - 0s 565us/step - loss: 0.3781 - accuracy: 0.8233\n",
      "Epoch 48/100\n",
      "176/176 [==============================] - 0s 565us/step - loss: 0.3761 - accuracy: 0.8251\n",
      "Epoch 49/100\n",
      "176/176 [==============================] - 0s 565us/step - loss: 0.3767 - accuracy: 0.8242\n",
      "Epoch 50/100\n",
      "176/176 [==============================] - 0s 554us/step - loss: 0.3757 - accuracy: 0.8247\n",
      "Epoch 51/100\n",
      "176/176 [==============================] - 0s 559us/step - loss: 0.3736 - accuracy: 0.8293\n",
      "Epoch 52/100\n",
      "176/176 [==============================] - 0s 565us/step - loss: 0.3742 - accuracy: 0.8279\n",
      "Epoch 53/100\n",
      "176/176 [==============================] - 0s 566us/step - loss: 0.3728 - accuracy: 0.8267\n",
      "Epoch 54/100\n",
      "176/176 [==============================] - 0s 562us/step - loss: 0.3731 - accuracy: 0.8261\n",
      "Epoch 55/100\n",
      "176/176 [==============================] - 0s 548us/step - loss: 0.3714 - accuracy: 0.8274\n",
      "Epoch 56/100\n",
      "176/176 [==============================] - 0s 566us/step - loss: 0.3735 - accuracy: 0.8252\n",
      "Epoch 57/100\n",
      "176/176 [==============================] - 0s 555us/step - loss: 0.3709 - accuracy: 0.8276\n",
      "Epoch 58/100\n",
      "176/176 [==============================] - 0s 584us/step - loss: 0.3706 - accuracy: 0.8265\n",
      "Epoch 59/100\n",
      "176/176 [==============================] - 0s 573us/step - loss: 0.3713 - accuracy: 0.8261\n",
      "Epoch 60/100\n",
      "176/176 [==============================] - 0s 550us/step - loss: 0.3701 - accuracy: 0.8258\n",
      "Epoch 61/100\n",
      "176/176 [==============================] - 0s 552us/step - loss: 0.3682 - accuracy: 0.8300\n",
      "Epoch 62/100\n",
      "176/176 [==============================] - 0s 555us/step - loss: 0.3684 - accuracy: 0.8265\n",
      "Epoch 63/100\n",
      "176/176 [==============================] - 0s 569us/step - loss: 0.3683 - accuracy: 0.8309\n",
      "Epoch 64/100\n",
      "176/176 [==============================] - 0s 561us/step - loss: 0.3671 - accuracy: 0.8295\n",
      "Epoch 65/100\n",
      "176/176 [==============================] - 0s 559us/step - loss: 0.3665 - accuracy: 0.8292\n",
      "Epoch 66/100\n",
      "176/176 [==============================] - 0s 573us/step - loss: 0.3659 - accuracy: 0.8306\n",
      "Epoch 67/100\n",
      "176/176 [==============================] - 0s 565us/step - loss: 0.3662 - accuracy: 0.8309\n",
      "Epoch 68/100\n",
      "176/176 [==============================] - 0s 571us/step - loss: 0.3659 - accuracy: 0.8293\n",
      "Epoch 69/100\n",
      "176/176 [==============================] - 0s 565us/step - loss: 0.3653 - accuracy: 0.8302\n",
      "Epoch 70/100\n",
      "176/176 [==============================] - 0s 579us/step - loss: 0.3653 - accuracy: 0.8292\n",
      "Epoch 71/100\n",
      "176/176 [==============================] - 0s 578us/step - loss: 0.3632 - accuracy: 0.8315\n",
      "Epoch 72/100\n",
      "176/176 [==============================] - 0s 554us/step - loss: 0.3638 - accuracy: 0.8311\n",
      "Epoch 73/100\n",
      "176/176 [==============================] - 0s 564us/step - loss: 0.3623 - accuracy: 0.8315\n",
      "Epoch 74/100\n",
      "176/176 [==============================] - 0s 554us/step - loss: 0.3624 - accuracy: 0.8281\n",
      "Epoch 75/100\n",
      "176/176 [==============================] - 0s 559us/step - loss: 0.3619 - accuracy: 0.8315\n",
      "Epoch 76/100\n",
      "176/176 [==============================] - 0s 557us/step - loss: 0.3617 - accuracy: 0.8322\n",
      "Epoch 77/100\n",
      "176/176 [==============================] - 0s 573us/step - loss: 0.3615 - accuracy: 0.8309\n",
      "Epoch 78/100\n",
      "176/176 [==============================] - 0s 561us/step - loss: 0.3607 - accuracy: 0.8308\n",
      "Epoch 79/100\n",
      "176/176 [==============================] - 0s 572us/step - loss: 0.3605 - accuracy: 0.8302\n",
      "Epoch 80/100\n",
      "176/176 [==============================] - 0s 550us/step - loss: 0.3607 - accuracy: 0.8327\n",
      "Epoch 81/100\n",
      "176/176 [==============================] - 0s 586us/step - loss: 0.3589 - accuracy: 0.8318\n",
      "Epoch 82/100\n",
      "176/176 [==============================] - 0s 634us/step - loss: 0.3599 - accuracy: 0.8304\n",
      "Epoch 83/100\n",
      "176/176 [==============================] - 0s 646us/step - loss: 0.3589 - accuracy: 0.8318\n",
      "Epoch 84/100\n",
      "176/176 [==============================] - 0s 642us/step - loss: 0.3605 - accuracy: 0.8311\n",
      "Epoch 85/100\n",
      "176/176 [==============================] - 0s 651us/step - loss: 0.3580 - accuracy: 0.8348\n",
      "Epoch 86/100\n",
      "176/176 [==============================] - 0s 614us/step - loss: 0.3565 - accuracy: 0.8306\n",
      "Epoch 87/100\n",
      "176/176 [==============================] - 0s 611us/step - loss: 0.3567 - accuracy: 0.8322\n",
      "Epoch 88/100\n",
      "176/176 [==============================] - 0s 583us/step - loss: 0.3569 - accuracy: 0.8343\n",
      "Epoch 89/100\n",
      "176/176 [==============================] - 0s 567us/step - loss: 0.3582 - accuracy: 0.8361\n",
      "Epoch 90/100\n",
      "176/176 [==============================] - 0s 582us/step - loss: 0.3558 - accuracy: 0.8341\n",
      "Epoch 91/100\n",
      "176/176 [==============================] - 0s 623us/step - loss: 0.3571 - accuracy: 0.8373\n",
      "Epoch 92/100\n",
      "176/176 [==============================] - 0s 598us/step - loss: 0.3551 - accuracy: 0.8327\n",
      "Epoch 93/100\n",
      "176/176 [==============================] - 0s 581us/step - loss: 0.3554 - accuracy: 0.8343\n",
      "Epoch 94/100\n",
      "176/176 [==============================] - 0s 553us/step - loss: 0.3547 - accuracy: 0.8324\n",
      "Epoch 95/100\n",
      "176/176 [==============================] - 0s 554us/step - loss: 0.3541 - accuracy: 0.8322\n",
      "Epoch 96/100\n",
      "176/176 [==============================] - 0s 615us/step - loss: 0.3536 - accuracy: 0.8345\n",
      "Epoch 97/100\n",
      "176/176 [==============================] - 0s 624us/step - loss: 0.3536 - accuracy: 0.8336\n",
      "Epoch 98/100\n",
      "176/176 [==============================] - 0s 589us/step - loss: 0.3524 - accuracy: 0.8357\n",
      "Epoch 99/100\n",
      "176/176 [==============================] - 0s 551us/step - loss: 0.3532 - accuracy: 0.8313\n",
      "Epoch 100/100\n",
      "176/176 [==============================] - 0s 554us/step - loss: 0.3539 - accuracy: 0.8341\n"
     ]
    }
   ],
   "source": [
    "# Build a model (ANN) in tensorflow/keras\n",
    "#Importing the Keras and Tensorflow Libraries\n",
    "import tensorflow as tf\n",
    "from tensorflow import keras\n",
    "\n",
    "model = keras.Sequential([\n",
    "    keras.layers.Dense(26, input_shape=(26,), activation='relu'),\n",
    "    keras.layers.Dense(15, activation='relu'),\n",
    "    keras.layers.Dense(1, activation='sigmoid')\n",
    "])\n",
    "\n",
    "# opt = keras.optimizers.Adam(learning_rate=0.01)\n",
    "\n",
    "model.compile(optimizer='adam',\n",
    "              loss='binary_crossentropy',\n",
    "              metrics=['accuracy'])\n",
    "\n",
    "history = model.fit(X_train, y_train, epochs=100)"
   ]
  },
  {
   "cell_type": "code",
   "execution_count": 353,
   "id": "0ee8376c",
   "metadata": {},
   "outputs": [
    {
     "data": {
      "text/plain": [
       "{'loss': [0.48833373188972473,\n",
       "  0.42642703652381897,\n",
       "  0.41830235719680786,\n",
       "  0.41447335481643677,\n",
       "  0.4109571576118469,\n",
       "  0.40920206904411316,\n",
       "  0.4080651104450226,\n",
       "  0.40640348196029663,\n",
       "  0.405169278383255,\n",
       "  0.4048611521720886,\n",
       "  0.4027782678604126,\n",
       "  0.40297186374664307,\n",
       "  0.40129441022872925,\n",
       "  0.40018633008003235,\n",
       "  0.3992617130279541,\n",
       "  0.3973093628883362,\n",
       "  0.3972953259944916,\n",
       "  0.3961026072502136,\n",
       "  0.3959834575653076,\n",
       "  0.3951774835586548,\n",
       "  0.39387014508247375,\n",
       "  0.3928222358226776,\n",
       "  0.3916882872581482,\n",
       "  0.39133498072624207,\n",
       "  0.39038529992103577,\n",
       "  0.38967669010162354,\n",
       "  0.3888929784297943,\n",
       "  0.38923147320747375,\n",
       "  0.3881097733974457,\n",
       "  0.3877723813056946,\n",
       "  0.3870308995246887,\n",
       "  0.3858567178249359,\n",
       "  0.38591986894607544,\n",
       "  0.3846336901187897,\n",
       "  0.38438788056373596,\n",
       "  0.3835156261920929,\n",
       "  0.38251402974128723,\n",
       "  0.3819350302219391,\n",
       "  0.38031190633773804,\n",
       "  0.3818821907043457,\n",
       "  0.3805229067802429,\n",
       "  0.3801325857639313,\n",
       "  0.3788081705570221,\n",
       "  0.37886279821395874,\n",
       "  0.3786138892173767,\n",
       "  0.3765067160129547,\n",
       "  0.37807056307792664,\n",
       "  0.37614116072654724,\n",
       "  0.3766722083091736,\n",
       "  0.3756662905216217,\n",
       "  0.3736289441585541,\n",
       "  0.3741818070411682,\n",
       "  0.372751921415329,\n",
       "  0.3731399178504944,\n",
       "  0.37138980627059937,\n",
       "  0.3734985589981079,\n",
       "  0.37094777822494507,\n",
       "  0.3705855906009674,\n",
       "  0.37133848667144775,\n",
       "  0.3701321482658386,\n",
       "  0.36820608377456665,\n",
       "  0.36840954422950745,\n",
       "  0.36831027269363403,\n",
       "  0.36713823676109314,\n",
       "  0.36645185947418213,\n",
       "  0.36590495705604553,\n",
       "  0.36622247099876404,\n",
       "  0.36587291955947876,\n",
       "  0.36533424258232117,\n",
       "  0.3652699589729309,\n",
       "  0.3632064759731293,\n",
       "  0.36381983757019043,\n",
       "  0.3622943162918091,\n",
       "  0.3623615503311157,\n",
       "  0.36185598373413086,\n",
       "  0.361711710691452,\n",
       "  0.3615269362926483,\n",
       "  0.36071568727493286,\n",
       "  0.3604832589626312,\n",
       "  0.36072060465812683,\n",
       "  0.35894644260406494,\n",
       "  0.3599295914173126,\n",
       "  0.3589065968990326,\n",
       "  0.3604586124420166,\n",
       "  0.3579687178134918,\n",
       "  0.35651785135269165,\n",
       "  0.35666167736053467,\n",
       "  0.3569415211677551,\n",
       "  0.35824650526046753,\n",
       "  0.3558172881603241,\n",
       "  0.3571150302886963,\n",
       "  0.3550875186920166,\n",
       "  0.35536980628967285,\n",
       "  0.35471808910369873,\n",
       "  0.3540847897529602,\n",
       "  0.3535999655723572,\n",
       "  0.35360515117645264,\n",
       "  0.35236936807632446,\n",
       "  0.35318291187286377,\n",
       "  0.35387110710144043],\n",
       " 'accuracy': [0.7614222168922424,\n",
       "  0.7978666424751282,\n",
       "  0.799822211265564,\n",
       "  0.8039110898971558,\n",
       "  0.8058666586875916,\n",
       "  0.809066653251648,\n",
       "  0.8092444539070129,\n",
       "  0.8097777962684631,\n",
       "  0.809066653251648,\n",
       "  0.8117333054542542,\n",
       "  0.8133333325386047,\n",
       "  0.8099555373191833,\n",
       "  0.8110222220420837,\n",
       "  0.8135111331939697,\n",
       "  0.8094221949577332,\n",
       "  0.8131555318832397,\n",
       "  0.8126222491264343,\n",
       "  0.8152889013290405,\n",
       "  0.8117333054542542,\n",
       "  0.8136888742446899,\n",
       "  0.8170666694641113,\n",
       "  0.8127999901771545,\n",
       "  0.8167111277580261,\n",
       "  0.8136888742446899,\n",
       "  0.8158222436904907,\n",
       "  0.8181333541870117,\n",
       "  0.8181333541870117,\n",
       "  0.8158222436904907,\n",
       "  0.8159999847412109,\n",
       "  0.8216888904571533,\n",
       "  0.8176000118255615,\n",
       "  0.8204444646835327,\n",
       "  0.8177777528762817,\n",
       "  0.8188444375991821,\n",
       "  0.8213333487510681,\n",
       "  0.8191999793052673,\n",
       "  0.8197333216667175,\n",
       "  0.8206222057342529,\n",
       "  0.8222222328186035,\n",
       "  0.8208000063896179,\n",
       "  0.8223999738693237,\n",
       "  0.8204444646835327,\n",
       "  0.8252444267272949,\n",
       "  0.8218666911125183,\n",
       "  0.8240000009536743,\n",
       "  0.8231111168861389,\n",
       "  0.8232889175415039,\n",
       "  0.8250666856765747,\n",
       "  0.8241778016090393,\n",
       "  0.8247110843658447,\n",
       "  0.8293333053588867,\n",
       "  0.8279111385345459,\n",
       "  0.8266666531562805,\n",
       "  0.8261333107948303,\n",
       "  0.8273777961730957,\n",
       "  0.8252444267272949,\n",
       "  0.8275555372238159,\n",
       "  0.8264889121055603,\n",
       "  0.8261333107948303,\n",
       "  0.8257777690887451,\n",
       "  0.8300444483757019,\n",
       "  0.8264889121055603,\n",
       "  0.8309333324432373,\n",
       "  0.8295111060142517,\n",
       "  0.8291555643081665,\n",
       "  0.8305777907371521,\n",
       "  0.8309333324432373,\n",
       "  0.8293333053588867,\n",
       "  0.8302222490310669,\n",
       "  0.8291555643081665,\n",
       "  0.8314666748046875,\n",
       "  0.8311111330986023,\n",
       "  0.8314666748046875,\n",
       "  0.8280888795852661,\n",
       "  0.8314666748046875,\n",
       "  0.8321777582168579,\n",
       "  0.8309333324432373,\n",
       "  0.8307555317878723,\n",
       "  0.8302222490310669,\n",
       "  0.8327111005783081,\n",
       "  0.8318222165107727,\n",
       "  0.8303999900817871,\n",
       "  0.8318222165107727,\n",
       "  0.8311111330986023,\n",
       "  0.8348444700241089,\n",
       "  0.8305777907371521,\n",
       "  0.8321777582168579,\n",
       "  0.8343111276626587,\n",
       "  0.8360888957977295,\n",
       "  0.8341333270072937,\n",
       "  0.8373333215713501,\n",
       "  0.8327111005783081,\n",
       "  0.8343111276626587,\n",
       "  0.8323555588722229,\n",
       "  0.8321777582168579,\n",
       "  0.8344888687133789,\n",
       "  0.8335999846458435,\n",
       "  0.8357333540916443,\n",
       "  0.8312888741493225,\n",
       "  0.8341333270072937]}"
      ]
     },
     "execution_count": 353,
     "metadata": {},
     "output_type": "execute_result"
    }
   ],
   "source": [
    "history.history"
   ]
  },
  {
   "cell_type": "markdown",
   "id": "29b50a73",
   "metadata": {},
   "source": [
    "### Evaluating the Model"
   ]
  },
  {
   "cell_type": "code",
   "execution_count": 354,
   "id": "d867611b",
   "metadata": {},
   "outputs": [
    {
     "name": "stdout",
     "output_type": "stream",
     "text": [
      "Model: \"sequential_23\"\n",
      "_________________________________________________________________\n",
      " Layer (type)                Output Shape              Param #   \n",
      "=================================================================\n",
      " dense_69 (Dense)            (None, 26)                702       \n",
      "                                                                 \n",
      " dense_70 (Dense)            (None, 15)                405       \n",
      "                                                                 \n",
      " dense_71 (Dense)            (None, 1)                 16        \n",
      "                                                                 \n",
      "=================================================================\n",
      "Total params: 1,123\n",
      "Trainable params: 1,123\n",
      "Non-trainable params: 0\n",
      "_________________________________________________________________\n"
     ]
    }
   ],
   "source": [
    "model.summary()"
   ]
  },
  {
   "cell_type": "code",
   "execution_count": 355,
   "id": "14302aa9",
   "metadata": {},
   "outputs": [
    {
     "name": "stdout",
     "output_type": "stream",
     "text": [
      "44/44 [==============================] - 0s 623us/step - loss: 0.4851 - accuracy: 0.7825\n"
     ]
    },
    {
     "data": {
      "text/plain": [
       "[0.4850667417049408, 0.7825160026550293]"
      ]
     },
     "execution_count": 355,
     "metadata": {},
     "output_type": "execute_result"
    }
   ],
   "source": [
    "model.evaluate(X_test, y_test)"
   ]
  },
  {
   "cell_type": "code",
   "execution_count": 381,
   "id": "e081c1dc",
   "metadata": {},
   "outputs": [
    {
     "data": {
      "text/plain": [
       "array([[0.46543592],\n",
       "       [0.525803  ],\n",
       "       [0.00368744],\n",
       "       [0.8330405 ],\n",
       "       [0.424674  ]], dtype=float32)"
      ]
     },
     "execution_count": 381,
     "metadata": {},
     "output_type": "execute_result"
    }
   ],
   "source": [
    "yp = model.predict(X_test)\n",
    "yp[:5]"
   ]
  },
  {
   "cell_type": "code",
   "execution_count": 382,
   "id": "7fec60ee",
   "metadata": {},
   "outputs": [],
   "source": [
    "y_pred = []\n",
    "for element in yp:\n",
    "    if element > 0.5:\n",
    "        y_pred.append(1)\n",
    "    else:\n",
    "        y_pred.append(0)"
   ]
  },
  {
   "cell_type": "code",
   "execution_count": 383,
   "id": "cae5c582",
   "metadata": {},
   "outputs": [
    {
     "data": {
      "text/plain": [
       "[0, 1, 0, 1, 0, 1, 0, 0, 0, 0]"
      ]
     },
     "execution_count": 383,
     "metadata": {},
     "output_type": "execute_result"
    }
   ],
   "source": [
    "y_pred[:10]"
   ]
  },
  {
   "cell_type": "code",
   "execution_count": 384,
   "id": "9e754881",
   "metadata": {},
   "outputs": [
    {
     "data": {
      "text/plain": [
       "2660    0\n",
       "744     0\n",
       "5579    1\n",
       "64      1\n",
       "3287    1\n",
       "816     1\n",
       "2670    0\n",
       "5920    0\n",
       "1023    0\n",
       "6087    0\n",
       "Name: Churn, dtype: int64"
      ]
     },
     "execution_count": 384,
     "metadata": {},
     "output_type": "execute_result"
    }
   ],
   "source": [
    "y_test[:10]"
   ]
  },
  {
   "cell_type": "code",
   "execution_count": 387,
   "id": "54204c75",
   "metadata": {},
   "outputs": [
    {
     "name": "stdout",
     "output_type": "stream",
     "text": [
      "[[0.46543592]\n",
      " [0.525803  ]\n",
      " [0.00368744]\n",
      " ...\n",
      " [0.80836356]\n",
      " [0.74660456]\n",
      " [0.64034367]]\n",
      "[0, 1, 0, 1, 0, 1, 0, 0, 0, 0, 0, 1, 0, 1, 1, 0, 0, 0, 0, 0, 0, 0, 0, 0, 0, 0, 0, 0, 1, 0, 0, 1, 0, 0, 0, 0, 1, 0, 1, 0, 1, 1, 0, 0, 0, 0, 0, 0, 0, 1, 0, 0, 0, 1, 0, 0, 0, 1, 0, 0, 0, 0, 0, 1, 0, 0, 0, 0, 0, 1, 0, 1, 0, 1, 0, 0, 1, 0, 0, 0, 1, 1, 0, 0, 0, 0, 0, 1, 0, 0, 1, 0, 1, 1, 1, 0, 1, 0, 1, 1, 0, 0, 1, 0, 0, 0, 0, 0, 0, 0, 0, 0, 0, 0, 0, 0, 0, 0, 0, 0, 0, 0, 0, 0, 0, 0, 0, 0, 0, 0, 0, 1, 1, 0, 1, 0, 0, 1, 0, 0, 0, 1, 0, 1, 0, 1, 1, 0, 1, 0, 0, 0, 1, 0, 0, 0, 1, 1, 0, 0, 1, 0, 0, 0, 0, 0, 0, 0, 0, 0, 0, 0, 0, 0, 0, 1, 0, 0, 1, 0, 0, 0, 0, 0, 0, 0, 0, 1, 0, 1, 0, 0, 0, 1, 0, 0, 1, 0, 0, 0, 0, 1, 0, 1, 0, 0, 0, 0, 0, 0, 0, 0, 0, 0, 0, 0, 0, 0, 0, 0, 0, 0, 0, 1, 0, 1, 1, 0, 0, 0, 0, 1, 0, 0, 0, 0, 0, 0, 0, 0, 0, 0, 0, 1, 1, 0, 0, 0, 1, 0, 0, 0, 0, 1, 0, 1, 0, 0, 1, 0, 0, 0, 0, 1, 0, 0, 0, 0, 0, 0, 0, 0, 1, 0, 0, 0, 0, 0, 0, 0, 0, 1, 0, 0, 0, 0, 0, 0, 1, 0, 0, 0, 0, 0, 1, 1, 0, 0, 0, 0, 0, 0, 1, 1, 0, 0, 0, 1, 0, 1, 0, 0, 0, 1, 0, 1, 0, 0, 0, 0, 1, 0, 0, 0, 0, 0, 0, 0, 0, 0, 0, 0, 0, 0, 0, 1, 0, 0, 0, 0, 0, 0, 1, 0, 0, 0, 0, 1, 0, 1, 0, 0, 0, 0, 0, 1, 0, 0, 0, 0, 0, 0, 0, 0, 0, 0, 0, 0, 0, 0, 0, 0, 0, 0, 0, 0, 0, 0, 0, 1, 0, 1, 0, 0, 0, 0, 0, 0, 0, 0, 1, 0, 1, 0, 0, 0, 1, 1, 0, 0, 1, 1, 0, 0, 0, 1, 1, 0, 1, 0, 0, 0, 0, 0, 0, 0, 0, 0, 0, 1, 0, 0, 0, 0, 0, 1, 1, 0, 1, 0, 0, 0, 0, 0, 1, 0, 0, 1, 1, 0, 0, 0, 0, 0, 1, 0, 0, 1, 0, 0, 0, 0, 0, 0, 0, 1, 0, 0, 1, 0, 0, 0, 0, 0, 0, 0, 0, 0, 0, 0, 1, 1, 0, 1, 0, 1, 0, 0, 1, 0, 1, 0, 0, 0, 0, 0, 1, 0, 0, 0, 1, 0, 0, 0, 0, 0, 0, 0, 0, 0, 0, 1, 0, 0, 0, 0, 1, 1, 0, 0, 0, 0, 0, 0, 0, 1, 0, 0, 0, 0, 0, 0, 0, 0, 0, 0, 0, 0, 0, 1, 0, 0, 0, 0, 0, 0, 0, 0, 0, 0, 0, 1, 0, 0, 1, 0, 0, 0, 0, 0, 0, 1, 0, 1, 0, 0, 0, 0, 1, 0, 0, 0, 0, 0, 1, 0, 1, 0, 1, 0, 0, 1, 0, 0, 0, 0, 0, 0, 1, 0, 1, 1, 0, 0, 0, 1, 0, 0, 0, 0, 0, 0, 1, 0, 0, 0, 0, 1, 0, 0, 0, 0, 0, 0, 1, 1, 0, 1, 0, 0, 0, 0, 1, 0, 0, 0, 0, 0, 0, 0, 0, 1, 1, 0, 0, 1, 1, 0, 0, 0, 1, 0, 0, 0, 0, 0, 0, 0, 0, 1, 0, 1, 0, 0, 0, 0, 0, 0, 1, 0, 0, 1, 1, 0, 0, 0, 0, 0, 1, 0, 0, 0, 0, 1, 0, 0, 0, 0, 1, 0, 0, 0, 1, 0, 0, 0, 1, 0, 0, 0, 0, 0, 1, 0, 0, 0, 0, 0, 0, 0, 1, 0, 0, 0, 0, 0, 0, 0, 1, 0, 0, 1, 1, 1, 0, 0, 0, 0, 0, 0, 0, 1, 0, 1, 0, 0, 1, 1, 1, 1, 0, 0, 1, 0, 1, 0, 0, 0, 0, 1, 0, 1, 0, 0, 1, 0, 0, 0, 0, 0, 0, 0, 0, 1, 0, 0, 0, 1, 0, 1, 0, 0, 0, 0, 1, 1, 0, 0, 0, 1, 0, 1, 1, 1, 0, 1, 0, 1, 0, 0, 1, 0, 0, 0, 0, 0, 0, 1, 1, 0, 0, 0, 0, 1, 0, 0, 0, 0, 0, 0, 0, 1, 0, 0, 1, 0, 0, 0, 0, 0, 0, 0, 1, 0, 1, 0, 1, 0, 1, 0, 1, 0, 1, 0, 1, 0, 0, 1, 1, 0, 0, 0, 0, 0, 1, 0, 0, 0, 0, 1, 1, 0, 0, 0, 0, 0, 0, 0, 0, 0, 1, 0, 0, 0, 0, 0, 0, 0, 1, 0, 0, 0, 1, 0, 1, 0, 0, 1, 0, 0, 0, 0, 0, 0, 1, 0, 1, 0, 1, 1, 0, 0, 0, 0, 0, 0, 1, 1, 0, 0, 1, 0, 1, 0, 0, 0, 0, 0, 1, 0, 0, 1, 0, 1, 0, 0, 0, 0, 0, 0, 0, 1, 0, 0, 1, 0, 0, 0, 0, 0, 0, 0, 0, 1, 1, 1, 0, 0, 1, 0, 0, 1, 0, 0, 0, 0, 0, 0, 1, 0, 0, 0, 0, 0, 0, 0, 0, 0, 0, 1, 0, 1, 0, 0, 0, 0, 0, 0, 1, 0, 0, 0, 0, 1, 0, 0, 0, 0, 0, 0, 0, 1, 0, 0, 0, 0, 1, 0, 0, 0, 1, 0, 0, 1, 0, 0, 0, 0, 0, 0, 0, 0, 0, 0, 0, 0, 0, 1, 1, 0, 1, 0, 0, 0, 0, 1, 0, 0, 0, 0, 0, 0, 1, 0, 1, 1, 0, 0, 1, 0, 0, 1, 0, 0, 0, 0, 0, 0, 0, 1, 0, 0, 0, 0, 0, 0, 0, 0, 1, 0, 0, 1, 0, 0, 0, 1, 0, 0, 1, 0, 0, 0, 0, 0, 1, 1, 0, 0, 0, 0, 0, 0, 0, 1, 0, 1, 0, 0, 1, 1, 0, 0, 0, 0, 0, 0, 0, 0, 1, 0, 0, 0, 0, 0, 0, 0, 0, 0, 0, 0, 0, 0, 0, 0, 0, 0, 0, 0, 0, 1, 0, 0, 0, 0, 0, 1, 0, 0, 0, 0, 0, 1, 1, 0, 0, 0, 1, 0, 1, 0, 0, 0, 1, 0, 0, 0, 0, 0, 0, 1, 0, 0, 1, 0, 0, 0, 0, 0, 1, 0, 0, 0, 0, 0, 1, 1, 1, 0, 1, 0, 0, 0, 1, 1, 0, 0, 0, 0, 0, 1, 0, 0, 1, 0, 0, 0, 1, 0, 0, 0, 0, 1, 0, 0, 1, 1, 0, 0, 0, 0, 0, 0, 0, 0, 0, 0, 1, 0, 0, 0, 1, 1, 0, 0, 0, 1, 0, 0, 0, 1, 0, 0, 0, 0, 0, 0, 0, 0, 0, 0, 0, 0, 0, 1, 0, 1, 0, 0, 0, 0, 1, 0, 1, 0, 1, 1, 1, 0, 0, 1, 1, 0, 0, 0, 1, 0, 1, 0, 0, 0, 0, 0, 1, 0, 0, 0, 0, 0, 0, 0, 0, 0, 1, 0, 0, 0, 0, 0, 1, 1, 0, 0, 0, 0, 0, 0, 0, 0, 0, 1, 0, 0, 1, 0, 0, 0, 1, 0, 1, 1, 0, 0, 0, 0, 0, 0, 1, 0, 0, 0, 0, 0, 0, 1, 0, 0, 0, 0, 0, 0, 1, 0, 0, 0, 0, 0, 0, 0, 0, 0, 0, 1, 1, 0, 0, 0, 1, 1, 0, 0, 0, 1, 0, 1, 0, 0, 0, 0, 1, 0, 1, 1, 0, 0, 0, 1, 0, 0, 0, 0, 0, 0, 0, 1, 0, 0, 0, 1, 1, 0, 0, 0, 1, 0, 0, 1, 0, 0, 0, 0, 0, 0, 0, 0, 0, 0, 0, 0, 0, 1, 0, 1, 0, 0, 1, 0, 0, 0, 1, 0, 1, 0, 0, 0, 0, 0, 0, 0, 1, 0, 1, 0, 0, 0, 0, 0, 1, 1, 0, 0, 1, 0, 0, 0, 1, 1, 0, 0, 0, 0, 0, 0, 1, 1, 1, 1, 1]\n"
     ]
    }
   ],
   "source": [
    "# predict the churn values\n",
    "y_pred = model.predict(X_test)\n",
    "print(y_pred)\n",
    "# unscaling the ypred values \n",
    "y_pred_lis = []\n",
    "for i in y_pred:\n",
    "    if i>0.5:\n",
    "        y_pred_lis.append(1)\n",
    "    else:\n",
    "        y_pred_lis.append(0)\n",
    "print(y_pred_lis)"
   ]
  },
  {
   "cell_type": "code",
   "execution_count": 388,
   "id": "2f505a74",
   "metadata": {},
   "outputs": [
    {
     "data": {
      "text/html": [
       "<div>\n",
       "<style scoped>\n",
       "    .dataframe tbody tr th:only-of-type {\n",
       "        vertical-align: middle;\n",
       "    }\n",
       "\n",
       "    .dataframe tbody tr th {\n",
       "        vertical-align: top;\n",
       "    }\n",
       "\n",
       "    .dataframe thead th {\n",
       "        text-align: right;\n",
       "    }\n",
       "</style>\n",
       "<table border=\"1\" class=\"dataframe\">\n",
       "  <thead>\n",
       "    <tr style=\"text-align: right;\">\n",
       "      <th></th>\n",
       "      <th>orignal_churn</th>\n",
       "      <th>predicted_churn</th>\n",
       "    </tr>\n",
       "  </thead>\n",
       "  <tbody>\n",
       "    <tr>\n",
       "      <th>2660</th>\n",
       "      <td>0</td>\n",
       "      <td>0</td>\n",
       "    </tr>\n",
       "    <tr>\n",
       "      <th>744</th>\n",
       "      <td>0</td>\n",
       "      <td>1</td>\n",
       "    </tr>\n",
       "    <tr>\n",
       "      <th>5579</th>\n",
       "      <td>1</td>\n",
       "      <td>0</td>\n",
       "    </tr>\n",
       "    <tr>\n",
       "      <th>64</th>\n",
       "      <td>1</td>\n",
       "      <td>1</td>\n",
       "    </tr>\n",
       "    <tr>\n",
       "      <th>3287</th>\n",
       "      <td>1</td>\n",
       "      <td>0</td>\n",
       "    </tr>\n",
       "    <tr>\n",
       "      <th>816</th>\n",
       "      <td>1</td>\n",
       "      <td>1</td>\n",
       "    </tr>\n",
       "    <tr>\n",
       "      <th>2670</th>\n",
       "      <td>0</td>\n",
       "      <td>0</td>\n",
       "    </tr>\n",
       "    <tr>\n",
       "      <th>5920</th>\n",
       "      <td>0</td>\n",
       "      <td>0</td>\n",
       "    </tr>\n",
       "    <tr>\n",
       "      <th>1023</th>\n",
       "      <td>0</td>\n",
       "      <td>0</td>\n",
       "    </tr>\n",
       "    <tr>\n",
       "      <th>6087</th>\n",
       "      <td>0</td>\n",
       "      <td>0</td>\n",
       "    </tr>\n",
       "  </tbody>\n",
       "</table>\n",
       "</div>"
      ],
      "text/plain": [
       "      orignal_churn  predicted_churn\n",
       "2660              0                0\n",
       "744               0                1\n",
       "5579              1                0\n",
       "64                1                1\n",
       "3287              1                0\n",
       "816               1                1\n",
       "2670              0                0\n",
       "5920              0                0\n",
       "1023              0                0\n",
       "6087              0                0"
      ]
     },
     "execution_count": 388,
     "metadata": {},
     "output_type": "execute_result"
    }
   ],
   "source": [
    "#make dataframe for comparing the orignal and predict values\n",
    "data = {'orignal_churn':y_test, 'predicted_churn':y_pred_lis}\n",
    "df_check = pd.DataFrame(data)\n",
    "df_check.head(10)"
   ]
  },
  {
   "cell_type": "code",
   "execution_count": 376,
   "id": "f213ff07",
   "metadata": {},
   "outputs": [
    {
     "name": "stdout",
     "output_type": "stream",
     "text": [
      "              precision    recall  f1-score   support\n",
      "\n",
      "           0       0.82      0.89      0.85       999\n",
      "           1       0.65      0.53      0.59       408\n",
      "\n",
      "    accuracy                           0.78      1407\n",
      "   macro avg       0.74      0.71      0.72      1407\n",
      "weighted avg       0.77      0.78      0.78      1407\n",
      "\n"
     ]
    }
   ],
   "source": [
    "from sklearn.metrics import confusion_matrix , classification_report\n",
    "\n",
    "print(classification_report(y_test,y_pred))"
   ]
  },
  {
   "cell_type": "code",
   "execution_count": 377,
   "id": "429ccf40",
   "metadata": {},
   "outputs": [
    {
     "data": {
      "text/plain": [
       "Text(69.0, 0.5, 'Truth (Actual Values)')"
      ]
     },
     "execution_count": 377,
     "metadata": {},
     "output_type": "execute_result"
    },
    {
     "data": {
      "image/png": "[encoded data removed]",
      "text/plain": [
       "<Figure size 720x504 with 2 Axes>"
      ]
     },
     "metadata": {
      "needs_background": "light"
     },
     "output_type": "display_data"
    }
   ],
   "source": [
    "import seaborn as sn\n",
    "cm = tf.math.confusion_matrix(labels=y_test,predictions=y_pred)\n",
    "\n",
    "plt.figure(figsize = (10,7))\n",
    "sn.heatmap(cm, annot=True, fmt='d')\n",
    "plt.xlabel('Predicted')\n",
    "plt.ylabel('Truth (Actual Values)')"
   ]
  },
  {
   "cell_type": "code",
   "execution_count": 378,
   "id": "08d8d525",
   "metadata": {},
   "outputs": [
    {
     "data": {
      "text/plain": [
       "(1407,)"
      ]
     },
     "execution_count": 378,
     "metadata": {},
     "output_type": "execute_result"
    }
   ],
   "source": [
    "y_test.shape"
   ]
  },
  {
   "cell_type": "code",
   "execution_count": 363,
   "id": "1bbf5809",
   "metadata": {},
   "outputs": [],
   "source": [
    "tp = cm[0,0]\n",
    "fn = cm[0,1]\n",
    "fp = cm[1,0]\n",
    "tn = cm[1,1]\n",
    "tot_pred = tp+fn+fp+tn"
   ]
  },
  {
   "cell_type": "code",
   "execution_count": 364,
   "id": "7e7346b8",
   "metadata": {},
   "outputs": [],
   "source": [
    "#tot_pred"
   ]
  },
  {
   "cell_type": "code",
   "execution_count": 95,
   "id": "7eb976dc",
   "metadata": {},
   "outputs": [
    {
     "data": {
      "image/png": "[encoded data removed]",
      "text/plain": [
       "<Figure size 432x288 with 1 Axes>"
      ]
     },
     "metadata": {
      "needs_background": "light"
     },
     "output_type": "display_data"
    },
    {
     "data": {
      "image/png": "[encoded data removed]",
      "text/plain": [
       "<Figure size 432x288 with 1 Axes>"
      ]
     },
     "metadata": {
      "needs_background": "light"
     },
     "output_type": "display_data"
    }
   ],
   "source": [
    "val_acc = [1]\n",
    "def plot_accuracy(history):\n",
    "    plt.plot(model.history.history['accuracy'])\n",
    "    plt.title('model accuracy')\n",
    "    plt.ylabel('accuracy')\n",
    "    plt.xlabel('epoch')\n",
    "    plt.legend(['training', 'validation'], loc='lower right')\n",
    "    plt.show()\n",
    "\n",
    "def plot_loss(history):\n",
    "    plt.plot(model.history.history['loss'])\n",
    "    plt.title('model loss')\n",
    "    plt.ylabel('loss')\n",
    "    plt.xlabel('epoch')\n",
    "    plt.legend(['training', 'validation'], loc='upper right')\n",
    "    plt.show()\n",
    "\n",
    "# summarize history for accuracy\n",
    "plot_accuracy(model)\n",
    "\n",
    "# summarize history for loss\n",
    "plot_loss(model)"
   ]
  },
  {
   "cell_type": "code",
   "execution_count": 366,
   "id": "db22dd2e",
   "metadata": {},
   "outputs": [
    {
     "data": {
      "text/plain": [
       "0.78"
      ]
     },
     "execution_count": 366,
     "metadata": {},
     "output_type": "execute_result"
    }
   ],
   "source": [
    "#calculated_accuracy \n",
    "#round((tp+tn)/(tot_pred),2)\n",
    "\n",
    "#Accuracy\n",
    "round((885+216)/(885+216+114+192),2)"
   ]
  },
  {
   "cell_type": "code",
   "execution_count": 367,
   "id": "75432dfb",
   "metadata": {},
   "outputs": [
    {
     "data": {
      "text/plain": [
       "0.89"
      ]
     },
     "execution_count": 367,
     "metadata": {},
     "output_type": "execute_result"
    }
   ],
   "source": [
    "# Precision for Not Churn\n",
    "#round((tp)/(tp+fp),2)\n",
    "\n",
    "#Precision for 0 class. i.e. Precision for customers who did not churn\n",
    "round(885/(885+114),2)"
   ]
  },
  {
   "cell_type": "code",
   "execution_count": 368,
   "id": "e0ac545b",
   "metadata": {},
   "outputs": [
    {
     "data": {
      "text/plain": [
       "0.53"
      ]
     },
     "execution_count": 368,
     "metadata": {},
     "output_type": "execute_result"
    }
   ],
   "source": [
    "# Precision for Churn\n",
    "#round((tn)/(tn+fn),2)\n",
    "\n",
    "#Precision for 1 class. i.e. Precision for customers who actually churned\n",
    "round(216/(216+192),2)"
   ]
  },
  {
   "cell_type": "code",
   "execution_count": 369,
   "id": "72b09df1",
   "metadata": {},
   "outputs": [
    {
     "data": {
      "text/plain": [
       "0.82"
      ]
     },
     "execution_count": 369,
     "metadata": {},
     "output_type": "execute_result"
    }
   ],
   "source": [
    "# Recall for Not Churn\n",
    "#round((tp)/(tp+fn),2)\n",
    "\n",
    "#Recall for Not Churn\n",
    "round(885/(885+192),2)"
   ]
  },
  {
   "cell_type": "code",
   "execution_count": 370,
   "id": "9bab1d29",
   "metadata": {},
   "outputs": [
    {
     "data": {
      "text/plain": [
       "0.65"
      ]
     },
     "execution_count": 370,
     "metadata": {},
     "output_type": "execute_result"
    }
   ],
   "source": [
    "# Recall for Churn 0.5\n",
    "#round((tn)/(fp+tn),2)\n",
    "\n",
    "#Recall for 0 class\n",
    "round(216/(114+216),2)"
   ]
  },
  {
   "cell_type": "code",
   "execution_count": null,
   "id": "5ce64b95",
   "metadata": {},
   "outputs": [],
   "source": []
  },
  {
   "cell_type": "code",
   "execution_count": null,
   "id": "f7acc8b7",
   "metadata": {},
   "outputs": [],
   "source": []
  },
  {
   "cell_type": "code",
   "execution_count": null,
   "id": "9d033f54",
   "metadata": {},
   "outputs": [],
   "source": []
  },
  {
   "cell_type": "markdown",
   "id": "cae25288",
   "metadata": {},
   "source": [
    "## Telco Customer Churn Prediction with Multilayer Perceptron (MLP)"
   ]
  },
  {
   "cell_type": "markdown",
   "id": "2d26f25d",
   "metadata": {},
   "source": [
    "### Data wrangling"
   ]
  },
  {
   "cell_type": "code",
   "execution_count": 317,
   "id": "2d27e51d",
   "metadata": {},
   "outputs": [],
   "source": [
    "#Import packages\n",
    "import pandas as pd\n",
    "import numpy as np\n",
    "import matplotlib.pyplot as plt\n",
    "import seaborn as sns\n",
    "%matplotlib inline"
   ]
  },
  {
   "cell_type": "code",
   "execution_count": 318,
   "id": "e4e62d50",
   "metadata": {},
   "outputs": [],
   "source": [
    "#Load the Data\n",
    "df_telco = pd.read_csv(r\"C:\\Users\\kalha\\Applied AI\\CW02\\WA_Fn-UseC_-Telco-Customer-Churn.csv\")"
   ]
  },
  {
   "cell_type": "code",
   "execution_count": 319,
   "id": "9d767cc3",
   "metadata": {},
   "outputs": [
    {
     "data": {
      "text/html": [
       "<div>\n",
       "<style scoped>\n",
       "    .dataframe tbody tr th:only-of-type {\n",
       "        vertical-align: middle;\n",
       "    }\n",
       "\n",
       "    .dataframe tbody tr th {\n",
       "        vertical-align: top;\n",
       "    }\n",
       "\n",
       "    .dataframe thead th {\n",
       "        text-align: right;\n",
       "    }\n",
       "</style>\n",
       "<table border=\"1\" class=\"dataframe\">\n",
       "  <thead>\n",
       "    <tr style=\"text-align: right;\">\n",
       "      <th></th>\n",
       "      <th>customerID</th>\n",
       "      <th>gender</th>\n",
       "      <th>SeniorCitizen</th>\n",
       "      <th>Partner</th>\n",
       "      <th>Dependents</th>\n",
       "      <th>tenure</th>\n",
       "      <th>PhoneService</th>\n",
       "      <th>MultipleLines</th>\n",
       "      <th>InternetService</th>\n",
       "      <th>OnlineSecurity</th>\n",
       "      <th>...</th>\n",
       "      <th>DeviceProtection</th>\n",
       "      <th>TechSupport</th>\n",
       "      <th>StreamingTV</th>\n",
       "      <th>StreamingMovies</th>\n",
       "      <th>Contract</th>\n",
       "      <th>PaperlessBilling</th>\n",
       "      <th>PaymentMethod</th>\n",
       "      <th>MonthlyCharges</th>\n",
       "      <th>TotalCharges</th>\n",
       "      <th>Churn</th>\n",
       "    </tr>\n",
       "  </thead>\n",
       "  <tbody>\n",
       "    <tr>\n",
       "      <th>0</th>\n",
       "      <td>7590-VHVEG</td>\n",
       "      <td>Female</td>\n",
       "      <td>0</td>\n",
       "      <td>Yes</td>\n",
       "      <td>No</td>\n",
       "      <td>1</td>\n",
       "      <td>No</td>\n",
       "      <td>No phone service</td>\n",
       "      <td>DSL</td>\n",
       "      <td>No</td>\n",
       "      <td>...</td>\n",
       "      <td>No</td>\n",
       "      <td>No</td>\n",
       "      <td>No</td>\n",
       "      <td>No</td>\n",
       "      <td>Month-to-month</td>\n",
       "      <td>Yes</td>\n",
       "      <td>Electronic check</td>\n",
       "      <td>29.85000</td>\n",
       "      <td>29.85</td>\n",
       "      <td>No</td>\n",
       "    </tr>\n",
       "    <tr>\n",
       "      <th>1</th>\n",
       "      <td>5575-GNVDE</td>\n",
       "      <td>Male</td>\n",
       "      <td>0</td>\n",
       "      <td>No</td>\n",
       "      <td>No</td>\n",
       "      <td>34</td>\n",
       "      <td>Yes</td>\n",
       "      <td>No</td>\n",
       "      <td>DSL</td>\n",
       "      <td>Yes</td>\n",
       "      <td>...</td>\n",
       "      <td>Yes</td>\n",
       "      <td>No</td>\n",
       "      <td>No</td>\n",
       "      <td>No</td>\n",
       "      <td>One year</td>\n",
       "      <td>No</td>\n",
       "      <td>Mailed check</td>\n",
       "      <td>56.95000</td>\n",
       "      <td>1889.5</td>\n",
       "      <td>No</td>\n",
       "    </tr>\n",
       "    <tr>\n",
       "      <th>2</th>\n",
       "      <td>3668-QPYBK</td>\n",
       "      <td>Male</td>\n",
       "      <td>0</td>\n",
       "      <td>No</td>\n",
       "      <td>No</td>\n",
       "      <td>2</td>\n",
       "      <td>Yes</td>\n",
       "      <td>No</td>\n",
       "      <td>DSL</td>\n",
       "      <td>Yes</td>\n",
       "      <td>...</td>\n",
       "      <td>No</td>\n",
       "      <td>No</td>\n",
       "      <td>No</td>\n",
       "      <td>No</td>\n",
       "      <td>Month-to-month</td>\n",
       "      <td>Yes</td>\n",
       "      <td>Mailed check</td>\n",
       "      <td>53.85000</td>\n",
       "      <td>108.15</td>\n",
       "      <td>Yes</td>\n",
       "    </tr>\n",
       "    <tr>\n",
       "      <th>3</th>\n",
       "      <td>7795-CFOCW</td>\n",
       "      <td>Male</td>\n",
       "      <td>0</td>\n",
       "      <td>No</td>\n",
       "      <td>No</td>\n",
       "      <td>45</td>\n",
       "      <td>No</td>\n",
       "      <td>No phone service</td>\n",
       "      <td>DSL</td>\n",
       "      <td>Yes</td>\n",
       "      <td>...</td>\n",
       "      <td>Yes</td>\n",
       "      <td>Yes</td>\n",
       "      <td>No</td>\n",
       "      <td>No</td>\n",
       "      <td>One year</td>\n",
       "      <td>No</td>\n",
       "      <td>Bank transfer (automatic)</td>\n",
       "      <td>42.30000</td>\n",
       "      <td>1840.75</td>\n",
       "      <td>No</td>\n",
       "    </tr>\n",
       "    <tr>\n",
       "      <th>4</th>\n",
       "      <td>9237-HQITU</td>\n",
       "      <td>Female</td>\n",
       "      <td>0</td>\n",
       "      <td>No</td>\n",
       "      <td>No</td>\n",
       "      <td>2</td>\n",
       "      <td>Yes</td>\n",
       "      <td>No</td>\n",
       "      <td>Fiber optic</td>\n",
       "      <td>No</td>\n",
       "      <td>...</td>\n",
       "      <td>No</td>\n",
       "      <td>No</td>\n",
       "      <td>No</td>\n",
       "      <td>No</td>\n",
       "      <td>Month-to-month</td>\n",
       "      <td>Yes</td>\n",
       "      <td>Electronic check</td>\n",
       "      <td>70.70000</td>\n",
       "      <td>151.65</td>\n",
       "      <td>Yes</td>\n",
       "    </tr>\n",
       "  </tbody>\n",
       "</table>\n",
       "<p>5 rows × 21 columns</p>\n",
       "</div>"
      ],
      "text/plain": [
       "   customerID  gender  SeniorCitizen Partner Dependents  tenure PhoneService  \\\n",
       "0  7590-VHVEG  Female              0     Yes         No       1           No   \n",
       "1  5575-GNVDE    Male              0      No         No      34          Yes   \n",
       "2  3668-QPYBK    Male              0      No         No       2          Yes   \n",
       "3  7795-CFOCW    Male              0      No         No      45           No   \n",
       "4  9237-HQITU  Female              0      No         No       2          Yes   \n",
       "\n",
       "      MultipleLines InternetService OnlineSecurity  ... DeviceProtection  \\\n",
       "0  No phone service             DSL             No  ...               No   \n",
       "1                No             DSL            Yes  ...              Yes   \n",
       "2                No             DSL            Yes  ...               No   \n",
       "3  No phone service             DSL            Yes  ...              Yes   \n",
       "4                No     Fiber optic             No  ...               No   \n",
       "\n",
       "  TechSupport StreamingTV StreamingMovies        Contract PaperlessBilling  \\\n",
       "0          No          No              No  Month-to-month              Yes   \n",
       "1          No          No              No        One year               No   \n",
       "2          No          No              No  Month-to-month              Yes   \n",
       "3         Yes          No              No        One year               No   \n",
       "4          No          No              No  Month-to-month              Yes   \n",
       "\n",
       "               PaymentMethod MonthlyCharges  TotalCharges Churn  \n",
       "0           Electronic check       29.85000         29.85    No  \n",
       "1               Mailed check       56.95000        1889.5    No  \n",
       "2               Mailed check       53.85000        108.15   Yes  \n",
       "3  Bank transfer (automatic)       42.30000       1840.75    No  \n",
       "4           Electronic check       70.70000        151.65   Yes  \n",
       "\n",
       "[5 rows x 21 columns]"
      ]
     },
     "execution_count": 319,
     "metadata": {},
     "output_type": "execute_result"
    }
   ],
   "source": [
    "df_telco.head()"
   ]
  },
  {
   "cell_type": "markdown",
   "id": "5babda28",
   "metadata": {},
   "source": [
    "### Exploratory data analysis (EDA)"
   ]
  },
  {
   "cell_type": "code",
   "execution_count": 320,
   "id": "ac831894",
   "metadata": {},
   "outputs": [
    {
     "name": "stdout",
     "output_type": "stream",
     "text": [
      "<class 'pandas.core.frame.DataFrame'>\n",
      "RangeIndex: 7043 entries, 0 to 7042\n",
      "Data columns (total 21 columns):\n",
      " #   Column            Non-Null Count  Dtype  \n",
      "---  ------            --------------  -----  \n",
      " 0   customerID        7043 non-null   object \n",
      " 1   gender            7043 non-null   object \n",
      " 2   SeniorCitizen     7043 non-null   int64  \n",
      " 3   Partner           7043 non-null   object \n",
      " 4   Dependents        7043 non-null   object \n",
      " 5   tenure            7043 non-null   int64  \n",
      " 6   PhoneService      7043 non-null   object \n",
      " 7   MultipleLines     7043 non-null   object \n",
      " 8   InternetService   7043 non-null   object \n",
      " 9   OnlineSecurity    7043 non-null   object \n",
      " 10  OnlineBackup      7043 non-null   object \n",
      " 11  DeviceProtection  7043 non-null   object \n",
      " 12  TechSupport       7043 non-null   object \n",
      " 13  StreamingTV       7043 non-null   object \n",
      " 14  StreamingMovies   7043 non-null   object \n",
      " 15  Contract          7043 non-null   object \n",
      " 16  PaperlessBilling  7043 non-null   object \n",
      " 17  PaymentMethod     7043 non-null   object \n",
      " 18  MonthlyCharges    7043 non-null   float64\n",
      " 19  TotalCharges      7043 non-null   object \n",
      " 20  Churn             7043 non-null   object \n",
      "dtypes: float64(1), int64(2), object(18)\n",
      "memory usage: 1.1+ MB\n"
     ]
    }
   ],
   "source": [
    "df_telco.info()"
   ]
  },
  {
   "cell_type": "markdown",
   "id": "028b905d",
   "metadata": {},
   "source": [
    "* There is potentially a problem with data types. Some variables like **TotalCharges** may have integer or float data type instead of object.<br>\n",
    "* It would be useful to change all boolean values from 'Yes', 'No' to 1 and 0, respectively."
   ]
  },
  {
   "cell_type": "code",
   "execution_count": 321,
   "id": "9aa88e69",
   "metadata": {},
   "outputs": [
    {
     "data": {
      "image/png": "[encoded data removed]",
      "text/plain": [
       "<Figure size 432x288 with 1 Axes>"
      ]
     },
     "metadata": {
      "needs_background": "light"
     },
     "output_type": "display_data"
    }
   ],
   "source": [
    "df_telco['Churn'].value_counts(normalize=True).plot.bar(color='slateblue');"
   ]
  },
  {
   "cell_type": "markdown",
   "id": "4c5daffe",
   "metadata": {},
   "source": [
    "Churn rate is quite high and it is a bit low than 30%."
   ]
  },
  {
   "cell_type": "code",
   "execution_count": 322,
   "id": "36328487",
   "metadata": {},
   "outputs": [
    {
     "data": {
      "image/png": "[encoded data removed]",
      "text/plain": [
       "<Figure size 432x288 with 1 Axes>"
      ]
     },
     "metadata": {
      "needs_background": "light"
     },
     "output_type": "display_data"
    }
   ],
   "source": [
    "df_telco['gender'].value_counts(normalize=True).plot.bar(color='dodgerblue');"
   ]
  },
  {
   "cell_type": "markdown",
   "id": "a0478fad",
   "metadata": {},
   "source": [
    "We have alomost equal gender distribution in the dataset."
   ]
  },
  {
   "cell_type": "code",
   "execution_count": 323,
   "id": "354be0cc",
   "metadata": {},
   "outputs": [
    {
     "data": {
      "text/plain": [
       "0       29.85\n",
       "1      1889.5\n",
       "2      108.15\n",
       "3     1840.75\n",
       "4      151.65\n",
       "5       820.5\n",
       "6      1949.4\n",
       "7       301.9\n",
       "8     3046.05\n",
       "9     3487.95\n",
       "10     587.45\n",
       "11      326.8\n",
       "12     5681.1\n",
       "13     5036.3\n",
       "14    2686.05\n",
       "15    7895.15\n",
       "16    1022.95\n",
       "17    7382.25\n",
       "18     528.35\n",
       "19     1862.9\n",
       "Name: TotalCharges, dtype: object"
      ]
     },
     "execution_count": 323,
     "metadata": {},
     "output_type": "execute_result"
    }
   ],
   "source": [
    "df_telco['TotalCharges'][:20]"
   ]
  },
  {
   "cell_type": "markdown",
   "id": "e46d7b4d",
   "metadata": {},
   "source": [
    "It seems that **TotalCharges** should have float data type instead of object."
   ]
  },
  {
   "cell_type": "code",
   "execution_count": 324,
   "id": "5021ac69",
   "metadata": {},
   "outputs": [
    {
     "data": {
      "text/plain": [
       "          11\n",
       "20.2      11\n",
       "19.75      9\n",
       "20.05      8\n",
       "19.9       8\n",
       "          ..\n",
       "6849.4     1\n",
       "692.35     1\n",
       "130.15     1\n",
       "3211.9     1\n",
       "6844.5     1\n",
       "Name: TotalCharges, Length: 6531, dtype: int64"
      ]
     },
     "execution_count": 324,
     "metadata": {},
     "output_type": "execute_result"
    }
   ],
   "source": [
    "df_telco['TotalCharges'].value_counts()"
   ]
  },
  {
   "cell_type": "code",
   "execution_count": 325,
   "id": "7ac5542b",
   "metadata": {},
   "outputs": [],
   "source": [
    "null_total_charges = df_telco[df_telco['TotalCharges'] == ' ']"
   ]
  },
  {
   "cell_type": "code",
   "execution_count": 326,
   "id": "802fd217",
   "metadata": {},
   "outputs": [
    {
     "data": {
      "text/html": [
       "<div>\n",
       "<style scoped>\n",
       "    .dataframe tbody tr th:only-of-type {\n",
       "        vertical-align: middle;\n",
       "    }\n",
       "\n",
       "    .dataframe tbody tr th {\n",
       "        vertical-align: top;\n",
       "    }\n",
       "\n",
       "    .dataframe thead th {\n",
       "        text-align: right;\n",
       "    }\n",
       "</style>\n",
       "<table border=\"1\" class=\"dataframe\">\n",
       "  <thead>\n",
       "    <tr style=\"text-align: right;\">\n",
       "      <th></th>\n",
       "      <th>customerID</th>\n",
       "      <th>gender</th>\n",
       "      <th>SeniorCitizen</th>\n",
       "      <th>Partner</th>\n",
       "      <th>Dependents</th>\n",
       "      <th>tenure</th>\n",
       "      <th>PhoneService</th>\n",
       "      <th>MultipleLines</th>\n",
       "      <th>InternetService</th>\n",
       "      <th>OnlineSecurity</th>\n",
       "      <th>...</th>\n",
       "      <th>DeviceProtection</th>\n",
       "      <th>TechSupport</th>\n",
       "      <th>StreamingTV</th>\n",
       "      <th>StreamingMovies</th>\n",
       "      <th>Contract</th>\n",
       "      <th>PaperlessBilling</th>\n",
       "      <th>PaymentMethod</th>\n",
       "      <th>MonthlyCharges</th>\n",
       "      <th>TotalCharges</th>\n",
       "      <th>Churn</th>\n",
       "    </tr>\n",
       "  </thead>\n",
       "  <tbody>\n",
       "    <tr>\n",
       "      <th>488</th>\n",
       "      <td>4472-LVYGI</td>\n",
       "      <td>Female</td>\n",
       "      <td>0</td>\n",
       "      <td>Yes</td>\n",
       "      <td>Yes</td>\n",
       "      <td>0</td>\n",
       "      <td>No</td>\n",
       "      <td>No phone service</td>\n",
       "      <td>DSL</td>\n",
       "      <td>Yes</td>\n",
       "      <td>...</td>\n",
       "      <td>Yes</td>\n",
       "      <td>Yes</td>\n",
       "      <td>Yes</td>\n",
       "      <td>No</td>\n",
       "      <td>Two year</td>\n",
       "      <td>Yes</td>\n",
       "      <td>Bank transfer (automatic)</td>\n",
       "      <td>52.55000</td>\n",
       "      <td></td>\n",
       "      <td>No</td>\n",
       "    </tr>\n",
       "    <tr>\n",
       "      <th>753</th>\n",
       "      <td>3115-CZMZD</td>\n",
       "      <td>Male</td>\n",
       "      <td>0</td>\n",
       "      <td>No</td>\n",
       "      <td>Yes</td>\n",
       "      <td>0</td>\n",
       "      <td>Yes</td>\n",
       "      <td>No</td>\n",
       "      <td>No</td>\n",
       "      <td>No internet service</td>\n",
       "      <td>...</td>\n",
       "      <td>No internet service</td>\n",
       "      <td>No internet service</td>\n",
       "      <td>No internet service</td>\n",
       "      <td>No internet service</td>\n",
       "      <td>Two year</td>\n",
       "      <td>No</td>\n",
       "      <td>Mailed check</td>\n",
       "      <td>20.25000</td>\n",
       "      <td></td>\n",
       "      <td>No</td>\n",
       "    </tr>\n",
       "    <tr>\n",
       "      <th>936</th>\n",
       "      <td>5709-LVOEQ</td>\n",
       "      <td>Female</td>\n",
       "      <td>0</td>\n",
       "      <td>Yes</td>\n",
       "      <td>Yes</td>\n",
       "      <td>0</td>\n",
       "      <td>Yes</td>\n",
       "      <td>No</td>\n",
       "      <td>DSL</td>\n",
       "      <td>Yes</td>\n",
       "      <td>...</td>\n",
       "      <td>Yes</td>\n",
       "      <td>No</td>\n",
       "      <td>Yes</td>\n",
       "      <td>Yes</td>\n",
       "      <td>Two year</td>\n",
       "      <td>No</td>\n",
       "      <td>Mailed check</td>\n",
       "      <td>80.85000</td>\n",
       "      <td></td>\n",
       "      <td>No</td>\n",
       "    </tr>\n",
       "    <tr>\n",
       "      <th>1082</th>\n",
       "      <td>4367-NUYAO</td>\n",
       "      <td>Male</td>\n",
       "      <td>0</td>\n",
       "      <td>Yes</td>\n",
       "      <td>Yes</td>\n",
       "      <td>0</td>\n",
       "      <td>Yes</td>\n",
       "      <td>Yes</td>\n",
       "      <td>No</td>\n",
       "      <td>No internet service</td>\n",
       "      <td>...</td>\n",
       "      <td>No internet service</td>\n",
       "      <td>No internet service</td>\n",
       "      <td>No internet service</td>\n",
       "      <td>No internet service</td>\n",
       "      <td>Two year</td>\n",
       "      <td>No</td>\n",
       "      <td>Mailed check</td>\n",
       "      <td>25.75000</td>\n",
       "      <td></td>\n",
       "      <td>No</td>\n",
       "    </tr>\n",
       "    <tr>\n",
       "      <th>1340</th>\n",
       "      <td>1371-DWPAZ</td>\n",
       "      <td>Female</td>\n",
       "      <td>0</td>\n",
       "      <td>Yes</td>\n",
       "      <td>Yes</td>\n",
       "      <td>0</td>\n",
       "      <td>No</td>\n",
       "      <td>No phone service</td>\n",
       "      <td>DSL</td>\n",
       "      <td>Yes</td>\n",
       "      <td>...</td>\n",
       "      <td>Yes</td>\n",
       "      <td>Yes</td>\n",
       "      <td>Yes</td>\n",
       "      <td>No</td>\n",
       "      <td>Two year</td>\n",
       "      <td>No</td>\n",
       "      <td>Credit card (automatic)</td>\n",
       "      <td>56.05000</td>\n",
       "      <td></td>\n",
       "      <td>No</td>\n",
       "    </tr>\n",
       "  </tbody>\n",
       "</table>\n",
       "<p>5 rows × 21 columns</p>\n",
       "</div>"
      ],
      "text/plain": [
       "      customerID  gender  SeniorCitizen Partner Dependents  tenure  \\\n",
       "488   4472-LVYGI  Female              0     Yes        Yes       0   \n",
       "753   3115-CZMZD    Male              0      No        Yes       0   \n",
       "936   5709-LVOEQ  Female              0     Yes        Yes       0   \n",
       "1082  4367-NUYAO    Male              0     Yes        Yes       0   \n",
       "1340  1371-DWPAZ  Female              0     Yes        Yes       0   \n",
       "\n",
       "     PhoneService     MultipleLines InternetService       OnlineSecurity  ...  \\\n",
       "488            No  No phone service             DSL                  Yes  ...   \n",
       "753           Yes                No              No  No internet service  ...   \n",
       "936           Yes                No             DSL                  Yes  ...   \n",
       "1082          Yes               Yes              No  No internet service  ...   \n",
       "1340           No  No phone service             DSL                  Yes  ...   \n",
       "\n",
       "         DeviceProtection          TechSupport          StreamingTV  \\\n",
       "488                   Yes                  Yes                  Yes   \n",
       "753   No internet service  No internet service  No internet service   \n",
       "936                   Yes                   No                  Yes   \n",
       "1082  No internet service  No internet service  No internet service   \n",
       "1340                  Yes                  Yes                  Yes   \n",
       "\n",
       "          StreamingMovies  Contract PaperlessBilling  \\\n",
       "488                    No  Two year              Yes   \n",
       "753   No internet service  Two year               No   \n",
       "936                   Yes  Two year               No   \n",
       "1082  No internet service  Two year               No   \n",
       "1340                   No  Two year               No   \n",
       "\n",
       "                  PaymentMethod MonthlyCharges  TotalCharges Churn  \n",
       "488   Bank transfer (automatic)       52.55000                  No  \n",
       "753                Mailed check       20.25000                  No  \n",
       "936                Mailed check       80.85000                  No  \n",
       "1082               Mailed check       25.75000                  No  \n",
       "1340    Credit card (automatic)       56.05000                  No  \n",
       "\n",
       "[5 rows x 21 columns]"
      ]
     },
     "execution_count": 326,
     "metadata": {},
     "output_type": "execute_result"
    }
   ],
   "source": [
    "null_total_charges.head()"
   ]
  },
  {
   "cell_type": "code",
   "execution_count": 327,
   "id": "a12d01bf",
   "metadata": {},
   "outputs": [
    {
     "data": {
      "text/plain": [
       "(11, 21)"
      ]
     },
     "execution_count": 327,
     "metadata": {},
     "output_type": "execute_result"
    }
   ],
   "source": [
    "null_total_charges.shape"
   ]
  },
  {
   "cell_type": "markdown",
   "id": "a1f4f35f",
   "metadata": {},
   "source": [
    "There are 11 rows with empty records for **Total Charges**. Let us replace the records with null values."
   ]
  },
  {
   "cell_type": "markdown",
   "id": "ad4cc384",
   "metadata": {},
   "source": [
    "### Data cleaning and transformation"
   ]
  },
  {
   "cell_type": "markdown",
   "id": "1ba241c9",
   "metadata": {},
   "source": [
    "### 1. Target variable encoding\n",
    "\n",
    "Let us replace yes and no by 1 and 0, respectively."
   ]
  },
  {
   "cell_type": "code",
   "execution_count": 328,
   "id": "b77e695d",
   "metadata": {},
   "outputs": [],
   "source": [
    "# Target variable encoding\n",
    "df_telco['Churn'] = df_telco['Churn'].apply(lambda x: 1 if x == 'Yes' else 0)"
   ]
  },
  {
   "cell_type": "code",
   "execution_count": 329,
   "id": "198baca0",
   "metadata": {},
   "outputs": [
    {
     "data": {
      "text/plain": [
       "0    5174\n",
       "1    1869\n",
       "Name: Churn, dtype: int64"
      ]
     },
     "execution_count": 329,
     "metadata": {},
     "output_type": "execute_result"
    }
   ],
   "source": [
    "# Let us check the replacement\n",
    "df_telco['Churn'].value_counts()"
   ]
  },
  {
   "cell_type": "code",
   "execution_count": 330,
   "id": "8bdd8c5f",
   "metadata": {},
   "outputs": [
    {
     "name": "stdout",
     "output_type": "stream",
     "text": [
      "Churn rate:  26.536987079369588\n"
     ]
    }
   ],
   "source": [
    "print(\"Churn rate: \", df_telco[df_telco['Churn'] == 1].shape[0] * 100 / df_telco.shape[0])"
   ]
  },
  {
   "cell_type": "markdown",
   "id": "34a04b95",
   "metadata": {},
   "source": [
    "### 2. Handle missing values and change the data type for TotalCharges"
   ]
  },
  {
   "cell_type": "code",
   "execution_count": 331,
   "id": "e3b2e1d2",
   "metadata": {},
   "outputs": [],
   "source": [
    "# Handle missing values and change the data type for TotalCharges\n",
    "df_telco['TotalCharges'] = df_telco['TotalCharges'].replace(' ', np.nan).astype(float)"
   ]
  },
  {
   "cell_type": "code",
   "execution_count": 332,
   "id": "14079f87",
   "metadata": {},
   "outputs": [
    {
     "data": {
      "text/plain": [
       "count   7032.00000\n",
       "mean    2283.30044\n",
       "std     2266.77136\n",
       "min       18.80000\n",
       "25%      401.45000\n",
       "50%     1397.47500\n",
       "75%     3794.73750\n",
       "max     8684.80000\n",
       "Name: TotalCharges, dtype: float64"
      ]
     },
     "execution_count": 332,
     "metadata": {},
     "output_type": "execute_result"
    }
   ],
   "source": [
    "df_telco['TotalCharges'].describe()"
   ]
  },
  {
   "cell_type": "markdown",
   "id": "4595d054",
   "metadata": {},
   "source": [
    "### 3. Drop Null values"
   ]
  },
  {
   "cell_type": "code",
   "execution_count": 333,
   "id": "b2053181",
   "metadata": {},
   "outputs": [],
   "source": [
    "# Drop Null values\n",
    "df_telco.dropna(inplace=True)"
   ]
  },
  {
   "cell_type": "code",
   "execution_count": 334,
   "id": "247bb961",
   "metadata": {},
   "outputs": [
    {
     "data": {
      "text/plain": [
       "0"
      ]
     },
     "execution_count": 334,
     "metadata": {},
     "output_type": "execute_result"
    }
   ],
   "source": [
    "# Check null values\n",
    "df_telco.isnull().sum().sum()"
   ]
  },
  {
   "cell_type": "code",
   "execution_count": 335,
   "id": "50ce03ec",
   "metadata": {},
   "outputs": [],
   "source": [
    "df_telco.reset_index(inplace=True)"
   ]
  },
  {
   "cell_type": "code",
   "execution_count": 336,
   "id": "c416350a",
   "metadata": {},
   "outputs": [],
   "source": [
    "df_telco.drop(columns=['index'], inplace=True)"
   ]
  },
  {
   "cell_type": "code",
   "execution_count": 337,
   "id": "675a4a46",
   "metadata": {},
   "outputs": [
    {
     "data": {
      "text/html": [
       "<div>\n",
       "<style scoped>\n",
       "    .dataframe tbody tr th:only-of-type {\n",
       "        vertical-align: middle;\n",
       "    }\n",
       "\n",
       "    .dataframe tbody tr th {\n",
       "        vertical-align: top;\n",
       "    }\n",
       "\n",
       "    .dataframe thead th {\n",
       "        text-align: right;\n",
       "    }\n",
       "</style>\n",
       "<table border=\"1\" class=\"dataframe\">\n",
       "  <thead>\n",
       "    <tr style=\"text-align: right;\">\n",
       "      <th></th>\n",
       "      <th>customerID</th>\n",
       "      <th>gender</th>\n",
       "      <th>SeniorCitizen</th>\n",
       "      <th>Partner</th>\n",
       "      <th>Dependents</th>\n",
       "      <th>tenure</th>\n",
       "      <th>PhoneService</th>\n",
       "      <th>MultipleLines</th>\n",
       "      <th>InternetService</th>\n",
       "      <th>OnlineSecurity</th>\n",
       "      <th>...</th>\n",
       "      <th>DeviceProtection</th>\n",
       "      <th>TechSupport</th>\n",
       "      <th>StreamingTV</th>\n",
       "      <th>StreamingMovies</th>\n",
       "      <th>Contract</th>\n",
       "      <th>PaperlessBilling</th>\n",
       "      <th>PaymentMethod</th>\n",
       "      <th>MonthlyCharges</th>\n",
       "      <th>TotalCharges</th>\n",
       "      <th>Churn</th>\n",
       "    </tr>\n",
       "  </thead>\n",
       "  <tbody>\n",
       "    <tr>\n",
       "      <th>0</th>\n",
       "      <td>7590-VHVEG</td>\n",
       "      <td>Female</td>\n",
       "      <td>0</td>\n",
       "      <td>Yes</td>\n",
       "      <td>No</td>\n",
       "      <td>1</td>\n",
       "      <td>No</td>\n",
       "      <td>No phone service</td>\n",
       "      <td>DSL</td>\n",
       "      <td>No</td>\n",
       "      <td>...</td>\n",
       "      <td>No</td>\n",
       "      <td>No</td>\n",
       "      <td>No</td>\n",
       "      <td>No</td>\n",
       "      <td>Month-to-month</td>\n",
       "      <td>Yes</td>\n",
       "      <td>Electronic check</td>\n",
       "      <td>29.85000</td>\n",
       "      <td>29.85000</td>\n",
       "      <td>0</td>\n",
       "    </tr>\n",
       "    <tr>\n",
       "      <th>1</th>\n",
       "      <td>5575-GNVDE</td>\n",
       "      <td>Male</td>\n",
       "      <td>0</td>\n",
       "      <td>No</td>\n",
       "      <td>No</td>\n",
       "      <td>34</td>\n",
       "      <td>Yes</td>\n",
       "      <td>No</td>\n",
       "      <td>DSL</td>\n",
       "      <td>Yes</td>\n",
       "      <td>...</td>\n",
       "      <td>Yes</td>\n",
       "      <td>No</td>\n",
       "      <td>No</td>\n",
       "      <td>No</td>\n",
       "      <td>One year</td>\n",
       "      <td>No</td>\n",
       "      <td>Mailed check</td>\n",
       "      <td>56.95000</td>\n",
       "      <td>1889.50000</td>\n",
       "      <td>0</td>\n",
       "    </tr>\n",
       "    <tr>\n",
       "      <th>2</th>\n",
       "      <td>3668-QPYBK</td>\n",
       "      <td>Male</td>\n",
       "      <td>0</td>\n",
       "      <td>No</td>\n",
       "      <td>No</td>\n",
       "      <td>2</td>\n",
       "      <td>Yes</td>\n",
       "      <td>No</td>\n",
       "      <td>DSL</td>\n",
       "      <td>Yes</td>\n",
       "      <td>...</td>\n",
       "      <td>No</td>\n",
       "      <td>No</td>\n",
       "      <td>No</td>\n",
       "      <td>No</td>\n",
       "      <td>Month-to-month</td>\n",
       "      <td>Yes</td>\n",
       "      <td>Mailed check</td>\n",
       "      <td>53.85000</td>\n",
       "      <td>108.15000</td>\n",
       "      <td>1</td>\n",
       "    </tr>\n",
       "  </tbody>\n",
       "</table>\n",
       "<p>3 rows × 21 columns</p>\n",
       "</div>"
      ],
      "text/plain": [
       "   customerID  gender  SeniorCitizen Partner Dependents  tenure PhoneService  \\\n",
       "0  7590-VHVEG  Female              0     Yes         No       1           No   \n",
       "1  5575-GNVDE    Male              0      No         No      34          Yes   \n",
       "2  3668-QPYBK    Male              0      No         No       2          Yes   \n",
       "\n",
       "      MultipleLines InternetService OnlineSecurity  ... DeviceProtection  \\\n",
       "0  No phone service             DSL             No  ...               No   \n",
       "1                No             DSL            Yes  ...              Yes   \n",
       "2                No             DSL            Yes  ...               No   \n",
       "\n",
       "  TechSupport StreamingTV StreamingMovies        Contract PaperlessBilling  \\\n",
       "0          No          No              No  Month-to-month              Yes   \n",
       "1          No          No              No        One year               No   \n",
       "2          No          No              No  Month-to-month              Yes   \n",
       "\n",
       "      PaymentMethod MonthlyCharges  TotalCharges  Churn  \n",
       "0  Electronic check       29.85000      29.85000      0  \n",
       "1      Mailed check       56.95000    1889.50000      0  \n",
       "2      Mailed check       53.85000     108.15000      1  \n",
       "\n",
       "[3 rows x 21 columns]"
      ]
     },
     "execution_count": 337,
     "metadata": {},
     "output_type": "execute_result"
    }
   ],
   "source": [
    "df_telco.head(3)"
   ]
  },
  {
   "cell_type": "code",
   "execution_count": 338,
   "id": "cb8a8ac4",
   "metadata": {},
   "outputs": [
    {
     "name": "stdout",
     "output_type": "stream",
     "text": [
      "<class 'pandas.core.frame.DataFrame'>\n",
      "RangeIndex: 7032 entries, 0 to 7031\n",
      "Data columns (total 21 columns):\n",
      " #   Column            Non-Null Count  Dtype  \n",
      "---  ------            --------------  -----  \n",
      " 0   customerID        7032 non-null   object \n",
      " 1   gender            7032 non-null   object \n",
      " 2   SeniorCitizen     7032 non-null   int64  \n",
      " 3   Partner           7032 non-null   object \n",
      " 4   Dependents        7032 non-null   object \n",
      " 5   tenure            7032 non-null   int64  \n",
      " 6   PhoneService      7032 non-null   object \n",
      " 7   MultipleLines     7032 non-null   object \n",
      " 8   InternetService   7032 non-null   object \n",
      " 9   OnlineSecurity    7032 non-null   object \n",
      " 10  OnlineBackup      7032 non-null   object \n",
      " 11  DeviceProtection  7032 non-null   object \n",
      " 12  TechSupport       7032 non-null   object \n",
      " 13  StreamingTV       7032 non-null   object \n",
      " 14  StreamingMovies   7032 non-null   object \n",
      " 15  Contract          7032 non-null   object \n",
      " 16  PaperlessBilling  7032 non-null   object \n",
      " 17  PaymentMethod     7032 non-null   object \n",
      " 18  MonthlyCharges    7032 non-null   float64\n",
      " 19  TotalCharges      7032 non-null   float64\n",
      " 20  Churn             7032 non-null   int64  \n",
      "dtypes: float64(2), int64(3), object(16)\n",
      "memory usage: 1.1+ MB\n"
     ]
    }
   ],
   "source": [
    "df_telco.info()"
   ]
  },
  {
   "cell_type": "markdown",
   "id": "6e26a1dd",
   "metadata": {},
   "source": [
    "### 4. Transform continuous variables"
   ]
  },
  {
   "cell_type": "code",
   "execution_count": 339,
   "id": "b78c939c",
   "metadata": {},
   "outputs": [
    {
     "data": {
      "text/html": [
       "<div>\n",
       "<style scoped>\n",
       "    .dataframe tbody tr th:only-of-type {\n",
       "        vertical-align: middle;\n",
       "    }\n",
       "\n",
       "    .dataframe tbody tr th {\n",
       "        vertical-align: top;\n",
       "    }\n",
       "\n",
       "    .dataframe thead th {\n",
       "        text-align: right;\n",
       "    }\n",
       "</style>\n",
       "<table border=\"1\" class=\"dataframe\">\n",
       "  <thead>\n",
       "    <tr style=\"text-align: right;\">\n",
       "      <th></th>\n",
       "      <th>tenure</th>\n",
       "      <th>MonthlyCharges</th>\n",
       "      <th>TotalCharges</th>\n",
       "    </tr>\n",
       "  </thead>\n",
       "  <tbody>\n",
       "    <tr>\n",
       "      <th>count</th>\n",
       "      <td>7032.00000</td>\n",
       "      <td>7032.00000</td>\n",
       "      <td>7032.00000</td>\n",
       "    </tr>\n",
       "    <tr>\n",
       "      <th>mean</th>\n",
       "      <td>32.42179</td>\n",
       "      <td>64.79821</td>\n",
       "      <td>2283.30044</td>\n",
       "    </tr>\n",
       "    <tr>\n",
       "      <th>std</th>\n",
       "      <td>24.54526</td>\n",
       "      <td>30.08597</td>\n",
       "      <td>2266.77136</td>\n",
       "    </tr>\n",
       "    <tr>\n",
       "      <th>min</th>\n",
       "      <td>1.00000</td>\n",
       "      <td>18.25000</td>\n",
       "      <td>18.80000</td>\n",
       "    </tr>\n",
       "    <tr>\n",
       "      <th>25%</th>\n",
       "      <td>9.00000</td>\n",
       "      <td>35.58750</td>\n",
       "      <td>401.45000</td>\n",
       "    </tr>\n",
       "    <tr>\n",
       "      <th>50%</th>\n",
       "      <td>29.00000</td>\n",
       "      <td>70.35000</td>\n",
       "      <td>1397.47500</td>\n",
       "    </tr>\n",
       "    <tr>\n",
       "      <th>75%</th>\n",
       "      <td>55.00000</td>\n",
       "      <td>89.86250</td>\n",
       "      <td>3794.73750</td>\n",
       "    </tr>\n",
       "    <tr>\n",
       "      <th>max</th>\n",
       "      <td>72.00000</td>\n",
       "      <td>118.75000</td>\n",
       "      <td>8684.80000</td>\n",
       "    </tr>\n",
       "  </tbody>\n",
       "</table>\n",
       "</div>"
      ],
      "text/plain": [
       "          tenure  MonthlyCharges  TotalCharges\n",
       "count 7032.00000      7032.00000    7032.00000\n",
       "mean    32.42179        64.79821    2283.30044\n",
       "std     24.54526        30.08597    2266.77136\n",
       "min      1.00000        18.25000      18.80000\n",
       "25%      9.00000        35.58750     401.45000\n",
       "50%     29.00000        70.35000    1397.47500\n",
       "75%     55.00000        89.86250    3794.73750\n",
       "max     72.00000       118.75000    8684.80000"
      ]
     },
     "execution_count": 339,
     "metadata": {},
     "output_type": "execute_result"
    }
   ],
   "source": [
    "df_telco[['tenure', 'MonthlyCharges', 'TotalCharges']].describe()"
   ]
  },
  {
   "cell_type": "markdown",
   "id": "92efa01c",
   "metadata": {},
   "source": [
    "As you can see from the summary statistics, the variables are on completely different scales. **tenure** variable ranges from 1 to 72, while **TotalCharges** range from 18.8 to 8,684.8. ANN models typically perform better with scaled or normalized features. Let us normalize the features before training the model."
   ]
  },
  {
   "cell_type": "code",
   "execution_count": 340,
   "id": "ee81bd9e",
   "metadata": {},
   "outputs": [],
   "source": [
    "# Transform continuous variables¶\n",
    "df_telco['MonthlyCharges'] = np.log(df_telco['MonthlyCharges'])\n",
    "df_telco['MonthlyCharges'] = (df_telco['MonthlyCharges'] - df_telco['MonthlyCharges'].mean()) / df_telco['MonthlyCharges'].std()\n",
    "\n",
    "df_telco['TotalCharges'] = np.log(df_telco['TotalCharges'])\n",
    "df_telco['TotalCharges'] = (df_telco['TotalCharges'] - df_telco['TotalCharges'].mean()) / df_telco['TotalCharges'].std()\n",
    "\n",
    "df_telco['tenure'] = (df_telco['tenure'] - df_telco['tenure'].mean()) / df_telco['tenure'].std()"
   ]
  },
  {
   "cell_type": "code",
   "execution_count": 341,
   "id": "86148200",
   "metadata": {},
   "outputs": [],
   "source": [
    "pd.options.display.float_format = \"{:.5f}\".format"
   ]
  },
  {
   "cell_type": "markdown",
   "id": "41fcdcef",
   "metadata": {},
   "source": [
    "After normalizing data, we got the following results for continuous variables."
   ]
  },
  {
   "cell_type": "code",
   "execution_count": 342,
   "id": "7ae6c8be",
   "metadata": {},
   "outputs": [
    {
     "data": {
      "text/html": [
       "<div>\n",
       "<style scoped>\n",
       "    .dataframe tbody tr th:only-of-type {\n",
       "        vertical-align: middle;\n",
       "    }\n",
       "\n",
       "    .dataframe tbody tr th {\n",
       "        vertical-align: top;\n",
       "    }\n",
       "\n",
       "    .dataframe thead th {\n",
       "        text-align: right;\n",
       "    }\n",
       "</style>\n",
       "<table border=\"1\" class=\"dataframe\">\n",
       "  <thead>\n",
       "    <tr style=\"text-align: right;\">\n",
       "      <th></th>\n",
       "      <th>tenure</th>\n",
       "      <th>MonthlyCharges</th>\n",
       "      <th>TotalCharges</th>\n",
       "    </tr>\n",
       "  </thead>\n",
       "  <tbody>\n",
       "    <tr>\n",
       "      <th>count</th>\n",
       "      <td>7032.00000</td>\n",
       "      <td>7032.00000</td>\n",
       "      <td>7032.00000</td>\n",
       "    </tr>\n",
       "    <tr>\n",
       "      <th>mean</th>\n",
       "      <td>-0.00000</td>\n",
       "      <td>0.00000</td>\n",
       "      <td>0.00000</td>\n",
       "    </tr>\n",
       "    <tr>\n",
       "      <th>std</th>\n",
       "      <td>1.00000</td>\n",
       "      <td>1.00000</td>\n",
       "      <td>1.00000</td>\n",
       "    </tr>\n",
       "    <tr>\n",
       "      <th>min</th>\n",
       "      <td>-1.28016</td>\n",
       "      <td>-1.88227</td>\n",
       "      <td>-2.57906</td>\n",
       "    </tr>\n",
       "    <tr>\n",
       "      <th>25%</th>\n",
       "      <td>-0.95423</td>\n",
       "      <td>-0.75837</td>\n",
       "      <td>-0.60806</td>\n",
       "    </tr>\n",
       "    <tr>\n",
       "      <th>50%</th>\n",
       "      <td>-0.13941</td>\n",
       "      <td>0.38851</td>\n",
       "      <td>0.19505</td>\n",
       "    </tr>\n",
       "    <tr>\n",
       "      <th>75%</th>\n",
       "      <td>0.91986</td>\n",
       "      <td>0.80048</td>\n",
       "      <td>0.83823</td>\n",
       "    </tr>\n",
       "    <tr>\n",
       "      <th>max</th>\n",
       "      <td>1.61246</td>\n",
       "      <td>1.26958</td>\n",
       "      <td>1.37132</td>\n",
       "    </tr>\n",
       "  </tbody>\n",
       "</table>\n",
       "</div>"
      ],
      "text/plain": [
       "          tenure  MonthlyCharges  TotalCharges\n",
       "count 7032.00000      7032.00000    7032.00000\n",
       "mean    -0.00000         0.00000       0.00000\n",
       "std      1.00000         1.00000       1.00000\n",
       "min     -1.28016        -1.88227      -2.57906\n",
       "25%     -0.95423        -0.75837      -0.60806\n",
       "50%     -0.13941         0.38851       0.19505\n",
       "75%      0.91986         0.80048       0.83823\n",
       "max      1.61246         1.26958       1.37132"
      ]
     },
     "execution_count": 342,
     "metadata": {},
     "output_type": "execute_result"
    }
   ],
   "source": [
    "df_telco[['tenure', 'MonthlyCharges', 'TotalCharges']].describe()"
   ]
  },
  {
   "cell_type": "markdown",
   "id": "a70126df",
   "metadata": {},
   "source": [
    "As you can see from the summary statistics, all the variables have a mean of 0 and a standard deviation of 1."
   ]
  },
  {
   "cell_type": "markdown",
   "id": "bc2e9269",
   "metadata": {},
   "source": [
    "### 5. One-hot encoding of categorical variables"
   ]
  },
  {
   "cell_type": "markdown",
   "id": "57b59a3d",
   "metadata": {},
   "source": [
    "First of all, let us have a look at the number of unique values in each column."
   ]
  },
  {
   "cell_type": "code",
   "execution_count": 343,
   "id": "2652349d",
   "metadata": {},
   "outputs": [
    {
     "name": "stdout",
     "output_type": "stream",
     "text": [
      "customerID 7032\n",
      "gender 2\n",
      "SeniorCitizen 2\n",
      "Partner 2\n",
      "Dependents 2\n",
      "tenure 72\n",
      "PhoneService 2\n",
      "MultipleLines 3\n",
      "InternetService 3\n",
      "OnlineSecurity 3\n",
      "OnlineBackup 3\n",
      "DeviceProtection 3\n",
      "TechSupport 3\n",
      "StreamingTV 3\n",
      "StreamingMovies 3\n",
      "Contract 3\n",
      "PaperlessBilling 2\n",
      "PaymentMethod 4\n",
      "MonthlyCharges 1584\n",
      "TotalCharges 6530\n",
      "Churn 2\n"
     ]
    }
   ],
   "source": [
    "for column in list(df_telco.columns):\n",
    "    print(column, df_telco[column].nunique())"
   ]
  },
  {
   "cell_type": "markdown",
   "id": "3f3e55b7",
   "metadata": {},
   "source": [
    "We have already handled the **tenure, MonthlyCharges, TotalCharges** columns. Let us focus on on those variables with 2 to 4 unique variables.\n",
    "\n",
    "I'll start from taking a look at the distribution for some of the categorical variables."
   ]
  },
  {
   "cell_type": "code",
   "execution_count": 344,
   "id": "1b149907",
   "metadata": {},
   "outputs": [
    {
     "data": {
      "image/png": "[encoded data removed]",
      "text/plain": [
       "<Figure size 432x288 with 1 Axes>"
      ]
     },
     "metadata": {
      "needs_background": "light"
     },
     "output_type": "display_data"
    }
   ],
   "source": [
    "df_telco.groupby('gender').count()['customerID'].plot(kind='bar',\n",
    "                                                color='dodgerblue',\n",
    "                                                grid=False,\n",
    "                                                figsize=(6,4),\n",
    "                                                title='Gender distribution');"
   ]
  },
  {
   "cell_type": "code",
   "execution_count": 345,
   "id": "6057f8c5",
   "metadata": {},
   "outputs": [
    {
     "data": {
      "image/png": "[encoded data removed]",
      "text/plain": [
       "<Figure size 432x288 with 1 Axes>"
      ]
     },
     "metadata": {
      "needs_background": "light"
     },
     "output_type": "display_data"
    }
   ],
   "source": [
    "df_telco.groupby('InternetService').count()['customerID'].plot(kind='bar',\n",
    "                                                         color='sandybrown',\n",
    "                                                         grid=False,\n",
    "                                                         figsize=(6,4),\n",
    "                                                         title='Distribution for Internet Service');"
   ]
  },
  {
   "cell_type": "code",
   "execution_count": 346,
   "id": "f594ff68",
   "metadata": {},
   "outputs": [
    {
     "data": {
      "image/png": "[encoded data removed]",
      "text/plain": [
       "<Figure size 432x288 with 1 Axes>"
      ]
     },
     "metadata": {
      "needs_background": "light"
     },
     "output_type": "display_data"
    }
   ],
   "source": [
    "df_telco.groupby('PaymentMethod').count()['customerID'].plot(kind='bar',\n",
    "                                                       color='limegreen',\n",
    "                                                       grid=False,\n",
    "                                                       figsize=(6,4),\n",
    "                                                       title='Distribution for Payment Method');"
   ]
  },
  {
   "cell_type": "code",
   "execution_count": 347,
   "id": "bf5184b7",
   "metadata": {},
   "outputs": [
    {
     "data": {
      "image/png": "[encoded data removed]",
      "text/plain": [
       "<Figure size 432x288 with 1 Axes>"
      ]
     },
     "metadata": {
      "needs_background": "light"
     },
     "output_type": "display_data"
    }
   ],
   "source": [
    "df_telco.groupby('SeniorCitizen').count()['customerID'].plot(kind='bar',\n",
    "                                                       color='lightpink',\n",
    "                                                       grid=False,\n",
    "                                                       figsize=(6,4),\n",
    "                                                       title='Distribution for Senior Citizen');"
   ]
  },
  {
   "cell_type": "code",
   "execution_count": 348,
   "id": "bb294b31",
   "metadata": {},
   "outputs": [
    {
     "data": {
      "image/png": "[encoded data removed]",
      "text/plain": [
       "<Figure size 432x288 with 1 Axes>"
      ]
     },
     "metadata": {
      "needs_background": "light"
     },
     "output_type": "display_data"
    }
   ],
   "source": [
    "df_telco.groupby('Partner').count()['customerID'].plot(kind='bar',\n",
    "                                                  color='orange',\n",
    "                                                  grid=False,\n",
    "                                                  figsize=(6,4),\n",
    "                                                  title='Distribution for Partner');"
   ]
  },
  {
   "cell_type": "markdown",
   "id": "5148e5d7",
   "metadata": {},
   "source": [
    "Let us apply one-hot encoding to transform the catgorical variables."
   ]
  },
  {
   "cell_type": "code",
   "execution_count": 349,
   "id": "bab6defc",
   "metadata": {},
   "outputs": [
    {
     "name": "stderr",
     "output_type": "stream",
     "text": [
      "C:\\Users\\kalha\\anaconda3\\lib\\site-packages\\pandas\\core\\indexing.py:1732: SettingWithCopyWarning: \n",
      "A value is trying to be set on a copy of a slice from a DataFrame\n",
      "\n",
      "See the caveats in the documentation: https://pandas.pydata.org/pandas-docs/stable/user_guide/indexing.html#returning-a-view-versus-a-copy\n",
      "  self._setitem_single_block(indexer, value, name)\n"
     ]
    }
   ],
   "source": [
    "# Converting boolean variables to a format for further use\n",
    "df_telco['SeniorCitizen'].loc[df_telco.SeniorCitizen == 1] = 'Yes'\n",
    "df_telco['SeniorCitizen'].loc[df_telco.SeniorCitizen == 0] = 'No'"
   ]
  },
  {
   "cell_type": "code",
   "execution_count": 350,
   "id": "fd17936e",
   "metadata": {},
   "outputs": [],
   "source": [
    "# One-hot encoding of categorical variables\n",
    "df_telco_trans = df_telco[['tenure',\n",
    "               'MonthlyCharges',\n",
    "               'TotalCharges',\n",
    "               'Churn']].copy(deep=True)\n",
    "\n",
    "for col in list(df_telco.columns):\n",
    "    if col not in ['tenure',\n",
    "                   'MonthlyCharges',\n",
    "                   'TotalCharges',\n",
    "                   'Churn'] and df_telco[col].nunique() < 5:\n",
    "        dummy_vars = pd.get_dummies(df_telco[col])\n",
    "        dummy_vars.columns = [col+ '_' + str(x) for x in dummy_vars.columns]        \n",
    "        df_telco_trans = pd.concat([df_telco_trans, dummy_vars], axis=1)"
   ]
  },
  {
   "cell_type": "code",
   "execution_count": 351,
   "id": "a9083986",
   "metadata": {},
   "outputs": [
    {
     "data": {
      "text/html": [
       "<div>\n",
       "<style scoped>\n",
       "    .dataframe tbody tr th:only-of-type {\n",
       "        vertical-align: middle;\n",
       "    }\n",
       "\n",
       "    .dataframe tbody tr th {\n",
       "        vertical-align: top;\n",
       "    }\n",
       "\n",
       "    .dataframe thead th {\n",
       "        text-align: right;\n",
       "    }\n",
       "</style>\n",
       "<table border=\"1\" class=\"dataframe\">\n",
       "  <thead>\n",
       "    <tr style=\"text-align: right;\">\n",
       "      <th></th>\n",
       "      <th>tenure</th>\n",
       "      <th>MonthlyCharges</th>\n",
       "      <th>TotalCharges</th>\n",
       "      <th>Churn</th>\n",
       "      <th>gender_Female</th>\n",
       "      <th>gender_Male</th>\n",
       "      <th>SeniorCitizen_No</th>\n",
       "      <th>SeniorCitizen_Yes</th>\n",
       "      <th>Partner_No</th>\n",
       "      <th>Partner_Yes</th>\n",
       "      <th>...</th>\n",
       "      <th>StreamingMovies_Yes</th>\n",
       "      <th>Contract_Month-to-month</th>\n",
       "      <th>Contract_One year</th>\n",
       "      <th>Contract_Two year</th>\n",
       "      <th>PaperlessBilling_No</th>\n",
       "      <th>PaperlessBilling_Yes</th>\n",
       "      <th>PaymentMethod_Bank transfer (automatic)</th>\n",
       "      <th>PaymentMethod_Credit card (automatic)</th>\n",
       "      <th>PaymentMethod_Electronic check</th>\n",
       "      <th>PaymentMethod_Mailed check</th>\n",
       "    </tr>\n",
       "  </thead>\n",
       "  <tbody>\n",
       "    <tr>\n",
       "      <th>0</th>\n",
       "      <td>-1.28016</td>\n",
       "      <td>-1.05424</td>\n",
       "      <td>-2.28138</td>\n",
       "      <td>0</td>\n",
       "      <td>1</td>\n",
       "      <td>0</td>\n",
       "      <td>1</td>\n",
       "      <td>0</td>\n",
       "      <td>0</td>\n",
       "      <td>1</td>\n",
       "      <td>...</td>\n",
       "      <td>0</td>\n",
       "      <td>1</td>\n",
       "      <td>0</td>\n",
       "      <td>0</td>\n",
       "      <td>0</td>\n",
       "      <td>1</td>\n",
       "      <td>0</td>\n",
       "      <td>0</td>\n",
       "      <td>1</td>\n",
       "      <td>0</td>\n",
       "    </tr>\n",
       "    <tr>\n",
       "      <th>1</th>\n",
       "      <td>0.06430</td>\n",
       "      <td>0.03290</td>\n",
       "      <td>0.38927</td>\n",
       "      <td>0</td>\n",
       "      <td>0</td>\n",
       "      <td>1</td>\n",
       "      <td>1</td>\n",
       "      <td>0</td>\n",
       "      <td>1</td>\n",
       "      <td>0</td>\n",
       "      <td>...</td>\n",
       "      <td>0</td>\n",
       "      <td>0</td>\n",
       "      <td>1</td>\n",
       "      <td>0</td>\n",
       "      <td>1</td>\n",
       "      <td>0</td>\n",
       "      <td>0</td>\n",
       "      <td>0</td>\n",
       "      <td>0</td>\n",
       "      <td>1</td>\n",
       "    </tr>\n",
       "    <tr>\n",
       "      <th>2</th>\n",
       "      <td>-1.23942</td>\n",
       "      <td>-0.06130</td>\n",
       "      <td>-1.45252</td>\n",
       "      <td>1</td>\n",
       "      <td>0</td>\n",
       "      <td>1</td>\n",
       "      <td>1</td>\n",
       "      <td>0</td>\n",
       "      <td>1</td>\n",
       "      <td>0</td>\n",
       "      <td>...</td>\n",
       "      <td>0</td>\n",
       "      <td>1</td>\n",
       "      <td>0</td>\n",
       "      <td>0</td>\n",
       "      <td>0</td>\n",
       "      <td>1</td>\n",
       "      <td>0</td>\n",
       "      <td>0</td>\n",
       "      <td>0</td>\n",
       "      <td>1</td>\n",
       "    </tr>\n",
       "    <tr>\n",
       "      <th>3</th>\n",
       "      <td>0.51245</td>\n",
       "      <td>-0.46758</td>\n",
       "      <td>0.37244</td>\n",
       "      <td>0</td>\n",
       "      <td>0</td>\n",
       "      <td>1</td>\n",
       "      <td>1</td>\n",
       "      <td>0</td>\n",
       "      <td>1</td>\n",
       "      <td>0</td>\n",
       "      <td>...</td>\n",
       "      <td>0</td>\n",
       "      <td>0</td>\n",
       "      <td>1</td>\n",
       "      <td>0</td>\n",
       "      <td>1</td>\n",
       "      <td>0</td>\n",
       "      <td>1</td>\n",
       "      <td>0</td>\n",
       "      <td>0</td>\n",
       "      <td>0</td>\n",
       "    </tr>\n",
       "    <tr>\n",
       "      <th>4</th>\n",
       "      <td>-1.23942</td>\n",
       "      <td>0.39686</td>\n",
       "      <td>-1.23486</td>\n",
       "      <td>1</td>\n",
       "      <td>1</td>\n",
       "      <td>0</td>\n",
       "      <td>1</td>\n",
       "      <td>0</td>\n",
       "      <td>1</td>\n",
       "      <td>0</td>\n",
       "      <td>...</td>\n",
       "      <td>0</td>\n",
       "      <td>1</td>\n",
       "      <td>0</td>\n",
       "      <td>0</td>\n",
       "      <td>0</td>\n",
       "      <td>1</td>\n",
       "      <td>0</td>\n",
       "      <td>0</td>\n",
       "      <td>1</td>\n",
       "      <td>0</td>\n",
       "    </tr>\n",
       "  </tbody>\n",
       "</table>\n",
       "<p>5 rows × 47 columns</p>\n",
       "</div>"
      ],
      "text/plain": [
       "    tenure  MonthlyCharges  TotalCharges  Churn  gender_Female  gender_Male  \\\n",
       "0 -1.28016        -1.05424      -2.28138      0              1            0   \n",
       "1  0.06430         0.03290       0.38927      0              0            1   \n",
       "2 -1.23942        -0.06130      -1.45252      1              0            1   \n",
       "3  0.51245        -0.46758       0.37244      0              0            1   \n",
       "4 -1.23942         0.39686      -1.23486      1              1            0   \n",
       "\n",
       "   SeniorCitizen_No  SeniorCitizen_Yes  Partner_No  Partner_Yes  ...  \\\n",
       "0                 1                  0           0            1  ...   \n",
       "1                 1                  0           1            0  ...   \n",
       "2                 1                  0           1            0  ...   \n",
       "3                 1                  0           1            0  ...   \n",
       "4                 1                  0           1            0  ...   \n",
       "\n",
       "   StreamingMovies_Yes  Contract_Month-to-month  Contract_One year  \\\n",
       "0                    0                        1                  0   \n",
       "1                    0                        0                  1   \n",
       "2                    0                        1                  0   \n",
       "3                    0                        0                  1   \n",
       "4                    0                        1                  0   \n",
       "\n",
       "   Contract_Two year  PaperlessBilling_No  PaperlessBilling_Yes  \\\n",
       "0                  0                    0                     1   \n",
       "1                  0                    1                     0   \n",
       "2                  0                    0                     1   \n",
       "3                  0                    1                     0   \n",
       "4                  0                    0                     1   \n",
       "\n",
       "   PaymentMethod_Bank transfer (automatic)  \\\n",
       "0                                        0   \n",
       "1                                        0   \n",
       "2                                        0   \n",
       "3                                        1   \n",
       "4                                        0   \n",
       "\n",
       "   PaymentMethod_Credit card (automatic)  PaymentMethod_Electronic check  \\\n",
       "0                                      0                               1   \n",
       "1                                      0                               0   \n",
       "2                                      0                               0   \n",
       "3                                      0                               0   \n",
       "4                                      0                               1   \n",
       "\n",
       "   PaymentMethod_Mailed check  \n",
       "0                           0  \n",
       "1                           1  \n",
       "2                           1  \n",
       "3                           0  \n",
       "4                           0  \n",
       "\n",
       "[5 rows x 47 columns]"
      ]
     },
     "execution_count": 351,
     "metadata": {},
     "output_type": "execute_result"
    }
   ],
   "source": [
    "df_telco_trans.head()"
   ]
  },
  {
   "cell_type": "code",
   "execution_count": 352,
   "id": "e84318b9",
   "metadata": {},
   "outputs": [
    {
     "data": {
      "text/plain": [
       "Index(['tenure', 'MonthlyCharges', 'TotalCharges', 'Churn', 'gender_Female',\n",
       "       'gender_Male', 'SeniorCitizen_No', 'SeniorCitizen_Yes', 'Partner_No',\n",
       "       'Partner_Yes', 'Dependents_No', 'Dependents_Yes', 'PhoneService_No',\n",
       "       'PhoneService_Yes', 'MultipleLines_No',\n",
       "       'MultipleLines_No phone service', 'MultipleLines_Yes',\n",
       "       'InternetService_DSL', 'InternetService_Fiber optic',\n",
       "       'InternetService_No', 'OnlineSecurity_No',\n",
       "       'OnlineSecurity_No internet service', 'OnlineSecurity_Yes',\n",
       "       'OnlineBackup_No', 'OnlineBackup_No internet service',\n",
       "       'OnlineBackup_Yes', 'DeviceProtection_No',\n",
       "       'DeviceProtection_No internet service', 'DeviceProtection_Yes',\n",
       "       'TechSupport_No', 'TechSupport_No internet service', 'TechSupport_Yes',\n",
       "       'StreamingTV_No', 'StreamingTV_No internet service', 'StreamingTV_Yes',\n",
       "       'StreamingMovies_No', 'StreamingMovies_No internet service',\n",
       "       'StreamingMovies_Yes', 'Contract_Month-to-month', 'Contract_One year',\n",
       "       'Contract_Two year', 'PaperlessBilling_No', 'PaperlessBilling_Yes',\n",
       "       'PaymentMethod_Bank transfer (automatic)',\n",
       "       'PaymentMethod_Credit card (automatic)',\n",
       "       'PaymentMethod_Electronic check', 'PaymentMethod_Mailed check'],\n",
       "      dtype='object')"
      ]
     },
     "execution_count": 352,
     "metadata": {},
     "output_type": "execute_result"
    }
   ],
   "source": [
    "df_telco_trans.columns"
   ]
  },
  {
   "cell_type": "code",
   "execution_count": 353,
   "id": "689850bb",
   "metadata": {},
   "outputs": [
    {
     "name": "stdout",
     "output_type": "stream",
     "text": [
      "<class 'pandas.core.frame.DataFrame'>\n",
      "RangeIndex: 7032 entries, 0 to 7031\n",
      "Data columns (total 47 columns):\n",
      " #   Column                                   Non-Null Count  Dtype  \n",
      "---  ------                                   --------------  -----  \n",
      " 0   tenure                                   7032 non-null   float64\n",
      " 1   MonthlyCharges                           7032 non-null   float64\n",
      " 2   TotalCharges                             7032 non-null   float64\n",
      " 3   Churn                                    7032 non-null   int64  \n",
      " 4   gender_Female                            7032 non-null   uint8  \n",
      " 5   gender_Male                              7032 non-null   uint8  \n",
      " 6   SeniorCitizen_No                         7032 non-null   uint8  \n",
      " 7   SeniorCitizen_Yes                        7032 non-null   uint8  \n",
      " 8   Partner_No                               7032 non-null   uint8  \n",
      " 9   Partner_Yes                              7032 non-null   uint8  \n",
      " 10  Dependents_No                            7032 non-null   uint8  \n",
      " 11  Dependents_Yes                           7032 non-null   uint8  \n",
      " 12  PhoneService_No                          7032 non-null   uint8  \n",
      " 13  PhoneService_Yes                         7032 non-null   uint8  \n",
      " 14  MultipleLines_No                         7032 non-null   uint8  \n",
      " 15  MultipleLines_No phone service           7032 non-null   uint8  \n",
      " 16  MultipleLines_Yes                        7032 non-null   uint8  \n",
      " 17  InternetService_DSL                      7032 non-null   uint8  \n",
      " 18  InternetService_Fiber optic              7032 non-null   uint8  \n",
      " 19  InternetService_No                       7032 non-null   uint8  \n",
      " 20  OnlineSecurity_No                        7032 non-null   uint8  \n",
      " 21  OnlineSecurity_No internet service       7032 non-null   uint8  \n",
      " 22  OnlineSecurity_Yes                       7032 non-null   uint8  \n",
      " 23  OnlineBackup_No                          7032 non-null   uint8  \n",
      " 24  OnlineBackup_No internet service         7032 non-null   uint8  \n",
      " 25  OnlineBackup_Yes                         7032 non-null   uint8  \n",
      " 26  DeviceProtection_No                      7032 non-null   uint8  \n",
      " 27  DeviceProtection_No internet service     7032 non-null   uint8  \n",
      " 28  DeviceProtection_Yes                     7032 non-null   uint8  \n",
      " 29  TechSupport_No                           7032 non-null   uint8  \n",
      " 30  TechSupport_No internet service          7032 non-null   uint8  \n",
      " 31  TechSupport_Yes                          7032 non-null   uint8  \n",
      " 32  StreamingTV_No                           7032 non-null   uint8  \n",
      " 33  StreamingTV_No internet service          7032 non-null   uint8  \n",
      " 34  StreamingTV_Yes                          7032 non-null   uint8  \n",
      " 35  StreamingMovies_No                       7032 non-null   uint8  \n",
      " 36  StreamingMovies_No internet service      7032 non-null   uint8  \n",
      " 37  StreamingMovies_Yes                      7032 non-null   uint8  \n",
      " 38  Contract_Month-to-month                  7032 non-null   uint8  \n",
      " 39  Contract_One year                        7032 non-null   uint8  \n",
      " 40  Contract_Two year                        7032 non-null   uint8  \n",
      " 41  PaperlessBilling_No                      7032 non-null   uint8  \n",
      " 42  PaperlessBilling_Yes                     7032 non-null   uint8  \n",
      " 43  PaymentMethod_Bank transfer (automatic)  7032 non-null   uint8  \n",
      " 44  PaymentMethod_Credit card (automatic)    7032 non-null   uint8  \n",
      " 45  PaymentMethod_Electronic check           7032 non-null   uint8  \n",
      " 46  PaymentMethod_Mailed check               7032 non-null   uint8  \n",
      "dtypes: float64(3), int64(1), uint8(43)\n",
      "memory usage: 515.2 KB\n"
     ]
    }
   ],
   "source": [
    "df_telco_trans.info()"
   ]
  },
  {
   "cell_type": "markdown",
   "id": "38eb1050",
   "metadata": {},
   "source": [
    "### Building the model"
   ]
  },
  {
   "cell_type": "markdown",
   "id": "4849b11b",
   "metadata": {},
   "source": [
    "ANN model is a machine learning model that is inspired by how a human brain functions.\n",
    "\n",
    "In here, will be experimenting with a multilayer perception model (MLP). The MLP model is a model that has at least one or more hidden layers of nodes including one layer for the input and another layer for the output. The MLP model contains at least three or more layers of nodes."
   ]
  },
  {
   "cell_type": "code",
   "execution_count": 354,
   "id": "89f50713",
   "metadata": {},
   "outputs": [],
   "source": [
    "# import packages\n",
    "from keras.models import Sequential\n",
    "from keras.layers import Dense"
   ]
  },
  {
   "cell_type": "code",
   "execution_count": 355,
   "id": "5a7c968c",
   "metadata": {},
   "outputs": [],
   "source": [
    "# Define the target variable and features\n",
    "target = 'Churn'\n",
    "features = [x for x in list(df_telco_trans.columns) if x != target]"
   ]
  },
  {
   "cell_type": "code",
   "execution_count": 356,
   "id": "4c0d993a",
   "metadata": {},
   "outputs": [],
   "source": [
    "# Define the model\n",
    "model = Sequential()\n",
    "model.add(Dense(16, input_dim=len(features), activation='relu'))\n",
    "model.add(Dense(8, activation='relu'))\n",
    "model.add(Dense(1, activation='sigmoid'))"
   ]
  },
  {
   "cell_type": "code",
   "execution_count": 357,
   "id": "7fe5d4a7",
   "metadata": {},
   "outputs": [],
   "source": [
    "# compile the model\n",
    "model.compile(loss='binary_crossentropy', optimizer='adam', metrics=['accuracy'])"
   ]
  },
  {
   "cell_type": "code",
   "execution_count": 358,
   "id": "65a8b029",
   "metadata": {},
   "outputs": [
    {
     "name": "stdout",
     "output_type": "stream",
     "text": [
      "Wall time: 0 ns\n",
      "Epoch 1/50\n",
      "57/57 [==============================] - 1s 3ms/step - loss: 0.5254 - accuracy: 0.7374\n",
      "Epoch 2/50\n",
      "57/57 [==============================] - 0s 3ms/step - loss: 0.4455 - accuracy: 0.7746\n",
      "Epoch 3/50\n",
      "57/57 [==============================] - 0s 2ms/step - loss: 0.4270 - accuracy: 0.7950\n",
      "Epoch 4/50\n",
      "57/57 [==============================] - 0s 2ms/step - loss: 0.4184 - accuracy: 0.8041\n",
      "Epoch 5/50\n",
      "57/57 [==============================] - 0s 2ms/step - loss: 0.4141 - accuracy: 0.8052\n",
      "Epoch 6/50\n",
      "57/57 [==============================] - 0s 2ms/step - loss: 0.4115 - accuracy: 0.8064\n",
      "Epoch 7/50\n",
      "57/57 [==============================] - 0s 2ms/step - loss: 0.4098 - accuracy: 0.8052\n",
      "Epoch 8/50\n",
      "57/57 [==============================] - 0s 2ms/step - loss: 0.4079 - accuracy: 0.8089\n",
      "Epoch 9/50\n",
      "57/57 [==============================] - 0s 2ms/step - loss: 0.4071 - accuracy: 0.8089\n",
      "Epoch 10/50\n",
      "57/57 [==============================] - 0s 2ms/step - loss: 0.4055 - accuracy: 0.8108\n",
      "Epoch 11/50\n",
      "57/57 [==============================] - 0s 2ms/step - loss: 0.4050 - accuracy: 0.8101\n",
      "Epoch 12/50\n",
      "57/57 [==============================] - 0s 2ms/step - loss: 0.4044 - accuracy: 0.8110\n",
      "Epoch 13/50\n",
      "57/57 [==============================] - 0s 2ms/step - loss: 0.4034 - accuracy: 0.8117\n",
      "Epoch 14/50\n",
      "57/57 [==============================] - 0s 2ms/step - loss: 0.4035 - accuracy: 0.8132\n",
      "Epoch 15/50\n",
      "57/57 [==============================] - 0s 2ms/step - loss: 0.4028 - accuracy: 0.8123\n",
      "Epoch 16/50\n",
      "57/57 [==============================] - 0s 2ms/step - loss: 0.4025 - accuracy: 0.8116\n",
      "Epoch 17/50\n",
      "57/57 [==============================] - 0s 3ms/step - loss: 0.4032 - accuracy: 0.8094\n",
      "Epoch 18/50\n",
      "57/57 [==============================] - 0s 2ms/step - loss: 0.4007 - accuracy: 0.8135\n",
      "Epoch 19/50\n",
      "57/57 [==============================] - 0s 3ms/step - loss: 0.3997 - accuracy: 0.8140\n",
      "Epoch 20/50\n",
      "57/57 [==============================] - 0s 3ms/step - loss: 0.3991 - accuracy: 0.8149\n",
      "Epoch 21/50\n",
      "57/57 [==============================] - 0s 2ms/step - loss: 0.4003 - accuracy: 0.8132\n",
      "Epoch 22/50\n",
      "57/57 [==============================] - 0s 2ms/step - loss: 0.3991 - accuracy: 0.8149\n",
      "Epoch 23/50\n",
      "57/57 [==============================] - 0s 3ms/step - loss: 0.3985 - accuracy: 0.8128\n",
      "Epoch 24/50\n",
      "57/57 [==============================] - 0s 2ms/step - loss: 0.3979 - accuracy: 0.8160\n",
      "Epoch 25/50\n",
      "57/57 [==============================] - 0s 2ms/step - loss: 0.3971 - accuracy: 0.8162\n",
      "Epoch 26/50\n",
      "57/57 [==============================] - 0s 2ms/step - loss: 0.3967 - accuracy: 0.8135\n",
      "Epoch 27/50\n",
      "57/57 [==============================] - 0s 2ms/step - loss: 0.3960 - accuracy: 0.8156\n",
      "Epoch 28/50\n",
      "57/57 [==============================] - 0s 2ms/step - loss: 0.3952 - accuracy: 0.8183\n",
      "Epoch 29/50\n",
      "57/57 [==============================] - 0s 3ms/step - loss: 0.3949 - accuracy: 0.8178\n",
      "Epoch 30/50\n",
      "57/57 [==============================] - 0s 2ms/step - loss: 0.3952 - accuracy: 0.8156\n",
      "Epoch 31/50\n",
      "57/57 [==============================] - 0s 2ms/step - loss: 0.3949 - accuracy: 0.8146\n",
      "Epoch 32/50\n",
      "57/57 [==============================] - 0s 2ms/step - loss: 0.3944 - accuracy: 0.8156\n",
      "Epoch 33/50\n",
      "57/57 [==============================] - 0s 2ms/step - loss: 0.3932 - accuracy: 0.8164\n",
      "Epoch 34/50\n",
      "57/57 [==============================] - 0s 2ms/step - loss: 0.3924 - accuracy: 0.8188\n",
      "Epoch 35/50\n",
      "57/57 [==============================] - 0s 2ms/step - loss: 0.3934 - accuracy: 0.8137\n",
      "Epoch 36/50\n",
      "57/57 [==============================] - 0s 2ms/step - loss: 0.3930 - accuracy: 0.8158\n",
      "Epoch 37/50\n",
      "57/57 [==============================] - 0s 2ms/step - loss: 0.3924 - accuracy: 0.8153\n",
      "Epoch 38/50\n",
      "57/57 [==============================] - 0s 3ms/step - loss: 0.3923 - accuracy: 0.8162\n",
      "Epoch 39/50\n",
      "57/57 [==============================] - 0s 3ms/step - loss: 0.3915 - accuracy: 0.8174\n",
      "Epoch 40/50\n",
      "57/57 [==============================] - 0s 2ms/step - loss: 0.3918 - accuracy: 0.8144\n",
      "Epoch 41/50\n",
      "57/57 [==============================] - 0s 3ms/step - loss: 0.3919 - accuracy: 0.8171\n",
      "Epoch 42/50\n",
      "57/57 [==============================] - 0s 2ms/step - loss: 0.3928 - accuracy: 0.8137\n",
      "Epoch 43/50\n",
      "57/57 [==============================] - 0s 2ms/step - loss: 0.3931 - accuracy: 0.8105\n",
      "Epoch 44/50\n",
      "57/57 [==============================] - 0s 2ms/step - loss: 0.3899 - accuracy: 0.8169\n",
      "Epoch 45/50\n",
      "57/57 [==============================] - 0s 2ms/step - loss: 0.3904 - accuracy: 0.8144\n",
      "Epoch 46/50\n",
      "57/57 [==============================] - 0s 2ms/step - loss: 0.3905 - accuracy: 0.8171\n",
      "Epoch 47/50\n",
      "57/57 [==============================] - 0s 2ms/step - loss: 0.3889 - accuracy: 0.8181\n",
      "Epoch 48/50\n",
      "57/57 [==============================] - 0s 2ms/step - loss: 0.3892 - accuracy: 0.8164\n",
      "Epoch 49/50\n",
      "57/57 [==============================] - 0s 3ms/step - loss: 0.3895 - accuracy: 0.8160\n",
      "Epoch 50/50\n",
      "57/57 [==============================] - 0s 2ms/step - loss: 0.3890 - accuracy: 0.8160\n"
     ]
    }
   ],
   "source": [
    "# Split the data into train and test\n",
    "from sklearn.model_selection import train_test_split\n",
    "X_train, X_test, y_train, y_test = train_test_split(df_telco_trans[features], \n",
    "                                                    df_telco_trans[target], \n",
    "                                                    test_size=0.2,\n",
    "                                                    random_state=23)\n",
    "# Train the model\n",
    "%time\n",
    "history = model.fit(X_train, y_train, epochs=50, batch_size=100)"
   ]
  },
  {
   "cell_type": "code",
   "execution_count": 359,
   "id": "41550074",
   "metadata": {},
   "outputs": [
    {
     "data": {
      "text/plain": [
       "{'loss': [0.5253873467445374,\n",
       "  0.4454646408557892,\n",
       "  0.42697635293006897,\n",
       "  0.4184013307094574,\n",
       "  0.41409870982170105,\n",
       "  0.4114631414413452,\n",
       "  0.4098051190376282,\n",
       "  0.40793436765670776,\n",
       "  0.407050222158432,\n",
       "  0.4055463969707489,\n",
       "  0.404974102973938,\n",
       "  0.40435367822647095,\n",
       "  0.40339401364326477,\n",
       "  0.4034520387649536,\n",
       "  0.4027710556983948,\n",
       "  0.4025166630744934,\n",
       "  0.4032040238380432,\n",
       "  0.4006510078907013,\n",
       "  0.39968642592430115,\n",
       "  0.39906033873558044,\n",
       "  0.4003027677536011,\n",
       "  0.3991413712501526,\n",
       "  0.3985153138637543,\n",
       "  0.3978945016860962,\n",
       "  0.39711838960647583,\n",
       "  0.39669743180274963,\n",
       "  0.3960338532924652,\n",
       "  0.395235538482666,\n",
       "  0.3948550224304199,\n",
       "  0.3951970338821411,\n",
       "  0.3949003517627716,\n",
       "  0.3944155275821686,\n",
       "  0.39322906732559204,\n",
       "  0.39241674542427063,\n",
       "  0.3933674097061157,\n",
       "  0.392989844083786,\n",
       "  0.39237624406814575,\n",
       "  0.3922950029373169,\n",
       "  0.39154934883117676,\n",
       "  0.39179882407188416,\n",
       "  0.3919202387332916,\n",
       "  0.3928210139274597,\n",
       "  0.3930666744709015,\n",
       "  0.38988256454467773,\n",
       "  0.39042308926582336,\n",
       "  0.3905337154865265,\n",
       "  0.3889355957508087,\n",
       "  0.3892187476158142,\n",
       "  0.389546275138855,\n",
       "  0.3890417516231537],\n",
       " 'accuracy': [0.7374222278594971,\n",
       "  0.774577796459198,\n",
       "  0.7950222492218018,\n",
       "  0.8040888905525208,\n",
       "  0.8051555752754211,\n",
       "  0.8064000010490417,\n",
       "  0.8051555752754211,\n",
       "  0.8088889122009277,\n",
       "  0.8088889122009277,\n",
       "  0.8108444213867188,\n",
       "  0.8101333379745483,\n",
       "  0.8110222220420837,\n",
       "  0.8117333054542542,\n",
       "  0.8131555318832397,\n",
       "  0.8122666478157043,\n",
       "  0.8115555644035339,\n",
       "  0.8094221949577332,\n",
       "  0.8135111331939697,\n",
       "  0.8140444159507751,\n",
       "  0.8149333596229553,\n",
       "  0.8131555318832397,\n",
       "  0.8149333596229553,\n",
       "  0.8127999901771545,\n",
       "  0.8159999847412109,\n",
       "  0.8161777853965759,\n",
       "  0.8135111331939697,\n",
       "  0.8156444430351257,\n",
       "  0.8183110952377319,\n",
       "  0.8177777528762817,\n",
       "  0.8156444430351257,\n",
       "  0.8145777583122253,\n",
       "  0.8156444430351257,\n",
       "  0.8163555264472961,\n",
       "  0.8188444375991821,\n",
       "  0.8136888742446899,\n",
       "  0.8158222436904907,\n",
       "  0.8152889013290405,\n",
       "  0.8161777853965759,\n",
       "  0.8174222111701965,\n",
       "  0.8144000172615051,\n",
       "  0.8170666694641113,\n",
       "  0.8136888742446899,\n",
       "  0.8104888796806335,\n",
       "  0.8168888688087463,\n",
       "  0.8144000172615051,\n",
       "  0.8170666694641113,\n",
       "  0.8181333541870117,\n",
       "  0.8163555264472961,\n",
       "  0.8159999847412109,\n",
       "  0.8159999847412109]}"
      ]
     },
     "execution_count": 359,
     "metadata": {},
     "output_type": "execute_result"
    }
   ],
   "source": [
    "history.history"
   ]
  },
  {
   "cell_type": "markdown",
   "id": "9a2a15da",
   "metadata": {},
   "source": [
    "As you can see from the output, loss typically decreases and the accuracy (acc) improves in each epoch. However, the rate of model performance improvement decreases over time."
   ]
  },
  {
   "cell_type": "markdown",
   "id": "45a3700c",
   "metadata": {},
   "source": [
    "### Model Evaluation"
   ]
  },
  {
   "cell_type": "markdown",
   "id": "5af6ee4f",
   "metadata": {},
   "source": [
    "Let us evaluate the model using accuracy, precision, recall, as well as the receiver operating characteristic (ROC) curve and area under the curve (AUC)."
   ]
  },
  {
   "cell_type": "code",
   "execution_count": 360,
   "id": "7875515c",
   "metadata": {},
   "outputs": [],
   "source": [
    "# Get predictions\n",
    "from sklearn.metrics import accuracy_score, precision_score, recall_score, confusion_matrix, roc_curve, auc\n",
    "\n",
    "train_set_preds = [round(x[0]) for x in model.predict(X_train)]\n",
    "test_set_preds = [round(x[0]) for x in model.predict(X_test)]"
   ]
  },
  {
   "cell_type": "code",
   "execution_count": 361,
   "id": "39a66e4d",
   "metadata": {},
   "outputs": [
    {
     "name": "stdout",
     "output_type": "stream",
     "text": [
      "Accuracy for test set: 0.8067\n",
      "Accuracy for train set: 0.8190\n",
      "\n",
      "\n",
      "Precision for test set: 0.7123\n",
      "Precision for train set: 0.6988\n",
      "\n",
      "\n",
      "Recall for test set: 0.5165\n",
      "Recall for train set: 0.5454\n"
     ]
    }
   ],
   "source": [
    "print('Accuracy for test set: %0.4f' % accuracy_score(y_test, test_set_preds))\n",
    "print('Accuracy for train set: %0.4f' % accuracy_score(y_train, train_set_preds))\n",
    "\n",
    "print('\\n')\n",
    "\n",
    "print('Precision for test set: %0.4f' % precision_score(y_test, test_set_preds))\n",
    "print('Precision for train set: %0.4f' % precision_score(y_train, train_set_preds))\n",
    "\n",
    "print('\\n')\n",
    "\n",
    "print('Recall for test set: %0.4f' % recall_score(y_test, test_set_preds))\n",
    "print('Recall for train set: %0.4f' % recall_score(y_train, train_set_preds))"
   ]
  },
  {
   "cell_type": "markdown",
   "id": "ff964d51",
   "metadata": {},
   "source": [
    "The accuracy for train and test sets is similar, which indicates that the model is slightly overfitted and predicts better for the train set. Precision (prediction of positive values) is about 0.70, which shows how well the model predicts customers who will churn."
   ]
  },
  {
   "cell_type": "code",
   "execution_count": 362,
   "id": "577d0c3f",
   "metadata": {},
   "outputs": [
    {
     "name": "stdout",
     "output_type": "stream",
     "text": [
      "AUC for test set: 0.8493\n",
      "AUC for train set: 0.8683\n"
     ]
    }
   ],
   "source": [
    "train_preds = [x[0] for x in model.predict(X_train)]\n",
    "test_preds = [x[0] for x in model.predict(X_test)]\n",
    "\n",
    "# Get AUC and ROC\n",
    "train_fpr, train_tpr, train_thresholds = roc_curve(y_train, train_preds)\n",
    "test_fpr, test_tpr, test_thresholds = roc_curve(y_test, test_preds)\n",
    "train_roc_auc = auc(train_fpr, train_tpr)\n",
    "test_roc_auc = auc(test_fpr, test_tpr)\n",
    "\n",
    "print('AUC for test set: %0.4f' % test_roc_auc)\n",
    "print('AUC for train set: %0.4f' % train_roc_auc)"
   ]
  },
  {
   "cell_type": "code",
   "execution_count": 300,
   "id": "4ead18c2",
   "metadata": {},
   "outputs": [
    {
     "data": {
      "image/png": "[encoded data removed]",
      "text/plain": [
       "<Figure size 560x400 with 1 Axes>"
      ]
     },
     "metadata": {
      "needs_background": "light"
     },
     "output_type": "display_data"
    }
   ],
   "source": [
    "# Visualize ROC curve\n",
    "plt.figure(figsize=(7, 5), dpi=80)\n",
    "plt.plot(test_fpr,\n",
    "         test_tpr,\n",
    "         color='tomato',\n",
    "         label='ROC curve for test set (area = %0.4f)' % test_roc_auc)\n",
    "plt.plot(train_fpr,\n",
    "         train_tpr,\n",
    "         color='dodgerblue',\n",
    "         label='ROC curve for train set (area = %0.4f)' % train_roc_auc)\n",
    "plt.plot([0, 1], [0, 1], color='gray', lw=1, linestyle='--')\n",
    "plt.xlim([0.0, 1.0])\n",
    "plt.ylim([0.0, 1.05])\n",
    "plt.xlabel('False Positive Rate', fontsize=14)\n",
    "plt.ylabel('True Positive Rate', fontsize=14)\n",
    "plt.title('ROC Curve', fontsize=16)\n",
    "plt.legend(loc=\"lower right\")\n",
    "\n",
    "plt.show()"
   ]
  },
  {
   "cell_type": "markdown",
   "id": "849474db",
   "metadata": {},
   "source": [
    "AUC for the test set is about **0.86**, which is good and it means that the model can predict customers who may churn."
   ]
  },
  {
   "cell_type": "code",
   "execution_count": 371,
   "id": "3d44c509",
   "metadata": {},
   "outputs": [
    {
     "name": "stdout",
     "output_type": "stream",
     "text": [
      "              precision    recall  f1-score   support\n",
      "\n",
      "           0       0.83      0.92      0.87      1014\n",
      "           1       0.71      0.52      0.60       393\n",
      "\n",
      "    accuracy                           0.81      1407\n",
      "   macro avg       0.77      0.72      0.74      1407\n",
      "weighted avg       0.80      0.81      0.80      1407\n",
      "\n"
     ]
    }
   ],
   "source": [
    "from sklearn.metrics import confusion_matrix , classification_report\n",
    "\n",
    "print(classification_report(y_test,test_set_preds))"
   ]
  },
  {
   "cell_type": "code",
   "execution_count": 372,
   "id": "539a9b59",
   "metadata": {},
   "outputs": [
    {
     "data": {
      "text/plain": [
       "Text(69.0, 0.5, 'Truth (Actual Values)')"
      ]
     },
     "execution_count": 372,
     "metadata": {},
     "output_type": "execute_result"
    },
    {
     "data": {
      "image/png": "[encoded data removed]",
      "text/plain": [
       "<Figure size 720x504 with 2 Axes>"
      ]
     },
     "metadata": {
      "needs_background": "light"
     },
     "output_type": "display_data"
    }
   ],
   "source": [
    "import seaborn as sn\n",
    "cm = tf.math.confusion_matrix(labels=y_test,predictions=test_set_preds)\n",
    "\n",
    "plt.figure(figsize = (10,7))\n",
    "sn.heatmap(cm, annot=True, fmt='d')\n",
    "plt.xlabel('Predicted')\n",
    "plt.ylabel('Truth (Actual Values)')"
   ]
  },
  {
   "cell_type": "code",
   "execution_count": 375,
   "id": "dca0bbf9",
   "metadata": {},
   "outputs": [
    {
     "name": "stdout",
     "output_type": "stream",
     "text": [
      "Model: \"sequential_7\"\n",
      "_________________________________________________________________\n",
      " Layer (type)                Output Shape              Param #   \n",
      "=================================================================\n",
      " dense_21 (Dense)            (None, 16)                752       \n",
      "                                                                 \n",
      " dense_22 (Dense)            (None, 8)                 136       \n",
      "                                                                 \n",
      " dense_23 (Dense)            (None, 1)                 9         \n",
      "                                                                 \n",
      "=================================================================\n",
      "Total params: 897\n",
      "Trainable params: 897\n",
      "Non-trainable params: 0\n",
      "_________________________________________________________________\n"
     ]
    }
   ],
   "source": [
    "model.summary()"
   ]
  },
  {
   "cell_type": "code",
   "execution_count": 394,
   "id": "ebfd6a08",
   "metadata": {},
   "outputs": [
    {
     "data": {
      "text/plain": [
       "array([[0.46543592],\n",
       "       [0.525803  ],\n",
       "       [0.00368744],\n",
       "       [0.8330405 ],\n",
       "       [0.424674  ]], dtype=float32)"
      ]
     },
     "execution_count": 394,
     "metadata": {},
     "output_type": "execute_result"
    }
   ],
   "source": [
    "yp = model.predict(X_test)\n",
    "yp[:5]"
   ]
  },
  {
   "cell_type": "code",
   "execution_count": 395,
   "id": "5d12f139",
   "metadata": {},
   "outputs": [],
   "source": [
    "y_pred = []\n",
    "for element in yp:\n",
    "    if element > 0.5:\n",
    "        y_pred.append(1)\n",
    "    else:\n",
    "        y_pred.append(0)"
   ]
  },
  {
   "cell_type": "code",
   "execution_count": 396,
   "id": "3aecc37a",
   "metadata": {},
   "outputs": [
    {
     "data": {
      "text/plain": [
       "[0, 1, 0, 1, 0, 1, 0, 0, 0, 0]"
      ]
     },
     "execution_count": 396,
     "metadata": {},
     "output_type": "execute_result"
    }
   ],
   "source": [
    "y_pred[:10]"
   ]
  },
  {
   "cell_type": "code",
   "execution_count": 397,
   "id": "ccc65891",
   "metadata": {},
   "outputs": [
    {
     "data": {
      "text/plain": [
       "2660    0\n",
       "744     0\n",
       "5579    1\n",
       "64      1\n",
       "3287    1\n",
       "816     1\n",
       "2670    0\n",
       "5920    0\n",
       "1023    0\n",
       "6087    0\n",
       "Name: Churn, dtype: int64"
      ]
     },
     "execution_count": 397,
     "metadata": {},
     "output_type": "execute_result"
    }
   ],
   "source": [
    "y_test[:10]"
   ]
  },
  {
   "cell_type": "code",
   "execution_count": 389,
   "id": "31375ad4",
   "metadata": {},
   "outputs": [
    {
     "name": "stdout",
     "output_type": "stream",
     "text": [
      "[[0.46543592]\n",
      " [0.525803  ]\n",
      " [0.00368744]\n",
      " ...\n",
      " [0.80836356]\n",
      " [0.74660456]\n",
      " [0.64034367]]\n",
      "[0, 1, 0, 1, 0, 1, 0, 0, 0, 0, 0, 1, 0, 1, 1, 0, 0, 0, 0, 0, 0, 0, 0, 0, 0, 0, 0, 0, 1, 0, 0, 1, 0, 0, 0, 0, 1, 0, 1, 0, 1, 1, 0, 0, 0, 0, 0, 0, 0, 1, 0, 0, 0, 1, 0, 0, 0, 1, 0, 0, 0, 0, 0, 1, 0, 0, 0, 0, 0, 1, 0, 1, 0, 1, 0, 0, 1, 0, 0, 0, 1, 1, 0, 0, 0, 0, 0, 1, 0, 0, 1, 0, 1, 1, 1, 0, 1, 0, 1, 1, 0, 0, 1, 0, 0, 0, 0, 0, 0, 0, 0, 0, 0, 0, 0, 0, 0, 0, 0, 0, 0, 0, 0, 0, 0, 0, 0, 0, 0, 0, 0, 1, 1, 0, 1, 0, 0, 1, 0, 0, 0, 1, 0, 1, 0, 1, 1, 0, 1, 0, 0, 0, 1, 0, 0, 0, 1, 1, 0, 0, 1, 0, 0, 0, 0, 0, 0, 0, 0, 0, 0, 0, 0, 0, 0, 1, 0, 0, 1, 0, 0, 0, 0, 0, 0, 0, 0, 1, 0, 1, 0, 0, 0, 1, 0, 0, 1, 0, 0, 0, 0, 1, 0, 1, 0, 0, 0, 0, 0, 0, 0, 0, 0, 0, 0, 0, 0, 0, 0, 0, 0, 0, 0, 1, 0, 1, 1, 0, 0, 0, 0, 1, 0, 0, 0, 0, 0, 0, 0, 0, 0, 0, 0, 1, 1, 0, 0, 0, 1, 0, 0, 0, 0, 1, 0, 1, 0, 0, 1, 0, 0, 0, 0, 1, 0, 0, 0, 0, 0, 0, 0, 0, 1, 0, 0, 0, 0, 0, 0, 0, 0, 1, 0, 0, 0, 0, 0, 0, 1, 0, 0, 0, 0, 0, 1, 1, 0, 0, 0, 0, 0, 0, 1, 1, 0, 0, 0, 1, 0, 1, 0, 0, 0, 1, 0, 1, 0, 0, 0, 0, 1, 0, 0, 0, 0, 0, 0, 0, 0, 0, 0, 0, 0, 0, 0, 1, 0, 0, 0, 0, 0, 0, 1, 0, 0, 0, 0, 1, 0, 1, 0, 0, 0, 0, 0, 1, 0, 0, 0, 0, 0, 0, 0, 0, 0, 0, 0, 0, 0, 0, 0, 0, 0, 0, 0, 0, 0, 0, 0, 1, 0, 1, 0, 0, 0, 0, 0, 0, 0, 0, 1, 0, 1, 0, 0, 0, 1, 1, 0, 0, 1, 1, 0, 0, 0, 1, 1, 0, 1, 0, 0, 0, 0, 0, 0, 0, 0, 0, 0, 1, 0, 0, 0, 0, 0, 1, 1, 0, 1, 0, 0, 0, 0, 0, 1, 0, 0, 1, 1, 0, 0, 0, 0, 0, 1, 0, 0, 1, 0, 0, 0, 0, 0, 0, 0, 1, 0, 0, 1, 0, 0, 0, 0, 0, 0, 0, 0, 0, 0, 0, 1, 1, 0, 1, 0, 1, 0, 0, 1, 0, 1, 0, 0, 0, 0, 0, 1, 0, 0, 0, 1, 0, 0, 0, 0, 0, 0, 0, 0, 0, 0, 1, 0, 0, 0, 0, 1, 1, 0, 0, 0, 0, 0, 0, 0, 1, 0, 0, 0, 0, 0, 0, 0, 0, 0, 0, 0, 0, 0, 1, 0, 0, 0, 0, 0, 0, 0, 0, 0, 0, 0, 1, 0, 0, 1, 0, 0, 0, 0, 0, 0, 1, 0, 1, 0, 0, 0, 0, 1, 0, 0, 0, 0, 0, 1, 0, 1, 0, 1, 0, 0, 1, 0, 0, 0, 0, 0, 0, 1, 0, 1, 1, 0, 0, 0, 1, 0, 0, 0, 0, 0, 0, 1, 0, 0, 0, 0, 1, 0, 0, 0, 0, 0, 0, 1, 1, 0, 1, 0, 0, 0, 0, 1, 0, 0, 0, 0, 0, 0, 0, 0, 1, 1, 0, 0, 1, 1, 0, 0, 0, 1, 0, 0, 0, 0, 0, 0, 0, 0, 1, 0, 1, 0, 0, 0, 0, 0, 0, 1, 0, 0, 1, 1, 0, 0, 0, 0, 0, 1, 0, 0, 0, 0, 1, 0, 0, 0, 0, 1, 0, 0, 0, 1, 0, 0, 0, 1, 0, 0, 0, 0, 0, 1, 0, 0, 0, 0, 0, 0, 0, 1, 0, 0, 0, 0, 0, 0, 0, 1, 0, 0, 1, 1, 1, 0, 0, 0, 0, 0, 0, 0, 1, 0, 1, 0, 0, 1, 1, 1, 1, 0, 0, 1, 0, 1, 0, 0, 0, 0, 1, 0, 1, 0, 0, 1, 0, 0, 0, 0, 0, 0, 0, 0, 1, 0, 0, 0, 1, 0, 1, 0, 0, 0, 0, 1, 1, 0, 0, 0, 1, 0, 1, 1, 1, 0, 1, 0, 1, 0, 0, 1, 0, 0, 0, 0, 0, 0, 1, 1, 0, 0, 0, 0, 1, 0, 0, 0, 0, 0, 0, 0, 1, 0, 0, 1, 0, 0, 0, 0, 0, 0, 0, 1, 0, 1, 0, 1, 0, 1, 0, 1, 0, 1, 0, 1, 0, 0, 1, 1, 0, 0, 0, 0, 0, 1, 0, 0, 0, 0, 1, 1, 0, 0, 0, 0, 0, 0, 0, 0, 0, 1, 0, 0, 0, 0, 0, 0, 0, 1, 0, 0, 0, 1, 0, 1, 0, 0, 1, 0, 0, 0, 0, 0, 0, 1, 0, 1, 0, 1, 1, 0, 0, 0, 0, 0, 0, 1, 1, 0, 0, 1, 0, 1, 0, 0, 0, 0, 0, 1, 0, 0, 1, 0, 1, 0, 0, 0, 0, 0, 0, 0, 1, 0, 0, 1, 0, 0, 0, 0, 0, 0, 0, 0, 1, 1, 1, 0, 0, 1, 0, 0, 1, 0, 0, 0, 0, 0, 0, 1, 0, 0, 0, 0, 0, 0, 0, 0, 0, 0, 1, 0, 1, 0, 0, 0, 0, 0, 0, 1, 0, 0, 0, 0, 1, 0, 0, 0, 0, 0, 0, 0, 1, 0, 0, 0, 0, 1, 0, 0, 0, 1, 0, 0, 1, 0, 0, 0, 0, 0, 0, 0, 0, 0, 0, 0, 0, 0, 1, 1, 0, 1, 0, 0, 0, 0, 1, 0, 0, 0, 0, 0, 0, 1, 0, 1, 1, 0, 0, 1, 0, 0, 1, 0, 0, 0, 0, 0, 0, 0, 1, 0, 0, 0, 0, 0, 0, 0, 0, 1, 0, 0, 1, 0, 0, 0, 1, 0, 0, 1, 0, 0, 0, 0, 0, 1, 1, 0, 0, 0, 0, 0, 0, 0, 1, 0, 1, 0, 0, 1, 1, 0, 0, 0, 0, 0, 0, 0, 0, 1, 0, 0, 0, 0, 0, 0, 0, 0, 0, 0, 0, 0, 0, 0, 0, 0, 0, 0, 0, 0, 1, 0, 0, 0, 0, 0, 1, 0, 0, 0, 0, 0, 1, 1, 0, 0, 0, 1, 0, 1, 0, 0, 0, 1, 0, 0, 0, 0, 0, 0, 1, 0, 0, 1, 0, 0, 0, 0, 0, 1, 0, 0, 0, 0, 0, 1, 1, 1, 0, 1, 0, 0, 0, 1, 1, 0, 0, 0, 0, 0, 1, 0, 0, 1, 0, 0, 0, 1, 0, 0, 0, 0, 1, 0, 0, 1, 1, 0, 0, 0, 0, 0, 0, 0, 0, 0, 0, 1, 0, 0, 0, 1, 1, 0, 0, 0, 1, 0, 0, 0, 1, 0, 0, 0, 0, 0, 0, 0, 0, 0, 0, 0, 0, 0, 1, 0, 1, 0, 0, 0, 0, 1, 0, 1, 0, 1, 1, 1, 0, 0, 1, 1, 0, 0, 0, 1, 0, 1, 0, 0, 0, 0, 0, 1, 0, 0, 0, 0, 0, 0, 0, 0, 0, 1, 0, 0, 0, 0, 0, 1, 1, 0, 0, 0, 0, 0, 0, 0, 0, 0, 1, 0, 0, 1, 0, 0, 0, 1, 0, 1, 1, 0, 0, 0, 0, 0, 0, 1, 0, 0, 0, 0, 0, 0, 1, 0, 0, 0, 0, 0, 0, 1, 0, 0, 0, 0, 0, 0, 0, 0, 0, 0, 1, 1, 0, 0, 0, 1, 1, 0, 0, 0, 1, 0, 1, 0, 0, 0, 0, 1, 0, 1, 1, 0, 0, 0, 1, 0, 0, 0, 0, 0, 0, 0, 1, 0, 0, 0, 1, 1, 0, 0, 0, 1, 0, 0, 1, 0, 0, 0, 0, 0, 0, 0, 0, 0, 0, 0, 0, 0, 1, 0, 1, 0, 0, 1, 0, 0, 0, 1, 0, 1, 0, 0, 0, 0, 0, 0, 0, 1, 0, 1, 0, 0, 0, 0, 0, 1, 1, 0, 0, 1, 0, 0, 0, 1, 1, 0, 0, 0, 0, 0, 0, 1, 1, 1, 1, 1]\n"
     ]
    }
   ],
   "source": [
    "# predict the churn values\n",
    "y_set_preds = model.predict(X_test)\n",
    "print(y_set_preds)\n",
    "# unscaling the ypred values \n",
    "y_set_preds_lis = []\n",
    "for i in y_set_preds:\n",
    "    if i>0.5:\n",
    "        y_set_preds_lis.append(1)\n",
    "    else:\n",
    "        y_set_preds_lis.append(0)\n",
    "print(y_pred_lis)"
   ]
  },
  {
   "cell_type": "code",
   "execution_count": 393,
   "id": "c26fb03e",
   "metadata": {},
   "outputs": [
    {
     "data": {
      "text/html": [
       "<div>\n",
       "<style scoped>\n",
       "    .dataframe tbody tr th:only-of-type {\n",
       "        vertical-align: middle;\n",
       "    }\n",
       "\n",
       "    .dataframe tbody tr th {\n",
       "        vertical-align: top;\n",
       "    }\n",
       "\n",
       "    .dataframe thead th {\n",
       "        text-align: right;\n",
       "    }\n",
       "</style>\n",
       "<table border=\"1\" class=\"dataframe\">\n",
       "  <thead>\n",
       "    <tr style=\"text-align: right;\">\n",
       "      <th></th>\n",
       "      <th>orignal_churn</th>\n",
       "      <th>predicted_churn</th>\n",
       "    </tr>\n",
       "  </thead>\n",
       "  <tbody>\n",
       "    <tr>\n",
       "      <th>2660</th>\n",
       "      <td>0</td>\n",
       "      <td>0</td>\n",
       "    </tr>\n",
       "    <tr>\n",
       "      <th>744</th>\n",
       "      <td>0</td>\n",
       "      <td>1</td>\n",
       "    </tr>\n",
       "    <tr>\n",
       "      <th>5579</th>\n",
       "      <td>1</td>\n",
       "      <td>0</td>\n",
       "    </tr>\n",
       "    <tr>\n",
       "      <th>64</th>\n",
       "      <td>1</td>\n",
       "      <td>1</td>\n",
       "    </tr>\n",
       "    <tr>\n",
       "      <th>3287</th>\n",
       "      <td>1</td>\n",
       "      <td>0</td>\n",
       "    </tr>\n",
       "    <tr>\n",
       "      <th>816</th>\n",
       "      <td>1</td>\n",
       "      <td>1</td>\n",
       "    </tr>\n",
       "    <tr>\n",
       "      <th>2670</th>\n",
       "      <td>0</td>\n",
       "      <td>0</td>\n",
       "    </tr>\n",
       "    <tr>\n",
       "      <th>5920</th>\n",
       "      <td>0</td>\n",
       "      <td>0</td>\n",
       "    </tr>\n",
       "    <tr>\n",
       "      <th>1023</th>\n",
       "      <td>0</td>\n",
       "      <td>0</td>\n",
       "    </tr>\n",
       "    <tr>\n",
       "      <th>6087</th>\n",
       "      <td>0</td>\n",
       "      <td>0</td>\n",
       "    </tr>\n",
       "  </tbody>\n",
       "</table>\n",
       "</div>"
      ],
      "text/plain": [
       "      orignal_churn  predicted_churn\n",
       "2660              0                0\n",
       "744               0                1\n",
       "5579              1                0\n",
       "64                1                1\n",
       "3287              1                0\n",
       "816               1                1\n",
       "2670              0                0\n",
       "5920              0                0\n",
       "1023              0                0\n",
       "6087              0                0"
      ]
     },
     "execution_count": 393,
     "metadata": {},
     "output_type": "execute_result"
    }
   ],
   "source": [
    "#make dataframe for comparing the orignal and predict values\n",
    "data = {'orignal_churn':y_test, 'predicted_churn':y_set_preds_lis}\n",
    "df_check = pd.DataFrame(data)\n",
    "df_check.head(10)"
   ]
  },
  {
   "cell_type": "markdown",
   "id": "989d6ff6",
   "metadata": {},
   "source": [
    "## Summary and key finding"
   ]
  },
  {
   "cell_type": "markdown",
   "id": "561f4433",
   "metadata": {},
   "source": [
    "We trained an MLP model and got AUC for the test set=0.86, which can help to predict customers who are planning to churn.\n",
    "\n",
    "### Conclusion\n",
    "\n",
    "| | Classifier (Model) | Accuracy |\n",
    "|:------|:------|:------|\n",
    "|| ANN (MLP) | 81.90\n",
    "| After Hyperparameter tuning | gradient_boosting | 80.03 |\n",
    "| Before Hyperparameter tuning | gradient_boosting| 79.63 |\n",
    "| | logistic_regression | 79.23 |\n",
    "| | support_vector_machines | 78.78 |\n",
    "| | random_forest | 77.13 |\n",
    "| | k_nearest_neighbors | 75.31 |\n",
    "| | dummy_classifier | 74.51|\n",
    "\n",
    "\n",
    "Usually, ANNs take time to train a model, which can be difficult for a real-world situation. Therefore, it is better to start with a benchmark model like logistic regression and then, if a high accuracy is needed to train other more complicated models."
   ]
  },
  {
   "cell_type": "code",
   "execution_count": null,
   "id": "6c189f40",
   "metadata": {},
   "outputs": [],
   "source": []
  },
  {
   "cell_type": "code",
   "execution_count": null,
   "id": "0cc46f7c",
   "metadata": {},
   "outputs": [],
   "source": []
  },
  {
   "cell_type": "code",
   "execution_count": null,
   "id": "b62fb6f5",
   "metadata": {},
   "outputs": [],
   "source": []
  }
 ],
 "metadata": {
  "kernelspec": {
   "display_name": "Python 3 (ipykernel)",
   "language": "python",
   "name": "python3"
  },
  "language_info": {
   "codemirror_mode": {
    "name": "ipython",
    "version": 3
   },
   "file_extension": ".py",
   "mimetype": "text/x-python",
   "name": "python",
   "nbconvert_exporter": "python",
   "pygments_lexer": "ipython3",
   "version": "3.8.8"
  }
 },
 "nbformat": 4,
 "nbformat_minor": 5
}
